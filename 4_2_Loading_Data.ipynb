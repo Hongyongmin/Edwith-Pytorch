{
  "nbformat": 4,
  "nbformat_minor": 0,
  "metadata": {
    "kernelspec": {
      "display_name": "Python 3",
      "language": "python",
      "name": "python3"
    },
    "language_info": {
      "codemirror_mode": {
        "name": "ipython",
        "version": 3
      },
      "file_extension": ".py",
      "mimetype": "text/x-python",
      "name": "python",
      "nbconvert_exporter": "python",
      "pygments_lexer": "ipython3",
      "version": "3.8.3"
    },
    "colab": {
      "name": "4-2 Loading Data.ipynb",
      "provenance": [],
      "include_colab_link": true
    }
  },
  "cells": [
    {
      "cell_type": "markdown",
      "metadata": {
        "id": "view-in-github",
        "colab_type": "text"
      },
      "source": [
        "<a href=\"https://colab.research.google.com/github/Hongyongmin/Edwith-Pytorch/blob/main/4_2_Loading_Data.ipynb\" target=\"_parent\"><img src=\"https://colab.research.google.com/assets/colab-badge.svg\" alt=\"Open In Colab\"/></a>"
      ]
    },
    {
      "cell_type": "code",
      "metadata": {
        "id": "lH2D8V0fU6hs"
      },
      "source": [
        "import torch\n",
        "import torch.nn as nn\n",
        "import torch.nn.functional as F\n",
        "import torch.optim as optim\n",
        "\n",
        "from torch.utils.data import Dataset\n",
        "\n",
        "class CustomDataset(Dataset):\n",
        "    def __init__(self):\n",
        "        self.x_data = [[73, 80, 75],\n",
        "                      [93,88,93],\n",
        "                      [89,91,90],\n",
        "                      [96,98,100],\n",
        "                      [73,66,70]]\n",
        "        self.y_data = [[152],[185],[180],[196],[142]]\n",
        "        \n",
        "    def __len__(self):\n",
        "        return len(self.x_data)\n",
        "    \n",
        "    def __getitem__(self, idx):\n",
        "        x = torch.FloatTensor(self.x_data[idx])\n",
        "        y = torch.FloatTensor(self.y_data[idx])\n",
        "        \n",
        "        return x,y\n",
        "    \n",
        "dataset = CustomDataset()"
      ],
      "execution_count": null,
      "outputs": []
    },
    {
      "cell_type": "code",
      "metadata": {
        "id": "sO2qmqkzU6ht"
      },
      "source": [
        "from torch.utils.data import DataLoader\n",
        "\n",
        "dataloader = DataLoader(\n",
        "    dataset,\n",
        "    batch_size = 5,\n",
        "    shuffle = True,\n",
        ")"
      ],
      "execution_count": null,
      "outputs": []
    },
    {
      "cell_type": "code",
      "metadata": {
        "id": "8i5rMM-VU6hu"
      },
      "source": [
        "class MultivariateLinearRegressionModel(nn.Module):\n",
        "    def __init__(self):\n",
        "        super().__init__()\n",
        "        self.linear = nn.Linear(3, 1)\n",
        "\n",
        "    def forward(self, x):\n",
        "        return self.linear(x)"
      ],
      "execution_count": null,
      "outputs": []
    },
    {
      "cell_type": "code",
      "metadata": {
        "colab": {
          "base_uri": "https://localhost:8080/"
        },
        "id": "BKp_EQLLU6hu",
        "outputId": "5532426c-49da-4fde-b9d1-62215b3d0f2f"
      },
      "source": [
        "nb_epochs = 20\n",
        "\n",
        "model = MultivariateLinearRegressionModel()\n",
        "\n",
        "optimizer = optim.SGD(model.parameters(), lr = 1e-5)\n",
        "\n",
        "for epoch in range(nb_epochs +1):\n",
        "    for batch_idx, samples in enumerate(dataloader):\n",
        "        x_train, y_train = samples\n",
        "        \n",
        "        prediction = model(x_train)\n",
        "        \n",
        "        cost = F.mse_loss(prediction, y_train)\n",
        "        \n",
        "        optimizer.zero_grad()\n",
        "        cost.backward()\n",
        "        optimizer.step()\n",
        "        \n",
        "        print('Epoch {:4d}/{} Batch {}/{} Cost: {:6f}'.format(\n",
        "            epoch, nb_epochs, batch_idx+1, len(dataloader),\n",
        "            cost.item()\n",
        "        ))"
      ],
      "execution_count": null,
      "outputs": [
        {
          "output_type": "stream",
          "text": [
            "Epoch    0/20 Batch 1/1 Cost: 31435.396484\n",
            "Epoch    1/20 Batch 1/1 Cost: 9856.013672\n",
            "Epoch    2/20 Batch 1/1 Cost: 3092.022217\n",
            "Epoch    3/20 Batch 1/1 Cost: 971.869812\n",
            "Epoch    4/20 Batch 1/1 Cost: 307.313049\n",
            "Epoch    5/20 Batch 1/1 Cost: 99.008446\n",
            "Epoch    6/20 Batch 1/1 Cost: 33.715027\n",
            "Epoch    7/20 Batch 1/1 Cost: 13.247899\n",
            "Epoch    8/20 Batch 1/1 Cost: 6.831361\n",
            "Epoch    9/20 Batch 1/1 Cost: 4.818986\n",
            "Epoch   10/20 Batch 1/1 Cost: 4.187083\n",
            "Epoch   11/20 Batch 1/1 Cost: 3.987860\n",
            "Epoch   12/20 Batch 1/1 Cost: 3.924302\n",
            "Epoch   13/20 Batch 1/1 Cost: 3.903227\n",
            "Epoch   14/20 Batch 1/1 Cost: 3.895480\n",
            "Epoch   15/20 Batch 1/1 Cost: 3.891931\n",
            "Epoch   16/20 Batch 1/1 Cost: 3.889651\n",
            "Epoch   17/20 Batch 1/1 Cost: 3.887831\n",
            "Epoch   18/20 Batch 1/1 Cost: 3.886125\n",
            "Epoch   19/20 Batch 1/1 Cost: 3.884449\n",
            "Epoch   20/20 Batch 1/1 Cost: 3.882773\n"
          ],
          "name": "stdout"
        }
      ]
    },
    {
      "cell_type": "markdown",
      "metadata": {
        "id": "B1R8eDGgU6hv"
      },
      "source": [
        "위 처럼 배치를 나누어서 테스트를 할 수도 있음\n",
        "\n",
        "Cost도 전체적으로 감소한 느낌"
      ]
    },
    {
      "cell_type": "code",
      "metadata": {
        "id": "o9zz4TosU6hw"
      },
      "source": [
        ""
      ],
      "execution_count": null,
      "outputs": []
    }
  ]
}