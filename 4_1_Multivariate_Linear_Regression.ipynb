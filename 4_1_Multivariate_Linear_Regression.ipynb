{
  "nbformat": 4,
  "nbformat_minor": 0,
  "metadata": {
    "kernelspec": {
      "display_name": "Python 3",
      "language": "python",
      "name": "python3"
    },
    "language_info": {
      "codemirror_mode": {
        "name": "ipython",
        "version": 3
      },
      "file_extension": ".py",
      "mimetype": "text/x-python",
      "name": "python",
      "nbconvert_exporter": "python",
      "pygments_lexer": "ipython3",
      "version": "3.8.3"
    },
    "colab": {
      "name": "4-1. Multivariate Linear Regression.ipynb",
      "provenance": [],
      "include_colab_link": true
    }
  },
  "cells": [
    {
      "cell_type": "markdown",
      "metadata": {
        "id": "view-in-github",
        "colab_type": "text"
      },
      "source": [
        "<a href=\"https://colab.research.google.com/github/Hongyongmin/Edwith-Pytorch/blob/main/4_1_Multivariate_Linear_Regression.ipynb\" target=\"_parent\"><img src=\"https://colab.research.google.com/assets/colab-badge.svg\" alt=\"Open In Colab\"/></a>"
      ]
    },
    {
      "cell_type": "code",
      "metadata": {
        "id": "B-bfPz9Zv5Sx"
      },
      "source": [
        "import torch\n",
        "import torch.optim as optim"
      ],
      "execution_count": null,
      "outputs": []
    },
    {
      "cell_type": "code",
      "metadata": {
        "id": "n1jdjSu2v5S9"
      },
      "source": [
        "x_train = torch.FloatTensor([[73, 80, 75],\n",
        "                            [93, 88, 93],\n",
        "                            [89, 91, 90],\n",
        "                            [96, 98, 100],\n",
        "                            [73, 66, 70]])\n",
        "y_train = torch.FloatTensor([[152],[185], [180],[196],[142]])\n",
        "\n",
        "W = torch.zeros((3,1), requires_grad=True)\n",
        "b = torch.zeros(1, requires_grad=True)\n",
        "\n",
        "optimizer = optim.SGD([W,b], lr=1e-5)"
      ],
      "execution_count": null,
      "outputs": []
    },
    {
      "cell_type": "code",
      "metadata": {
        "id": "R6jah9IMv5S-",
        "outputId": "626d9178-098c-442f-f459-af5edd1f327f"
      },
      "source": [
        "nb_epochs = 20\n",
        "for epoch in range(nb_epochs + 1):\n",
        "    \n",
        "    hypothesis = x_train.matmul(W) + b\n",
        "    \n",
        "    cost = torch.mean((hypothesis - y_train) ** 2)\n",
        "    \n",
        "    optimizer.zero_grad()\n",
        "    cost.backward()\n",
        "    optimizer.step()\n",
        "    \n",
        "    print('Epoch {:4d}/{} hypothesis: {} Cost: {:.6f}'.format(\n",
        "        epoch, nb_epochs, hypothesis.squeeze().detach(),\n",
        "        cost.item()\n",
        "    ))"
      ],
      "execution_count": null,
      "outputs": [
        {
          "output_type": "stream",
          "text": [
            "Epoch    0/20 hypothesis: tensor([0., 0., 0., 0., 0.]) Cost: 29661.800781\n",
            "Epoch    1/20 hypothesis: tensor([67.2578, 80.8397, 79.6523, 86.7394, 61.6605]) Cost: 9298.520508\n",
            "Epoch    2/20 hypothesis: tensor([104.9128, 126.0990, 124.2466, 135.3015,  96.1821]) Cost: 2915.712646\n",
            "Epoch    3/20 hypothesis: tensor([125.9942, 151.4381, 149.2133, 162.4896, 115.5097]) Cost: 915.040527\n",
            "Epoch    4/20 hypothesis: tensor([137.7968, 165.6247, 163.1911, 177.7112, 126.3307]) Cost: 287.936005\n",
            "Epoch    5/20 hypothesis: tensor([144.4044, 173.5674, 171.0168, 186.2332, 132.3891]) Cost: 91.371017\n",
            "Epoch    6/20 hypothesis: tensor([148.1035, 178.0144, 175.3980, 191.0042, 135.7812]) Cost: 29.758139\n",
            "Epoch    7/20 hypothesis: tensor([150.1744, 180.5042, 177.8508, 193.6753, 137.6805]) Cost: 10.445305\n",
            "Epoch    8/20 hypothesis: tensor([151.3336, 181.8983, 179.2240, 195.1707, 138.7440]) Cost: 4.391228\n",
            "Epoch    9/20 hypothesis: tensor([151.9824, 182.6789, 179.9928, 196.0079, 139.3396]) Cost: 2.493135\n",
            "Epoch   10/20 hypothesis: tensor([152.3454, 183.1161, 180.4231, 196.4765, 139.6732]) Cost: 1.897688\n",
            "Epoch   11/20 hypothesis: tensor([152.5485, 183.3610, 180.6640, 196.7389, 139.8602]) Cost: 1.710541\n",
            "Epoch   12/20 hypothesis: tensor([152.6620, 183.4982, 180.7988, 196.8857, 139.9651]) Cost: 1.651413\n",
            "Epoch   13/20 hypothesis: tensor([152.7253, 183.5752, 180.8742, 196.9678, 140.0240]) Cost: 1.632387\n",
            "Epoch   14/20 hypothesis: tensor([152.7606, 183.6184, 180.9164, 197.0138, 140.0571]) Cost: 1.625923\n",
            "Epoch   15/20 hypothesis: tensor([152.7802, 183.6427, 180.9399, 197.0395, 140.0759]) Cost: 1.623412\n",
            "Epoch   16/20 hypothesis: tensor([152.7909, 183.6565, 180.9530, 197.0538, 140.0865]) Cost: 1.622141\n",
            "Epoch   17/20 hypothesis: tensor([152.7968, 183.6643, 180.9603, 197.0618, 140.0927]) Cost: 1.621253\n",
            "Epoch   18/20 hypothesis: tensor([152.7999, 183.6688, 180.9644, 197.0662, 140.0963]) Cost: 1.620500\n",
            "Epoch   19/20 hypothesis: tensor([152.8014, 183.6715, 180.9666, 197.0686, 140.0985]) Cost: 1.619770\n",
            "Epoch   20/20 hypothesis: tensor([152.8020, 183.6731, 180.9677, 197.0699, 140.1000]) Cost: 1.619033\n"
          ],
          "name": "stdout"
        }
      ]
    },
    {
      "cell_type": "code",
      "metadata": {
        "colab": {
          "base_uri": "https://localhost:8080/",
          "height": 136
        },
        "id": "qGy65GZ9v5TA",
        "outputId": "07c71af3-810f-4e98-91e9-858f5f4e7397"
      },
      "source": [
        "import torch.nn as nn\n",
        "import torch.nn.functional as F\n",
        "\n",
        "class MultivariateLinearRegressionModel(nn.Module):\n",
        "    def __init__(self):\n",
        "        super().__init__()\n",
        "        self.linear = nn.Linear(3,1)\n",
        "        \n",
        "    def forward(self, x):\n",
        "        return self.linear(x)\n",
        "\n"
      ],
      "execution_count": null,
      "outputs": [
        {
          "output_type": "error",
          "ename": "SyntaxError",
          "evalue": "ignored",
          "traceback": [
            "\u001b[0;36m  File \u001b[0;32m\"<ipython-input-1-4ed956197bf6>\"\u001b[0;36m, line \u001b[0;32m13\u001b[0m\n\u001b[0;31m    \u001b[0m\n\u001b[0m    ^\u001b[0m\n\u001b[0;31mSyntaxError\u001b[0m\u001b[0;31m:\u001b[0m unexpected EOF while parsing\n"
          ]
        }
      ]
    },
    {
      "cell_type": "code",
      "metadata": {
        "id": "Q8geNw_iv5TB",
        "outputId": "eea25c4b-f5ca-4626-c947-9a2605e05a39"
      },
      "source": [
        "x_train = torch.FloatTensor([[73, 80, 75],\n",
        "                            [93, 88, 93],\n",
        "                            [89, 91, 90],\n",
        "                            [96, 98, 100],\n",
        "                            [73, 66, 70]])\n",
        "y_train = torch.FloatTensor([[152],[185],[180],[196],[142]])\n",
        "\n",
        "model = MultivariateLinearRegressionModel()\n",
        "\n",
        "optimizer = optim.SGD(model.parameters(), lr = 1e-5)\n",
        "\n",
        "nb_epochs = 20\n",
        "for epoch in range(nb_epochs+1):\n",
        "    \n",
        "    hypothesis = model(x_train)\n",
        "    cost = F.mse_loss(hypothesis, y_train)\n",
        "    \n",
        "    optimizer.zero_grad()\n",
        "    cost.backward()\n",
        "    optimizer.step()\n",
        "    \n",
        "    print('Epoch {:4d}/{} hypothesis: {} Cost: {:.6f}'.format(\n",
        "        epoch, nb_epochs, hypothesis.squeeze().detach(),cost.item()\n",
        "    ))"
      ],
      "execution_count": null,
      "outputs": [
        {
          "output_type": "stream",
          "text": [
            "Epoch    0/20 hypothesis: tensor([45.4668, 52.4138, 52.9225, 56.0747, 40.7092]) Cost: 14983.208008\n",
            "Epoch    1/20 hypothesis: tensor([ 93.2654, 109.8653, 109.5298, 117.7188,  84.5305]) Cost: 4698.342285\n",
            "Epoch    2/20 hypothesis: tensor([120.0257, 142.0305, 141.2221, 152.2310, 109.0647]) Cost: 1474.583618\n",
            "Epoch    3/20 hypothesis: tensor([135.0076, 160.0388, 158.9654, 171.5531, 122.8007]) Cost: 464.104492\n",
            "Epoch    4/20 hypothesis: tensor([143.3952, 170.1212, 168.8991, 182.3707, 130.4912]) Cost: 147.372437\n",
            "Epoch    5/20 hypothesis: tensor([148.0908, 175.7661, 174.4605, 188.4271, 134.7971]) Cost: 48.092613\n",
            "Epoch    6/20 hypothesis: tensor([150.7194, 178.9267, 177.5741, 191.8177, 137.2081]) Cost: 16.972876\n",
            "Epoch    7/20 hypothesis: tensor([152.1908, 180.6964, 179.3172, 193.7160, 138.5581]) Cost: 7.217477\n",
            "Epoch    8/20 hypothesis: tensor([153.0143, 181.6873, 180.2930, 194.7787, 139.3142]) Cost: 4.158685\n",
            "Epoch    9/20 hypothesis: tensor([153.4751, 182.2424, 180.8392, 195.3736, 139.7377]) Cost: 3.198978\n",
            "Epoch   10/20 hypothesis: tensor([153.7328, 182.5532, 181.1449, 195.7066, 139.9751]) Cost: 2.897260\n",
            "Epoch   11/20 hypothesis: tensor([153.8768, 182.7275, 181.3160, 195.8930, 140.1082]) Cost: 2.801728\n",
            "Epoch   12/20 hypothesis: tensor([153.9571, 182.8252, 181.4117, 195.9973, 140.1830]) Cost: 2.770868\n",
            "Epoch   13/20 hypothesis: tensor([154.0018, 182.8802, 181.4652, 196.0556, 140.2251]) Cost: 2.760223\n",
            "Epoch   14/20 hypothesis: tensor([154.0266, 182.9111, 181.4951, 196.0883, 140.2489]) Cost: 2.755973\n",
            "Epoch   15/20 hypothesis: tensor([154.0402, 182.9286, 181.5117, 196.1065, 140.2625]) Cost: 2.753687\n",
            "Epoch   16/20 hypothesis: tensor([154.0475, 182.9386, 181.5210, 196.1166, 140.2704]) Cost: 2.752063\n",
            "Epoch   17/20 hypothesis: tensor([154.0513, 182.9444, 181.5260, 196.1222, 140.2750]) Cost: 2.750590\n",
            "Epoch   18/20 hypothesis: tensor([154.0532, 182.9478, 181.5288, 196.1253, 140.2778]) Cost: 2.749218\n",
            "Epoch   19/20 hypothesis: tensor([154.0540, 182.9499, 181.5302, 196.1270, 140.2796]) Cost: 2.747835\n",
            "Epoch   20/20 hypothesis: tensor([154.0542, 182.9512, 181.5310, 196.1279, 140.2809]) Cost: 2.746505\n"
          ],
          "name": "stdout"
        }
      ]
    },
    {
      "cell_type": "code",
      "metadata": {
        "id": "FgeTm97Tv5TE"
      },
      "source": [
        ""
      ],
      "execution_count": null,
      "outputs": []
    }
  ]
}