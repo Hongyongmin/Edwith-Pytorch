{
  "nbformat": 4,
  "nbformat_minor": 0,
  "metadata": {
    "colab": {
      "name": "11_6 PackedSequence",
      "provenance": [],
      "authorship_tag": "ABX9TyPasYhRcQPNuIGDMpcGfciL",
      "include_colab_link": true
    },
    "kernelspec": {
      "name": "python3",
      "display_name": "Python 3"
    }
  },
  "cells": [
    {
      "cell_type": "markdown",
      "metadata": {
        "id": "view-in-github",
        "colab_type": "text"
      },
      "source": [
        "<a href=\"https://colab.research.google.com/github/Hongyongmin/Edwith-Pytorch/blob/main/11_6_PackedSequence.ipynb\" target=\"_parent\"><img src=\"https://colab.research.google.com/assets/colab-badge.svg\" alt=\"Open In Colab\"/></a>"
      ]
    },
    {
      "cell_type": "code",
      "metadata": {
        "id": "fv7ryRQsaf8R"
      },
      "source": [
        "import torch\r\n",
        "import numpy as np\r\n",
        "from torch.nn.utils.rnn import pad_sequence, pack_sequence, pack_padded_sequence, pad_packed_sequence"
      ],
      "execution_count": 1,
      "outputs": []
    },
    {
      "cell_type": "code",
      "metadata": {
        "colab": {
          "base_uri": "https://localhost:8080/"
        },
        "id": "3WDmeJQIdmmQ",
        "outputId": "a25a4253-e6c1-4466-e3ee-04bcf5b6e25a"
      },
      "source": [
        "data = ['hello world',\r\n",
        "        'midnight',\r\n",
        "        'calculation',\r\n",
        "        'path',\r\n",
        "        'short circuit']\r\n",
        "\r\n",
        "char_set = ['<pad>'] + list(set(char for seq in data for char in seq)) \r\n",
        "char2idx = {char: idx for idx, char in enumerate(char_set)} \r\n",
        "print('char_set:', char_set)\r\n",
        "print('char_set length:', len(char_set))"
      ],
      "execution_count": 2,
      "outputs": [
        {
          "output_type": "stream",
          "text": [
            "char_set: ['<pad>', 'd', 'i', 'u', 'm', 'o', 'p', 'w', ' ', 'n', 'h', 'e', 'r', 's', 'g', 'a', 't', 'c', 'l']\n",
            "char_set length: 19\n"
          ],
          "name": "stdout"
        }
      ]
    },
    {
      "cell_type": "code",
      "metadata": {
        "colab": {
          "base_uri": "https://localhost:8080/"
        },
        "id": "xRLPsX4dds85",
        "outputId": "c2f1703b-39b1-456b-8fd8-71f4b7f24af6"
      },
      "source": [
        "X = [torch.LongTensor([char2idx[char] for char in seq]) for seq in data]\r\n",
        "\r\n",
        "for sequence in X:\r\n",
        "    print(sequence)"
      ],
      "execution_count": 3,
      "outputs": [
        {
          "output_type": "stream",
          "text": [
            "tensor([10, 11, 18, 18,  5,  8,  7,  5, 12, 18,  1])\n",
            "tensor([ 4,  2,  1,  9,  2, 14, 10, 16])\n",
            "tensor([17, 15, 18, 17,  3, 18, 15, 16,  2,  5,  9])\n",
            "tensor([ 6, 15, 16, 10])\n",
            "tensor([13, 10,  5, 12, 16,  8, 17,  2, 12, 17,  3,  2, 16])\n"
          ],
          "name": "stdout"
        }
      ]
    },
    {
      "cell_type": "code",
      "metadata": {
        "colab": {
          "base_uri": "https://localhost:8080/"
        },
        "id": "0RwY2kQ5dvwn",
        "outputId": "e0a0bc58-117f-472a-b9a1-e82b1d6fa1e8"
      },
      "source": [
        "lengths = [len(seq) for seq in X]\r\n",
        "print('lengths:', lengths)"
      ],
      "execution_count": 4,
      "outputs": [
        {
          "output_type": "stream",
          "text": [
            "lengths: [11, 8, 11, 4, 13]\n"
          ],
          "name": "stdout"
        }
      ]
    },
    {
      "cell_type": "code",
      "metadata": {
        "colab": {
          "base_uri": "https://localhost:8080/"
        },
        "id": "7BbuOJgRdzz1",
        "outputId": "f5bdc877-7137-479b-9af1-6642d73cd968"
      },
      "source": [
        "padded_sequence = pad_sequence(X, batch_first=True)\r\n",
        "print(padded_sequence)\r\n",
        "print(padded_sequence.shape)"
      ],
      "execution_count": 5,
      "outputs": [
        {
          "output_type": "stream",
          "text": [
            "tensor([[10, 11, 18, 18,  5,  8,  7,  5, 12, 18,  1,  0,  0],\n",
            "        [ 4,  2,  1,  9,  2, 14, 10, 16,  0,  0,  0,  0,  0],\n",
            "        [17, 15, 18, 17,  3, 18, 15, 16,  2,  5,  9,  0,  0],\n",
            "        [ 6, 15, 16, 10,  0,  0,  0,  0,  0,  0,  0,  0,  0],\n",
            "        [13, 10,  5, 12, 16,  8, 17,  2, 12, 17,  3,  2, 16]])\n",
            "torch.Size([5, 13])\n"
          ],
          "name": "stdout"
        }
      ]
    },
    {
      "cell_type": "code",
      "metadata": {
        "colab": {
          "base_uri": "https://localhost:8080/"
        },
        "id": "67JUbfl2d1mR",
        "outputId": "b7d98d8d-72ce-4519-f82e-4b3c123fa6da"
      },
      "source": [
        "sorted_idx = sorted(range(len(lengths)), key=lengths.__getitem__, reverse=True)\r\n",
        "sorted_X = [X[idx] for idx in sorted_idx]\r\n",
        "\r\n",
        "for sequence in sorted_X:\r\n",
        "    print(sequence)"
      ],
      "execution_count": 6,
      "outputs": [
        {
          "output_type": "stream",
          "text": [
            "tensor([13, 10,  5, 12, 16,  8, 17,  2, 12, 17,  3,  2, 16])\n",
            "tensor([10, 11, 18, 18,  5,  8,  7,  5, 12, 18,  1])\n",
            "tensor([17, 15, 18, 17,  3, 18, 15, 16,  2,  5,  9])\n",
            "tensor([ 4,  2,  1,  9,  2, 14, 10, 16])\n",
            "tensor([ 6, 15, 16, 10])\n"
          ],
          "name": "stdout"
        }
      ]
    },
    {
      "cell_type": "code",
      "metadata": {
        "colab": {
          "base_uri": "https://localhost:8080/"
        },
        "id": "nRkEPMkVd4Fc",
        "outputId": "05cc8d81-d357-4ad0-9fb0-6077fba44edc"
      },
      "source": [
        "packed_sequence = pack_sequence(sorted_X)\r\n",
        "print(packed_sequence)"
      ],
      "execution_count": 7,
      "outputs": [
        {
          "output_type": "stream",
          "text": [
            "PackedSequence(data=tensor([13, 10, 17,  4,  6, 10, 11, 15,  2, 15,  5, 18, 18,  1, 16, 12, 18, 17,\n",
            "         9, 10, 16,  5,  3,  2,  8,  8, 18, 14, 17,  7, 15, 10,  2,  5, 16, 16,\n",
            "        12, 12,  2, 17, 18,  5,  3,  1,  9,  2, 16]), batch_sizes=tensor([5, 5, 5, 5, 4, 4, 4, 4, 3, 3, 3, 1, 1]), sorted_indices=None, unsorted_indices=None)\n"
          ],
          "name": "stdout"
        }
      ]
    },
    {
      "cell_type": "code",
      "metadata": {
        "colab": {
          "base_uri": "https://localhost:8080/"
        },
        "id": "-nwNQw_ld5c2",
        "outputId": "c5809451-b740-45db-a445-0d8534763053"
      },
      "source": [
        "eye = torch.eye(len(char_set)) # Identity matrix of shape (len(char_set), len(char_set))\r\n",
        "embedded_tensor = eye[padded_sequence]\r\n",
        "print(embedded_tensor.shape)"
      ],
      "execution_count": 8,
      "outputs": [
        {
          "output_type": "stream",
          "text": [
            "torch.Size([5, 13, 19])\n"
          ],
          "name": "stdout"
        }
      ]
    },
    {
      "cell_type": "code",
      "metadata": {
        "colab": {
          "base_uri": "https://localhost:8080/"
        },
        "id": "O9qu6pH_d7MT",
        "outputId": "8619b3ae-0c6e-42a2-a923-6b78c6627144"
      },
      "source": [
        "embedded_packed_seq = pack_sequence([eye[X[idx]] for idx in sorted_idx])\r\n",
        "print(embedded_packed_seq.data.shape)"
      ],
      "execution_count": 9,
      "outputs": [
        {
          "output_type": "stream",
          "text": [
            "torch.Size([47, 19])\n"
          ],
          "name": "stdout"
        }
      ]
    },
    {
      "cell_type": "code",
      "metadata": {
        "id": "oiJVeqwHd86w"
      },
      "source": [
        "rnn = torch.nn.RNN(input_size=len(char_set), hidden_size=30, batch_first=True)\r\n"
      ],
      "execution_count": 10,
      "outputs": []
    },
    {
      "cell_type": "code",
      "metadata": {
        "colab": {
          "base_uri": "https://localhost:8080/"
        },
        "id": "4Swijb1qd9__",
        "outputId": "17d97fae-3f75-4668-a002-d488f47685d6"
      },
      "source": [
        "rnn_output, hidden = rnn(embedded_tensor)\r\n",
        "print(rnn_output.shape)\r\n",
        "print(hidden.shape)"
      ],
      "execution_count": 11,
      "outputs": [
        {
          "output_type": "stream",
          "text": [
            "torch.Size([5, 13, 30])\n",
            "torch.Size([1, 5, 30])\n"
          ],
          "name": "stdout"
        }
      ]
    },
    {
      "cell_type": "code",
      "metadata": {
        "colab": {
          "base_uri": "https://localhost:8080/"
        },
        "id": "9VBF3hgQd_qJ",
        "outputId": "ba3a6b33-66b4-40ca-bef5-c48b575f21c7"
      },
      "source": [
        "rnn_output, hidden = rnn(embedded_packed_seq)\r\n",
        "print(rnn_output.data.shape)\r\n",
        "print(hidden.data.shape)"
      ],
      "execution_count": 12,
      "outputs": [
        {
          "output_type": "stream",
          "text": [
            "torch.Size([47, 30])\n",
            "torch.Size([1, 5, 30])\n"
          ],
          "name": "stdout"
        }
      ]
    },
    {
      "cell_type": "code",
      "metadata": {
        "colab": {
          "base_uri": "https://localhost:8080/"
        },
        "id": "ZgffJXh7eAuK",
        "outputId": "931a5cec-7521-4de5-ff4d-787b3dd2882f"
      },
      "source": [
        "unpacked_sequence, seq_lengths = pad_packed_sequence(embedded_packed_seq, batch_first=True)\r\n",
        "print(unpacked_sequence.shape)\r\n",
        "print(seq_lengths)"
      ],
      "execution_count": 13,
      "outputs": [
        {
          "output_type": "stream",
          "text": [
            "torch.Size([5, 13, 19])\n",
            "tensor([13, 11, 11,  8,  4])\n"
          ],
          "name": "stdout"
        }
      ]
    },
    {
      "cell_type": "code",
      "metadata": {
        "colab": {
          "base_uri": "https://localhost:8080/"
        },
        "id": "9n7cxKHreCQI",
        "outputId": "cbbad700-81d1-4172-c08d-35111cec95bf"
      },
      "source": [
        "embedded_padded_sequence = eye[pad_sequence(sorted_X, batch_first=True)]\r\n",
        "print(embedded_padded_sequence.shape)"
      ],
      "execution_count": 14,
      "outputs": [
        {
          "output_type": "stream",
          "text": [
            "torch.Size([5, 13, 19])\n"
          ],
          "name": "stdout"
        }
      ]
    },
    {
      "cell_type": "code",
      "metadata": {
        "colab": {
          "base_uri": "https://localhost:8080/"
        },
        "id": "ILZxa1EheEZy",
        "outputId": "71923b17-27c4-4f0e-e920-a6dd389f9242"
      },
      "source": [
        "sorted_lengths = sorted(lengths, reverse=True)\r\n",
        "new_packed_sequence = pack_padded_sequence(embedded_padded_sequence, sorted_lengths, batch_first=True)\r\n",
        "print(new_packed_sequence.data.shape)\r\n",
        "print(new_packed_sequence.batch_sizes)"
      ],
      "execution_count": 15,
      "outputs": [
        {
          "output_type": "stream",
          "text": [
            "torch.Size([47, 19])\n",
            "tensor([5, 5, 5, 5, 4, 4, 4, 4, 3, 3, 3, 1, 1])\n"
          ],
          "name": "stdout"
        }
      ]
    },
    {
      "cell_type": "code",
      "metadata": {
        "id": "6wGouxNZeGvz"
      },
      "source": [
        ""
      ],
      "execution_count": null,
      "outputs": []
    }
  ]
}