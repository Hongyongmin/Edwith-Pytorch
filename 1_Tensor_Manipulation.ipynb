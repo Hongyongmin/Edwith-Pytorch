{
  "nbformat": 4,
  "nbformat_minor": 0,
  "metadata": {
    "kernelspec": {
      "display_name": "Python 3",
      "language": "python",
      "name": "python3"
    },
    "language_info": {
      "codemirror_mode": {
        "name": "ipython",
        "version": 3
      },
      "file_extension": ".py",
      "mimetype": "text/x-python",
      "name": "python",
      "nbconvert_exporter": "python",
      "pygments_lexer": "ipython3",
      "version": "3.8.3"
    },
    "colab": {
      "name": "1.Tensor Manipulation.ipynb",
      "provenance": [],
      "include_colab_link": true
    }
  },
  "cells": [
    {
      "cell_type": "markdown",
      "metadata": {
        "id": "view-in-github",
        "colab_type": "text"
      },
      "source": [
        "<a href=\"https://colab.research.google.com/github/Hongyongmin/Edwith-Pytorch/blob/main/1_Tensor_Manipulation.ipynb\" target=\"_parent\"><img src=\"https://colab.research.google.com/assets/colab-badge.svg\" alt=\"Open In Colab\"/></a>"
      ]
    },
    {
      "cell_type": "code",
      "metadata": {
        "id": "WTY28tCrz9fl"
      },
      "source": [
        "import numpy as np\n",
        "import torch"
      ],
      "execution_count": null,
      "outputs": []
    },
    {
      "cell_type": "code",
      "metadata": {
        "id": "OO4nvDd3z9fr",
        "outputId": "0b331d6a-0485-48ea-fdc4-680182309a35"
      },
      "source": [
        "t = np.array([0.,1.,2.,3.,4.,5.,6.])\n",
        "print(t)"
      ],
      "execution_count": null,
      "outputs": [
        {
          "output_type": "stream",
          "text": [
            "[0. 1. 2. 3. 4. 5. 6.]\n"
          ],
          "name": "stdout"
        }
      ]
    },
    {
      "cell_type": "markdown",
      "metadata": {
        "id": "M34J1tVgz9fs"
      },
      "source": [
        "## NumPy Review"
      ]
    },
    {
      "cell_type": "markdown",
      "metadata": {
        "id": "yc7vktjfz9ft"
      },
      "source": [
        "# 1D Array with Numpy "
      ]
    },
    {
      "cell_type": "code",
      "metadata": {
        "id": "DsrgJ62nz9ft",
        "outputId": "cbfbde7f-c691-42e4-be6a-aa20ed760fb3"
      },
      "source": [
        "print('Rank of t: ', t.ndim)\n",
        "print('Shape of t:', t.shape)"
      ],
      "execution_count": null,
      "outputs": [
        {
          "output_type": "stream",
          "text": [
            "Rank of t:  1\n",
            "Shape of t: (7,)\n"
          ],
          "name": "stdout"
        }
      ]
    },
    {
      "cell_type": "code",
      "metadata": {
        "id": "vKWN8tWyz9ft",
        "outputId": "b3aad78c-a4d1-4e50-f8a6-ae97223c4513"
      },
      "source": [
        "print('t[0] t[1] t[-1] =', t[0], t[1], t[-1])\n",
        "print('t[2:5] t[4:-1] =', t[2:5], t[4:-1])\n",
        "print('t[:2] t[3:] =', t[:2], t[3:])"
      ],
      "execution_count": null,
      "outputs": [
        {
          "output_type": "stream",
          "text": [
            "t[0] t[1] t[-1] = 0.0 1.0 6.0\n",
            "t[2:5] t[4:-1] = [2. 3. 4.] [4. 5.]\n",
            "t[:2] t[3:] = [0. 1.] [3. 4. 5. 6.]\n"
          ],
          "name": "stdout"
        }
      ]
    },
    {
      "cell_type": "markdown",
      "metadata": {
        "id": "suZrp0CSz9fu"
      },
      "source": [
        "# 2D Array with Numpy"
      ]
    },
    {
      "cell_type": "code",
      "metadata": {
        "id": "4Iicxx-Wz9fu",
        "outputId": "356830c5-da1e-4a99-983b-8c81b917ef19"
      },
      "source": [
        "t = np.array([[1.,2.,3.],[4.,5.,6.],[7.,8.,9.],[10.,11.,12.]])\n",
        "print(t)"
      ],
      "execution_count": null,
      "outputs": [
        {
          "output_type": "stream",
          "text": [
            "[[ 1.  2.  3.]\n",
            " [ 4.  5.  6.]\n",
            " [ 7.  8.  9.]\n",
            " [10. 11. 12.]]\n"
          ],
          "name": "stdout"
        }
      ]
    },
    {
      "cell_type": "code",
      "metadata": {
        "id": "v-cekGHYz9fv",
        "outputId": "3d5c87ea-f253-400a-bd81-bab683e14390"
      },
      "source": [
        "print('Rank of t:', t.ndim)\n",
        "print('Shape of t:', t.shape)"
      ],
      "execution_count": null,
      "outputs": [
        {
          "output_type": "stream",
          "text": [
            "Rank of t: 2\n",
            "Shape of t: (4, 3)\n"
          ],
          "name": "stdout"
        }
      ]
    },
    {
      "cell_type": "markdown",
      "metadata": {
        "id": "KckadFKCz9fv"
      },
      "source": [
        "## PyTorch Tensor"
      ]
    },
    {
      "cell_type": "markdown",
      "metadata": {
        "id": "eplrl5yWz9fv"
      },
      "source": [
        "# 1D Array with PyTorch"
      ]
    },
    {
      "cell_type": "code",
      "metadata": {
        "id": "Ohs5Jra5z9fw",
        "outputId": "4b36c68b-aeb8-422f-ef8d-f97039804b13"
      },
      "source": [
        "t = torch.FloatTensor([0.,1.,2.,3.,4.,5.,6.])\n",
        "print(t)"
      ],
      "execution_count": null,
      "outputs": [
        {
          "output_type": "stream",
          "text": [
            "tensor([0., 1., 2., 3., 4., 5., 6.])\n"
          ],
          "name": "stdout"
        }
      ]
    },
    {
      "cell_type": "code",
      "metadata": {
        "id": "3yNi3jyOz9fw",
        "outputId": "9b7c308f-f5bc-450a-c847-1f9a8d0371c4"
      },
      "source": [
        "print(t.dim())\n",
        "print(t.shape)\n",
        "print(t.size())\n",
        "print(t[0], t[1], t[-1])\n",
        "print(t[2:5], t[4:-1])\n",
        "print(t[:2], t[3:])"
      ],
      "execution_count": null,
      "outputs": [
        {
          "output_type": "stream",
          "text": [
            "1\n",
            "torch.Size([7])\n",
            "torch.Size([7])\n",
            "tensor(0.) tensor(1.) tensor(6.)\n",
            "tensor([2., 3., 4.]) tensor([4., 5.])\n",
            "tensor([0., 1.]) tensor([3., 4., 5., 6.])\n"
          ],
          "name": "stdout"
        }
      ]
    },
    {
      "cell_type": "markdown",
      "metadata": {
        "id": "j1I2JZXqz9fw"
      },
      "source": [
        "# 2D Array with PyTorch"
      ]
    },
    {
      "cell_type": "code",
      "metadata": {
        "id": "ukGMOeFSz9fw",
        "outputId": "1670323f-a543-40de-94f2-ee886e900287"
      },
      "source": [
        "t = torch.FloatTensor([[1.,2.,3.],\n",
        "                      [4.,5.,6.],\n",
        "                      [7.,8.,9.],\n",
        "                      [10.,11.,12]\n",
        "                      ])\n",
        "print(t)"
      ],
      "execution_count": null,
      "outputs": [
        {
          "output_type": "stream",
          "text": [
            "tensor([[ 1.,  2.,  3.],\n",
            "        [ 4.,  5.,  6.],\n",
            "        [ 7.,  8.,  9.],\n",
            "        [10., 11., 12.]])\n"
          ],
          "name": "stdout"
        }
      ]
    },
    {
      "cell_type": "code",
      "metadata": {
        "id": "zD_HZuWZz9fx",
        "outputId": "9e8e79c9-f5b0-4be2-dc61-9652c29bc86d"
      },
      "source": [
        "print(t.dim())\n",
        "print(t.size())\n",
        "print(t[:, 1])\n",
        "print(t[:, 1].size())\n",
        "print(t[:, :-1])"
      ],
      "execution_count": null,
      "outputs": [
        {
          "output_type": "stream",
          "text": [
            "2\n",
            "torch.Size([4, 3])\n",
            "tensor([ 2.,  5.,  8., 11.])\n",
            "torch.Size([4])\n",
            "tensor([[ 1.,  2.],\n",
            "        [ 4.,  5.],\n",
            "        [ 7.,  8.],\n",
            "        [10., 11.]])\n"
          ],
          "name": "stdout"
        }
      ]
    },
    {
      "cell_type": "markdown",
      "metadata": {
        "id": "GjxESWX7z9fx"
      },
      "source": [
        "## Broadcasting"
      ]
    },
    {
      "cell_type": "markdown",
      "metadata": {
        "id": "xCfmHOBwz9fx"
      },
      "source": [
        "PyTorch에서 서로 다른 차원의 Vector를 계산할때 자동으로 바꿔서 계산하게 해줌"
      ]
    },
    {
      "cell_type": "code",
      "metadata": {
        "id": "fzFcXqk1z9fx",
        "outputId": "42ca3efd-efa4-433b-d713-34ef22857c58"
      },
      "source": [
        "# Same shape\n",
        "m1 = torch.FloatTensor([[3,3]])\n",
        "m2 = torch.FloatTensor([[2,2]])\n",
        "print(m1+m2)"
      ],
      "execution_count": null,
      "outputs": [
        {
          "output_type": "stream",
          "text": [
            "tensor([[5., 5.]])\n"
          ],
          "name": "stdout"
        }
      ]
    },
    {
      "cell_type": "code",
      "metadata": {
        "id": "7FUwHwsRz9fy",
        "outputId": "e869e65d-69c7-4024-e54d-c9381728223f"
      },
      "source": [
        "# Vector + Scalar\n",
        "m1 = torch.FloatTensor([[1,2]])\n",
        "m2 = torch.FloatTensor([3])    # 3->[[3,3]]\n",
        "print(m1+m2)"
      ],
      "execution_count": null,
      "outputs": [
        {
          "output_type": "stream",
          "text": [
            "tensor([[4., 5.]])\n"
          ],
          "name": "stdout"
        }
      ]
    },
    {
      "cell_type": "code",
      "metadata": {
        "id": "6xtf8Q9Yz9fy",
        "outputId": "2798189f-bb38-4fc4-fd8d-72b23960c272"
      },
      "source": [
        "# 2x1 Vector + 1x2Vector\n",
        "m1 = torch.FloatTensor([[1,2]])\n",
        "m2 = torch.FloatTensor([[3],[4]])\n",
        "print(m1+m2)"
      ],
      "execution_count": null,
      "outputs": [
        {
          "output_type": "stream",
          "text": [
            "tensor([[4., 5.],\n",
            "        [5., 6.]])\n"
          ],
          "name": "stdout"
        }
      ]
    },
    {
      "cell_type": "markdown",
      "metadata": {
        "id": "jEfdw0R2z9fy"
      },
      "source": [
        "## Multiplication vs Matrix Multiplication"
      ]
    },
    {
      "cell_type": "code",
      "metadata": {
        "id": "H6bc9Qwpz9fy",
        "outputId": "4eba502f-961a-41c9-8589-1161cb5222bf"
      },
      "source": [
        "print()\n",
        "print('-------------------------------')\n",
        "print('Mul vs Matmul')\n",
        "print('-------------------------------')\n",
        "m1 = torch.FloatTensor([[1,2],[3,4]])\n",
        "m2 = torch.FloatTensor([[1],[2]])\n",
        "print('Shape of Matrix 1: ', m1.shape) # 행렬의 곱으로 처리됨\n",
        "print('Shape of Matrix 2: ', m2.shape)\n",
        "print(m1.matmul(m2))\n",
        "\n",
        "m1 = torch.FloatTensor([[1,2],[3,4]])\n",
        "m2 = torch.FloatTensor([[1],[2]])\n",
        "print('Shape of Matrix 1: ', m1.shape)\n",
        "print('Shape of Matrix 2: ', m2.shape)\n",
        "print(m1 *m2)   # 이건 [1,2],[3,4] 와 [1,1],[2,2]의 앨리먼트끼리의 곱으로 처리됨\n",
        "print(m1.mul(m2))"
      ],
      "execution_count": null,
      "outputs": [
        {
          "output_type": "stream",
          "text": [
            "\n",
            "-------------------------------\n",
            "Mul vs Matmul\n",
            "-------------------------------\n",
            "Shape of Matrix 1:  torch.Size([2, 2])\n",
            "Shape of Matrix 2:  torch.Size([2, 1])\n",
            "tensor([[ 5.],\n",
            "        [11.]])\n",
            "Shape of Matrix 1:  torch.Size([2, 2])\n",
            "Shape of Matrix 2:  torch.Size([2, 1])\n",
            "tensor([[1., 2.],\n",
            "        [6., 8.]])\n",
            "tensor([[1., 2.],\n",
            "        [6., 8.]])\n"
          ],
          "name": "stdout"
        }
      ]
    },
    {
      "cell_type": "markdown",
      "metadata": {
        "id": "NwwREskPz9fz"
      },
      "source": [
        "## Mean"
      ]
    },
    {
      "cell_type": "code",
      "metadata": {
        "id": "WqeWa8NIz9fz",
        "outputId": "fd621723-6990-4b95-8e2a-b0cf4d894ac2"
      },
      "source": [
        "t = torch.FloatTensor([1,2])\n",
        "print(t.mean())"
      ],
      "execution_count": null,
      "outputs": [
        {
          "output_type": "stream",
          "text": [
            "tensor(1.5000)\n"
          ],
          "name": "stdout"
        }
      ]
    },
    {
      "cell_type": "code",
      "metadata": {
        "id": "mIDg-Y6oz9fz",
        "outputId": "0e721fa1-d7da-4146-bb89-89c9e0695a7d"
      },
      "source": [
        "t = torch.LongTensor([1,2])\n",
        "try:\n",
        "    print(t.mean())\n",
        "except Exception as exc:\n",
        "    print(exc)"
      ],
      "execution_count": null,
      "outputs": [
        {
          "output_type": "stream",
          "text": [
            "Can only calculate the mean of floating types. Got Long instead.\n"
          ],
          "name": "stdout"
        }
      ]
    },
    {
      "cell_type": "code",
      "metadata": {
        "id": "2t2uuWszz9fz",
        "outputId": "ba103658-21dc-444b-a681-40613c5ace08"
      },
      "source": [
        "t = torch.FloatTensor([[1,2],[3,4]])\n",
        "print(t)"
      ],
      "execution_count": null,
      "outputs": [
        {
          "output_type": "stream",
          "text": [
            "tensor([[1., 2.],\n",
            "        [3., 4.]])\n"
          ],
          "name": "stdout"
        }
      ]
    },
    {
      "cell_type": "code",
      "metadata": {
        "id": "yqjVAY80z9fz",
        "outputId": "05ce30f3-abb9-4ce9-eef9-3ece34a2fdb1"
      },
      "source": [
        "print(t.mean())\n",
        "print(t.mean(dim=0)) ## 세로로 평균\n",
        "print(t.mean(dim=1)) ## 가로로 평균\n",
        "print(t.mean(dim=-1)) "
      ],
      "execution_count": null,
      "outputs": [
        {
          "output_type": "stream",
          "text": [
            "tensor(2.5000)\n",
            "tensor([2., 3.])\n",
            "tensor([1.5000, 3.5000])\n",
            "tensor([1.5000, 3.5000])\n"
          ],
          "name": "stdout"
        }
      ]
    },
    {
      "cell_type": "markdown",
      "metadata": {
        "id": "XKdx757Zz9f0"
      },
      "source": [
        "## Sum"
      ]
    },
    {
      "cell_type": "code",
      "metadata": {
        "id": "ij9r57azz9f0",
        "outputId": "0a569be3-a833-41bb-9064-a28ffce0838a"
      },
      "source": [
        "t = torch.FloatTensor([[1,2],[3,4]])\n",
        "print(t)"
      ],
      "execution_count": null,
      "outputs": [
        {
          "output_type": "stream",
          "text": [
            "tensor([[1., 2.],\n",
            "        [3., 4.]])\n"
          ],
          "name": "stdout"
        }
      ]
    },
    {
      "cell_type": "code",
      "metadata": {
        "id": "BlyvW_oNz9f0",
        "outputId": "b045dad8-7812-4d66-c818-7cb0d3881e0b"
      },
      "source": [
        "print(t.sum())\n",
        "print(t.sum(dim=0))\n",
        "print(t.sum(dim=1))\n",
        "print(t.sum(dim=-1))"
      ],
      "execution_count": null,
      "outputs": [
        {
          "output_type": "stream",
          "text": [
            "tensor(10.)\n",
            "tensor([4., 6.])\n",
            "tensor([3., 7.])\n",
            "tensor([3., 7.])\n"
          ],
          "name": "stdout"
        }
      ]
    },
    {
      "cell_type": "markdown",
      "metadata": {
        "id": "kCHxvCKTz9f0"
      },
      "source": [
        "## Max and Argmax"
      ]
    },
    {
      "cell_type": "code",
      "metadata": {
        "id": "xceISISSz9f0",
        "outputId": "bc3a6620-4f66-4918-cf57-8f192b101904"
      },
      "source": [
        "t = torch.FloatTensor([[1,2],[3,4]])\n",
        "print(t)"
      ],
      "execution_count": null,
      "outputs": [
        {
          "output_type": "stream",
          "text": [
            "tensor([[1., 2.],\n",
            "        [3., 4.]])\n"
          ],
          "name": "stdout"
        }
      ]
    },
    {
      "cell_type": "code",
      "metadata": {
        "id": "uZdKq7piz9f1",
        "outputId": "be9eefcc-df6d-4124-96f9-4e47a4fa7e03"
      },
      "source": [
        "print(t.max())"
      ],
      "execution_count": null,
      "outputs": [
        {
          "output_type": "stream",
          "text": [
            "tensor(4.)\n"
          ],
          "name": "stdout"
        }
      ]
    },
    {
      "cell_type": "code",
      "metadata": {
        "id": "D_0-tGwdz9f1",
        "outputId": "edce9aa0-c700-45c5-9ef8-9a3fcc27235c"
      },
      "source": [
        "print(t.max(dim=0))\n",
        "print('Max: ', t.max(dim=0)[0]) \n",
        "print('Argmax: ', t.max(dim=0)[1])   #index 를 return함"
      ],
      "execution_count": null,
      "outputs": [
        {
          "output_type": "stream",
          "text": [
            "torch.return_types.max(\n",
            "values=tensor([3., 4.]),\n",
            "indices=tensor([1, 1]))\n",
            "Max:  tensor([3., 4.])\n",
            "Argmax:  tensor([1, 1])\n"
          ],
          "name": "stdout"
        }
      ]
    },
    {
      "cell_type": "code",
      "metadata": {
        "id": "RqwHuUnwz9f1",
        "outputId": "2531dbd6-616e-441c-c492-4c69f2137e4a"
      },
      "source": [
        "print(t.max(dim=1))\n",
        "print(t.max(dim=-1))"
      ],
      "execution_count": null,
      "outputs": [
        {
          "output_type": "stream",
          "text": [
            "torch.return_types.max(\n",
            "values=tensor([2., 4.]),\n",
            "indices=tensor([1, 1]))\n",
            "torch.return_types.max(\n",
            "values=tensor([2., 4.]),\n",
            "indices=tensor([1, 1]))\n"
          ],
          "name": "stdout"
        }
      ]
    },
    {
      "cell_type": "markdown",
      "metadata": {
        "id": "wrSxvuBxz9f1"
      },
      "source": [
        "## View(Numpy에서는 Reshape)"
      ]
    },
    {
      "cell_type": "code",
      "metadata": {
        "id": "YgZPkkf_z9f1",
        "outputId": "5d7d689a-1436-4307-887b-621528c3a000"
      },
      "source": [
        "t = np.array([[[0,1,2],\n",
        "              [3,4,5]],\n",
        "             [[6,7,8],\n",
        "             [9,10,11]]])\n",
        "ft = torch.FloatTensor(t)\n",
        "print(ft.shape)"
      ],
      "execution_count": null,
      "outputs": [
        {
          "output_type": "stream",
          "text": [
            "torch.Size([2, 2, 3])\n"
          ],
          "name": "stdout"
        }
      ]
    },
    {
      "cell_type": "code",
      "metadata": {
        "id": "OJTgzcufz9f1",
        "outputId": "0b6d9684-d65e-4b16-c2d5-68a5315a4c39"
      },
      "source": [
        "print(ft.view([-1,3]))  #2차원인데 앞은 모르겠고 뒤에는 3개의 Element를 가짐\n",
        "print(ft.view([-1,3]).shape) "
      ],
      "execution_count": null,
      "outputs": [
        {
          "output_type": "stream",
          "text": [
            "tensor([[ 0.,  1.,  2.],\n",
            "        [ 3.,  4.,  5.],\n",
            "        [ 6.,  7.,  8.],\n",
            "        [ 9., 10., 11.]])\n",
            "torch.Size([4, 3])\n"
          ],
          "name": "stdout"
        }
      ]
    },
    {
      "cell_type": "code",
      "metadata": {
        "id": "St2gN03hz9f2",
        "outputId": "19ac1214-e401-41ce-ec9d-51a83df924d6"
      },
      "source": [
        "print(ft.view([-1,1,3]))\n",
        "print(ft.view([-1,1,3]).shape)"
      ],
      "execution_count": null,
      "outputs": [
        {
          "output_type": "stream",
          "text": [
            "tensor([[[ 0.,  1.,  2.]],\n",
            "\n",
            "        [[ 3.,  4.,  5.]],\n",
            "\n",
            "        [[ 6.,  7.,  8.]],\n",
            "\n",
            "        [[ 9., 10., 11.]]])\n",
            "torch.Size([4, 1, 3])\n"
          ],
          "name": "stdout"
        }
      ]
    },
    {
      "cell_type": "markdown",
      "metadata": {
        "id": "-IsqQRn7z9f2"
      },
      "source": [
        "## Squeeze "
      ]
    },
    {
      "cell_type": "markdown",
      "metadata": {
        "id": "tviLSa3fz9f2"
      },
      "source": [
        "- View랑 같은 함수이나, Element가 1인 dimension을 없애줌"
      ]
    },
    {
      "cell_type": "code",
      "metadata": {
        "id": "Q_e54AO7z9f2",
        "outputId": "53a9aabe-f790-41f8-be31-13741705dd32"
      },
      "source": [
        "ft = torch.FloatTensor([[0],[1],[2]])\n",
        "print(ft)\n",
        "print(ft.shape)"
      ],
      "execution_count": null,
      "outputs": [
        {
          "output_type": "stream",
          "text": [
            "tensor([[0.],\n",
            "        [1.],\n",
            "        [2.]])\n",
            "torch.Size([3, 1])\n"
          ],
          "name": "stdout"
        }
      ]
    },
    {
      "cell_type": "code",
      "metadata": {
        "id": "3443C5nJz9f2",
        "outputId": "efe2b84f-96ad-4706-ee1e-a078c90e7326"
      },
      "source": [
        "print(ft.squeeze())\n",
        "print(ft.squeeze().shape)"
      ],
      "execution_count": null,
      "outputs": [
        {
          "output_type": "stream",
          "text": [
            "tensor([0., 1., 2.])\n",
            "torch.Size([3])\n"
          ],
          "name": "stdout"
        }
      ]
    },
    {
      "cell_type": "markdown",
      "metadata": {
        "id": "28J7yQB1z9f3"
      },
      "source": [
        "## Unsqueeze"
      ]
    },
    {
      "cell_type": "code",
      "metadata": {
        "id": "O8jUtUZoz9f3",
        "outputId": "1abae89d-3c6f-448a-e920-fde1beb1f3b5"
      },
      "source": [
        "ft = torch.Tensor([0,1,2])\n",
        "print(ft.shape)"
      ],
      "execution_count": null,
      "outputs": [
        {
          "output_type": "stream",
          "text": [
            "torch.Size([3])\n"
          ],
          "name": "stdout"
        }
      ]
    },
    {
      "cell_type": "code",
      "metadata": {
        "id": "ZbU8G9VEz9f3",
        "outputId": "8d065150-9783-4bbb-e2f7-166322bcf5b4"
      },
      "source": [
        "print(ft.unsqueeze(0)) #dimension 0에 1을 넣는다\n",
        "print(ft.unsqueeze(0).shape)"
      ],
      "execution_count": null,
      "outputs": [
        {
          "output_type": "stream",
          "text": [
            "tensor([[0., 1., 2.]])\n",
            "torch.Size([1, 3])\n"
          ],
          "name": "stdout"
        }
      ]
    },
    {
      "cell_type": "code",
      "metadata": {
        "id": "y9JiogzOz9f3",
        "outputId": "e5dc6242-d784-4369-a58a-31628e7464dc"
      },
      "source": [
        "print(ft.view(1,-1))\n",
        "print(ft.view(1,-1).shape)"
      ],
      "execution_count": null,
      "outputs": [
        {
          "output_type": "stream",
          "text": [
            "tensor([[0., 1., 2.]])\n",
            "torch.Size([1, 3])\n"
          ],
          "name": "stdout"
        }
      ]
    },
    {
      "cell_type": "code",
      "metadata": {
        "id": "qhejgUiVz9f3",
        "outputId": "61d9a6a1-652a-4bec-baf3-3038ac4a5c4a"
      },
      "source": [
        "print(ft.unsqueeze(1)) \n",
        "print(ft.unsqueeze(1).shape)"
      ],
      "execution_count": null,
      "outputs": [
        {
          "output_type": "stream",
          "text": [
            "tensor([[0.],\n",
            "        [1.],\n",
            "        [2.]])\n",
            "torch.Size([3, 1])\n"
          ],
          "name": "stdout"
        }
      ]
    },
    {
      "cell_type": "code",
      "metadata": {
        "id": "pxcLDFuVz9f3",
        "outputId": "375b9054-91a5-4fc8-a750-c88f70906284"
      },
      "source": [
        "print(ft.unsqueeze(-1)) #-1은 마지막 dimension을 의미\n",
        "print(ft.unsqueeze(-1).shape)"
      ],
      "execution_count": null,
      "outputs": [
        {
          "output_type": "stream",
          "text": [
            "tensor([[0.],\n",
            "        [1.],\n",
            "        [2.]])\n",
            "torch.Size([3, 1])\n"
          ],
          "name": "stdout"
        }
      ]
    },
    {
      "cell_type": "markdown",
      "metadata": {
        "id": "iTDd9Qhpz9f4"
      },
      "source": [
        "## Type Casting"
      ]
    },
    {
      "cell_type": "code",
      "metadata": {
        "id": "-E1_RefTz9f4",
        "outputId": "9bea3c5f-63a4-49a4-b3b1-7a9c0238b9ee"
      },
      "source": [
        "lt = torch.LongTensor([1,2,3,4])\n",
        "print(lt)"
      ],
      "execution_count": null,
      "outputs": [
        {
          "output_type": "stream",
          "text": [
            "tensor([1, 2, 3, 4])\n"
          ],
          "name": "stdout"
        }
      ]
    },
    {
      "cell_type": "code",
      "metadata": {
        "id": "K9h39hLCz9f4",
        "outputId": "e5ab85cc-59df-498b-fd60-21adf4f83423"
      },
      "source": [
        "print(lt.float())"
      ],
      "execution_count": null,
      "outputs": [
        {
          "output_type": "stream",
          "text": [
            "tensor([1., 2., 3., 4.])\n"
          ],
          "name": "stdout"
        }
      ]
    },
    {
      "cell_type": "code",
      "metadata": {
        "id": "HqP-2VoUz9f4",
        "outputId": "9eea2cc6-79d5-46e3-bd41-62d9bf7a4f26"
      },
      "source": [
        "bt = torch.ByteTensor([True, False, False, True])\n",
        "print(bt)"
      ],
      "execution_count": null,
      "outputs": [
        {
          "output_type": "stream",
          "text": [
            "tensor([1, 0, 0, 1], dtype=torch.uint8)\n"
          ],
          "name": "stdout"
        }
      ]
    },
    {
      "cell_type": "code",
      "metadata": {
        "id": "Q7Jlq1iqz9f4",
        "outputId": "625339d1-234d-4725-db57-cdd46842e84f"
      },
      "source": [
        "print(bt.long())\n",
        "print(bt.float())"
      ],
      "execution_count": null,
      "outputs": [
        {
          "output_type": "stream",
          "text": [
            "tensor([1, 0, 0, 1])\n",
            "tensor([1., 0., 0., 1.])\n"
          ],
          "name": "stdout"
        }
      ]
    },
    {
      "cell_type": "markdown",
      "metadata": {
        "id": "iJY75ItXz9f5"
      },
      "source": [
        "## Concatenate"
      ]
    },
    {
      "cell_type": "markdown",
      "metadata": {
        "id": "ja77GlNCz9f5"
      },
      "source": [
        "- 이어붙힌다 - 두개의 텐서를 이어붙히는것"
      ]
    },
    {
      "cell_type": "code",
      "metadata": {
        "id": "xpEYhB7Qz9f5"
      },
      "source": [
        "x = torch.FloatTensor([[1,2],[3,4]])\n",
        "y = torch.FloatTensor([[5,6],[7,8]])"
      ],
      "execution_count": null,
      "outputs": []
    },
    {
      "cell_type": "code",
      "metadata": {
        "id": "oWl0ExOFz9f5",
        "outputId": "cf905b66-e93f-4394-f7ae-22789fbee003"
      },
      "source": [
        "print(torch.cat([x,y],dim=0))\n",
        "print(torch.cat([x,y],dim=1))"
      ],
      "execution_count": null,
      "outputs": [
        {
          "output_type": "stream",
          "text": [
            "tensor([[1., 2.],\n",
            "        [3., 4.],\n",
            "        [5., 6.],\n",
            "        [7., 8.]])\n",
            "tensor([[1., 2., 5., 6.],\n",
            "        [3., 4., 7., 8.]])\n"
          ],
          "name": "stdout"
        }
      ]
    },
    {
      "cell_type": "markdown",
      "metadata": {
        "id": "Obb3JzRlz9f5"
      },
      "source": [
        "## Stacking"
      ]
    },
    {
      "cell_type": "markdown",
      "metadata": {
        "id": "SXe-nttaz9f5"
      },
      "source": [
        "- Concatenate를 좀더 쉽게 만들어놓은 함수"
      ]
    },
    {
      "cell_type": "code",
      "metadata": {
        "id": "qF1cRmzgz9f6"
      },
      "source": [
        "x = torch.FloatTensor([1,4])\n",
        "y = torch.FloatTensor([2,5])\n",
        "z = torch.FloatTensor([3,6])"
      ],
      "execution_count": null,
      "outputs": []
    },
    {
      "cell_type": "code",
      "metadata": {
        "id": "RD2sCDFEz9f6",
        "outputId": "1f989791-988e-4586-ece4-7409065908a5"
      },
      "source": [
        "print(torch.stack([x,y,z]))\n",
        "print(torch.stack([x,y,z], dim=1))"
      ],
      "execution_count": null,
      "outputs": [
        {
          "output_type": "stream",
          "text": [
            "tensor([[1., 4.],\n",
            "        [2., 5.],\n",
            "        [3., 6.]])\n",
            "tensor([[1., 2., 3.],\n",
            "        [4., 5., 6.]])\n"
          ],
          "name": "stdout"
        }
      ]
    },
    {
      "cell_type": "code",
      "metadata": {
        "id": "prNG3UnPz9f6",
        "outputId": "f44cbad9-b5f9-4793-fd9f-19a32ce9c999"
      },
      "source": [
        "print(torch.cat([x.unsqueeze(0), y.unsqueeze(0), z.unsqueeze(0)], dim=0))\n",
        "# concatenate를 이용하면 이와같이 설정해야함"
      ],
      "execution_count": null,
      "outputs": [
        {
          "output_type": "stream",
          "text": [
            "tensor([[1., 4.],\n",
            "        [2., 5.],\n",
            "        [3., 6.]])\n"
          ],
          "name": "stdout"
        }
      ]
    },
    {
      "cell_type": "markdown",
      "metadata": {
        "id": "G03qgRN0z9f6"
      },
      "source": [
        "## Ones and Zeros"
      ]
    },
    {
      "cell_type": "markdown",
      "metadata": {
        "id": "eXzvHDHqz9f6"
      },
      "source": [
        "- 1로 채운 텐서와 0으로 채운 텐서 생성함수"
      ]
    },
    {
      "cell_type": "code",
      "metadata": {
        "id": "wauJtISmz9f6",
        "outputId": "d8db97ef-947d-4f48-a2c0-a39edc734517"
      },
      "source": [
        "x = torch.FloatTensor([[0,1,2],[2,1,0]])\n",
        "print(x)"
      ],
      "execution_count": null,
      "outputs": [
        {
          "output_type": "stream",
          "text": [
            "tensor([[0., 1., 2.],\n",
            "        [2., 1., 0.]])\n"
          ],
          "name": "stdout"
        }
      ]
    },
    {
      "cell_type": "code",
      "metadata": {
        "id": "e_ZEhQedz9f7",
        "outputId": "02c8d2b3-c0ab-4ee4-f259-3ca3be39b005"
      },
      "source": [
        "print(torch.ones_like(x))\n",
        "print(torch.zeros_like(x))"
      ],
      "execution_count": null,
      "outputs": [
        {
          "output_type": "stream",
          "text": [
            "tensor([[1., 1., 1.],\n",
            "        [1., 1., 1.]])\n",
            "tensor([[0., 0., 0.],\n",
            "        [0., 0., 0.]])\n"
          ],
          "name": "stdout"
        }
      ]
    },
    {
      "cell_type": "markdown",
      "metadata": {
        "id": "jLA-0Mbyz9f7"
      },
      "source": [
        "## In-place Operation"
      ]
    },
    {
      "cell_type": "code",
      "metadata": {
        "id": "nI3mnK7uz9f7"
      },
      "source": [
        "x = torch.FloatTensor([[1,2],[3,4]])"
      ],
      "execution_count": null,
      "outputs": []
    },
    {
      "cell_type": "code",
      "metadata": {
        "id": "g5e8R4_Tz9f7",
        "outputId": "c0082f7f-bd6f-4b88-f293-26ba5abadce0"
      },
      "source": [
        "print(x.mul(2.))\n",
        "print(x)\n",
        "print(x.mul_(2.)) #x = x * n 과 같은형태\n",
        "print(x)"
      ],
      "execution_count": null,
      "outputs": [
        {
          "output_type": "stream",
          "text": [
            "tensor([[2., 4.],\n",
            "        [6., 8.]])\n",
            "tensor([[1., 2.],\n",
            "        [3., 4.]])\n",
            "tensor([[2., 4.],\n",
            "        [6., 8.]])\n",
            "tensor([[2., 4.],\n",
            "        [6., 8.]])\n"
          ],
          "name": "stdout"
        }
      ]
    }
  ]
}