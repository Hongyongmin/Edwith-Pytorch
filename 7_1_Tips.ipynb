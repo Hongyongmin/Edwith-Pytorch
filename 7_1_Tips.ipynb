{
  "nbformat": 4,
  "nbformat_minor": 0,
  "metadata": {
    "kernelspec": {
      "display_name": "Python 3",
      "language": "python",
      "name": "python3"
    },
    "language_info": {
      "codemirror_mode": {
        "name": "ipython",
        "version": 3
      },
      "file_extension": ".py",
      "mimetype": "text/x-python",
      "name": "python",
      "nbconvert_exporter": "python",
      "pygments_lexer": "ipython3",
      "version": "3.8.3"
    },
    "colab": {
      "name": "7-1. Tips.ipynb",
      "provenance": [],
      "collapsed_sections": [],
      "include_colab_link": true
    }
  },
  "cells": [
    {
      "cell_type": "markdown",
      "metadata": {
        "id": "view-in-github",
        "colab_type": "text"
      },
      "source": [
        "<a href=\"https://colab.research.google.com/github/Hongyongmin/Edwith-Pytorch/blob/main/7_1_Tips.ipynb\" target=\"_parent\"><img src=\"https://colab.research.google.com/assets/colab-badge.svg\" alt=\"Open In Colab\"/></a>"
      ]
    },
    {
      "cell_type": "code",
      "metadata": {
        "id": "JNdtQRXAuFrs"
      },
      "source": [
        "import torch\n",
        "import torch.nn as nn\n",
        "import torch.nn.functional as F\n",
        "import torch.optim as optim"
      ],
      "execution_count": null,
      "outputs": []
    },
    {
      "cell_type": "code",
      "metadata": {
        "colab": {
          "base_uri": "https://localhost:8080/"
        },
        "id": "KdqmL_0huFr0",
        "outputId": "cd4efc0c-bfe6-456e-d509-215b403afa96"
      },
      "source": [
        "torch.manual_seed(1)"
      ],
      "execution_count": null,
      "outputs": [
        {
          "output_type": "execute_result",
          "data": {
            "text/plain": [
              "<torch._C.Generator at 0x7fda7eaadb58>"
            ]
          },
          "metadata": {
            "tags": []
          },
          "execution_count": 2
        }
      ]
    },
    {
      "cell_type": "code",
      "metadata": {
        "id": "r_MyhYaQuFr1"
      },
      "source": [
        "x_train = torch.FloatTensor([[1,2,1],\n",
        "                            [1,3,2],\n",
        "                            [1,3,4],\n",
        "                            [1,5,5],\n",
        "                            [1,7,5],\n",
        "                             [1,2,5],\n",
        "                             [1,6,6],\n",
        "                             [1,7,7]\n",
        "                            ])\n",
        "y_train = torch.LongTensor([2,2,2,1,1,1,0,0])"
      ],
      "execution_count": null,
      "outputs": []
    },
    {
      "cell_type": "code",
      "metadata": {
        "id": "hNQWwI1wuFr2"
      },
      "source": [
        "x_test = torch.FloatTensor([[2,1,1],[3,1,2],[3,3,4]])\n",
        "y_test = torch.LongTensor([2,2,2])"
      ],
      "execution_count": null,
      "outputs": []
    },
    {
      "cell_type": "code",
      "metadata": {
        "id": "1kdlSnyguFr2"
      },
      "source": [
        "class SoftmaxClassifierModel(nn.Module):\n",
        "    def __init__(self):\n",
        "        super().__init__()\n",
        "        self.linear = nn.Linear(3,3)\n",
        "    def forward(self, x):\n",
        "        return self.linear(x)"
      ],
      "execution_count": null,
      "outputs": []
    },
    {
      "cell_type": "code",
      "metadata": {
        "id": "1x4Oj_ykuFr2"
      },
      "source": [
        "model = SoftmaxClassifierModel()"
      ],
      "execution_count": null,
      "outputs": []
    },
    {
      "cell_type": "code",
      "metadata": {
        "id": "INhk6uYPuFr2"
      },
      "source": [
        "optimizer = optim.SGD(model.parameters(),lr=0.1)"
      ],
      "execution_count": null,
      "outputs": []
    },
    {
      "cell_type": "code",
      "metadata": {
        "id": "e_QfaYzluFr3"
      },
      "source": [
        "def train(model, optimizer, x_train, y_train):\n",
        "    nb_epochs = 20\n",
        "    for epoch in range(nb_epochs):\n",
        "        \n",
        "        prediction = model(x_train)\n",
        "        \n",
        "        cost = F.cross_entropy(prediction, y_train)\n",
        "        \n",
        "        optimizer.zero_grad()\n",
        "        cost.backward()\n",
        "        optimizer.step()\n",
        "        \n",
        "        print('Epoch {:4d}/{} Cost:{:.6f}'.format(\n",
        "            epoch, nb_epochs, cost.item()\n",
        "        ))"
      ],
      "execution_count": null,
      "outputs": []
    },
    {
      "cell_type": "code",
      "metadata": {
        "id": "8CTkgLKFuFr3"
      },
      "source": [
        "def test(model, optimizer, x_test, y_test):\n",
        "    prediction = model(x_test)\n",
        "    predicted_classes = prediction.max(1)[1]\n",
        "    correct_count = (predcited_classes == y_test).sum().item()\n",
        "    cost = F.cross_entropy(prediction, y_test)\n",
        "    \n",
        "    print('Accuracy: {}%& Cost: {:.6f}'.format(\n",
        "        correct_count / len(y_test) * 100, cost.item()\n",
        "    ))"
      ],
      "execution_count": null,
      "outputs": []
    },
    {
      "cell_type": "code",
      "metadata": {
        "colab": {
          "base_uri": "https://localhost:8080/"
        },
        "id": "Nka_O8x7uFr3",
        "outputId": "7fdb1057-02c3-41e7-fc1e-7f2d6822277c"
      },
      "source": [
        "train(model, optimizer, x_train, y_train)"
      ],
      "execution_count": null,
      "outputs": [
        {
          "output_type": "stream",
          "text": [
            "Epoch    0/20 Cost:2.203667\n",
            "Epoch    1/20 Cost:1.199645\n",
            "Epoch    2/20 Cost:1.142985\n",
            "Epoch    3/20 Cost:1.117769\n",
            "Epoch    4/20 Cost:1.100901\n",
            "Epoch    5/20 Cost:1.089523\n",
            "Epoch    6/20 Cost:1.079872\n",
            "Epoch    7/20 Cost:1.071320\n",
            "Epoch    8/20 Cost:1.063325\n",
            "Epoch    9/20 Cost:1.055720\n",
            "Epoch   10/20 Cost:1.048378\n",
            "Epoch   11/20 Cost:1.041245\n",
            "Epoch   12/20 Cost:1.034285\n",
            "Epoch   13/20 Cost:1.027478\n",
            "Epoch   14/20 Cost:1.020813\n",
            "Epoch   15/20 Cost:1.014279\n",
            "Epoch   16/20 Cost:1.007872\n",
            "Epoch   17/20 Cost:1.001586\n",
            "Epoch   18/20 Cost:0.995419\n",
            "Epoch   19/20 Cost:0.989365\n"
          ],
          "name": "stdout"
        }
      ]
    },
    {
      "cell_type": "code",
      "metadata": {
        "id": "-yc8VFheuFr3"
      },
      "source": [
        "model = SoftmaxClassifierModel()"
      ],
      "execution_count": null,
      "outputs": []
    },
    {
      "cell_type": "code",
      "metadata": {
        "id": "H1ELhLVVuFr4"
      },
      "source": [
        "optimizer = optim.SGD(model.parameters(), lr=1e5)"
      ],
      "execution_count": null,
      "outputs": []
    },
    {
      "cell_type": "code",
      "metadata": {
        "colab": {
          "base_uri": "https://localhost:8080/"
        },
        "id": "ZxNx0HuNuFr4",
        "outputId": "f8e0715b-04f7-43a8-a450-8c185bb1b5a6"
      },
      "source": [
        "train(model, optimizer, x_train, y_train)"
      ],
      "execution_count": null,
      "outputs": [
        {
          "output_type": "stream",
          "text": [
            "Epoch    0/20 Cost:1.280268\n",
            "Epoch    1/20 Cost:976950.750000\n",
            "Epoch    2/20 Cost:1279135.250000\n",
            "Epoch    3/20 Cost:1198378.875000\n",
            "Epoch    4/20 Cost:1098825.750000\n",
            "Epoch    5/20 Cost:1968197.625000\n",
            "Epoch    6/20 Cost:284763.250000\n",
            "Epoch    7/20 Cost:1532260.250000\n",
            "Epoch    8/20 Cost:1651503.750000\n",
            "Epoch    9/20 Cost:521878.562500\n",
            "Epoch   10/20 Cost:1397263.250000\n",
            "Epoch   11/20 Cost:750986.375000\n",
            "Epoch   12/20 Cost:918691.375000\n",
            "Epoch   13/20 Cost:1487888.250000\n",
            "Epoch   14/20 Cost:1582260.125000\n",
            "Epoch   15/20 Cost:685818.125000\n",
            "Epoch   16/20 Cost:1140048.875000\n",
            "Epoch   17/20 Cost:940566.375000\n",
            "Epoch   18/20 Cost:931638.250000\n",
            "Epoch   19/20 Cost:1971322.625000\n"
          ],
          "name": "stdout"
        }
      ]
    },
    {
      "cell_type": "markdown",
      "metadata": {
        "id": "2H5gqByVwyFN"
      },
      "source": [
        "LearningRate 가 너무 커서 cost가 점점 늘어남(overshooting)"
      ]
    },
    {
      "cell_type": "code",
      "metadata": {
        "id": "F2lF_EGVuFr4"
      },
      "source": [
        "model = SoftmaxClassifierModel()"
      ],
      "execution_count": null,
      "outputs": []
    },
    {
      "cell_type": "code",
      "metadata": {
        "id": "yLCKzVEmuFr4"
      },
      "source": [
        "optimizer = optim.SGD(model.parameters(), lr=1e-10)"
      ],
      "execution_count": null,
      "outputs": []
    },
    {
      "cell_type": "code",
      "metadata": {
        "colab": {
          "base_uri": "https://localhost:8080/"
        },
        "id": "gv9oALtVuFr4",
        "outputId": "2c58bf29-68b9-4a5a-a5c8-09eb1bdb9e7a"
      },
      "source": [
        "train(model, optimizer, x_train, y_train)"
      ],
      "execution_count": null,
      "outputs": [
        {
          "output_type": "stream",
          "text": [
            "Epoch    0/20 Cost:3.187324\n",
            "Epoch    1/20 Cost:3.187324\n",
            "Epoch    2/20 Cost:3.187324\n",
            "Epoch    3/20 Cost:3.187324\n",
            "Epoch    4/20 Cost:3.187324\n",
            "Epoch    5/20 Cost:3.187324\n",
            "Epoch    6/20 Cost:3.187324\n",
            "Epoch    7/20 Cost:3.187324\n",
            "Epoch    8/20 Cost:3.187324\n",
            "Epoch    9/20 Cost:3.187324\n",
            "Epoch   10/20 Cost:3.187324\n",
            "Epoch   11/20 Cost:3.187324\n",
            "Epoch   12/20 Cost:3.187324\n",
            "Epoch   13/20 Cost:3.187324\n",
            "Epoch   14/20 Cost:3.187324\n",
            "Epoch   15/20 Cost:3.187324\n",
            "Epoch   16/20 Cost:3.187324\n",
            "Epoch   17/20 Cost:3.187324\n",
            "Epoch   18/20 Cost:3.187324\n",
            "Epoch   19/20 Cost:3.187324\n"
          ],
          "name": "stdout"
        }
      ]
    },
    {
      "cell_type": "markdown",
      "metadata": {
        "id": "eaY4Tt99w4Uk"
      },
      "source": [
        "learning rate가 너무 작아서 cost가 거의 줄어들지 않음"
      ]
    },
    {
      "cell_type": "code",
      "metadata": {
        "id": "z-oiXxx7uFr5"
      },
      "source": [
        "model = SoftmaxClassifierModel()"
      ],
      "execution_count": null,
      "outputs": []
    },
    {
      "cell_type": "code",
      "metadata": {
        "id": "b4-ZBoesuFr5"
      },
      "source": [
        "optimizer = optim.SGD(model.parameters(), lr=1e-1)"
      ],
      "execution_count": null,
      "outputs": []
    },
    {
      "cell_type": "code",
      "metadata": {
        "colab": {
          "base_uri": "https://localhost:8080/"
        },
        "id": "mf7SXlWkuFr5",
        "outputId": "1bbfa9ea-ddf3-4341-d01c-95a030d07b8e"
      },
      "source": [
        "train(model, optimizer, x_train, y_train)"
      ],
      "execution_count": null,
      "outputs": [
        {
          "output_type": "stream",
          "text": [
            "Epoch    0/20 Cost:1.341574\n",
            "Epoch    1/20 Cost:1.198803\n",
            "Epoch    2/20 Cost:1.150877\n",
            "Epoch    3/20 Cost:1.131977\n",
            "Epoch    4/20 Cost:1.116242\n",
            "Epoch    5/20 Cost:1.102514\n",
            "Epoch    6/20 Cost:1.089676\n",
            "Epoch    7/20 Cost:1.077479\n",
            "Epoch    8/20 Cost:1.065775\n",
            "Epoch    9/20 Cost:1.054511\n",
            "Epoch   10/20 Cost:1.043655\n",
            "Epoch   11/20 Cost:1.033187\n",
            "Epoch   12/20 Cost:1.023091\n",
            "Epoch   13/20 Cost:1.013356\n",
            "Epoch   14/20 Cost:1.003968\n",
            "Epoch   15/20 Cost:0.994917\n",
            "Epoch   16/20 Cost:0.986189\n",
            "Epoch   17/20 Cost:0.977775\n",
            "Epoch   18/20 Cost:0.969661\n",
            "Epoch   19/20 Cost:0.961836\n"
          ],
          "name": "stdout"
        }
      ]
    },
    {
      "cell_type": "markdown",
      "metadata": {
        "id": "7V73tOPqw87M"
      },
      "source": [
        "이 방법을 통해서 적당한 learning rate를 찾는것이 중요"
      ]
    },
    {
      "cell_type": "markdown",
      "metadata": {
        "id": "l6tAMDsgxANN"
      },
      "source": [
        "##Data preprocessing"
      ]
    },
    {
      "cell_type": "code",
      "metadata": {
        "id": "_VCAFVmjuFr6"
      },
      "source": [
        "x_train = torch.FloatTensor([[73, 80, 75],\n",
        "                            [93, 88, 93],\n",
        "                            [89,91,90],\n",
        "                            [96,98,100],\n",
        "                            [73,66,70]])\n",
        "y_train = torch.FloatTensor([[152],[185],[180],[196],[142]])"
      ],
      "execution_count": null,
      "outputs": []
    },
    {
      "cell_type": "code",
      "metadata": {
        "id": "-rX_u4gruFr6"
      },
      "source": [
        "mu = x_train.mean(dim=0)"
      ],
      "execution_count": null,
      "outputs": []
    },
    {
      "cell_type": "code",
      "metadata": {
        "id": "W6MYjI8VuFr6"
      },
      "source": [
        "sigma = x_train.std(dim=0)"
      ],
      "execution_count": null,
      "outputs": []
    },
    {
      "cell_type": "code",
      "metadata": {
        "id": "la24fM65uFr6"
      },
      "source": [
        "norm_x_train = (x_train - mu) / sigma"
      ],
      "execution_count": null,
      "outputs": []
    },
    {
      "cell_type": "code",
      "metadata": {
        "colab": {
          "base_uri": "https://localhost:8080/"
        },
        "id": "hiRWt0rpuFr7",
        "outputId": "677d3bcb-d1df-45e5-c912-1d31b468fede"
      },
      "source": [
        "print(norm_x_train)"
      ],
      "execution_count": null,
      "outputs": [
        {
          "output_type": "stream",
          "text": [
            "tensor([[-1.0674, -0.3758, -0.8398],\n",
            "        [ 0.7418,  0.2778,  0.5863],\n",
            "        [ 0.3799,  0.5229,  0.3486],\n",
            "        [ 1.0132,  1.0948,  1.1409],\n",
            "        [-1.0674, -1.5197, -1.2360]])\n"
          ],
          "name": "stdout"
        }
      ]
    },
    {
      "cell_type": "code",
      "metadata": {
        "id": "auuXXrjBuFr7"
      },
      "source": [
        "class MultivariateLinearRegressionModel(nn.Module):\n",
        "    def __init__(self):\n",
        "        super().__init__()\n",
        "        self.linear = nn.Linear(3,1)\n",
        "        \n",
        "    def forward(self,x):\n",
        "        return self.linear(x)"
      ],
      "execution_count": null,
      "outputs": []
    },
    {
      "cell_type": "code",
      "metadata": {
        "id": "52chpVJNuFr7"
      },
      "source": [
        "model = MultivariateLinearRegressionModel()"
      ],
      "execution_count": null,
      "outputs": []
    },
    {
      "cell_type": "code",
      "metadata": {
        "id": "v4SBIFkAuFr7"
      },
      "source": [
        "optimizer = optim.SGD(model.parameters(), lr=1e-1)"
      ],
      "execution_count": null,
      "outputs": []
    },
    {
      "cell_type": "code",
      "metadata": {
        "id": "8M7d9xzEuFr7"
      },
      "source": [
        "def train(model, optimizer, x_train, y_train):\n",
        "    nb_epochs = 20\n",
        "    for epoch in range(nb_epochs):\n",
        "        \n",
        "        prediction = model(x_train)\n",
        "        \n",
        "        cost = F.mse_loss(prediction, y_train)\n",
        "        \n",
        "        optimizer.zero_grad()\n",
        "        cost.backward()\n",
        "        optimizer.step()\n",
        "        \n",
        "        print('Epoch {:4d}/{} Cost: {:.6f}'.format(\n",
        "            epoch, nb_epochs, cost.item()\n",
        "        ))"
      ],
      "execution_count": null,
      "outputs": []
    },
    {
      "cell_type": "code",
      "metadata": {
        "colab": {
          "base_uri": "https://localhost:8080/"
        },
        "id": "s_OZ_GKpuFr8",
        "outputId": "e56ef6cc-d37d-4840-ba5b-4503318387ec"
      },
      "source": [
        "train(model, optimizer, norm_x_train, y_train)"
      ],
      "execution_count": null,
      "outputs": [
        {
          "output_type": "stream",
          "text": [
            "Epoch    0/20 Cost: 29785.089844\n",
            "Epoch    1/20 Cost: 18906.166016\n",
            "Epoch    2/20 Cost: 12054.673828\n",
            "Epoch    3/20 Cost: 7702.029785\n",
            "Epoch    4/20 Cost: 4925.733398\n",
            "Epoch    5/20 Cost: 3151.632812\n",
            "Epoch    6/20 Cost: 2016.996094\n",
            "Epoch    7/20 Cost: 1291.051270\n",
            "Epoch    8/20 Cost: 826.505249\n",
            "Epoch    9/20 Cost: 529.207397\n",
            "Epoch   10/20 Cost: 338.934174\n",
            "Epoch   11/20 Cost: 217.153564\n",
            "Epoch   12/20 Cost: 139.206757\n",
            "Epoch   13/20 Cost: 89.313782\n",
            "Epoch   14/20 Cost: 57.375465\n",
            "Epoch   15/20 Cost: 36.928429\n",
            "Epoch   16/20 Cost: 23.835773\n",
            "Epoch   17/20 Cost: 15.450401\n",
            "Epoch   18/20 Cost: 10.077809\n",
            "Epoch   19/20 Cost: 6.633700\n"
          ],
          "name": "stdout"
        }
      ]
    },
    {
      "cell_type": "code",
      "metadata": {
        "id": "8yrUKc1-uFr8"
      },
      "source": [
        ""
      ],
      "execution_count": null,
      "outputs": []
    }
  ]
}