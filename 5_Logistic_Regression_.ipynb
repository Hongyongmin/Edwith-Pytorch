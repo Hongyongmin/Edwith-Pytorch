{
  "nbformat": 4,
  "nbformat_minor": 0,
  "metadata": {
    "kernelspec": {
      "display_name": "Python 3",
      "language": "python",
      "name": "python3"
    },
    "language_info": {
      "codemirror_mode": {
        "name": "ipython",
        "version": 3
      },
      "file_extension": ".py",
      "mimetype": "text/x-python",
      "name": "python",
      "nbconvert_exporter": "python",
      "pygments_lexer": "ipython3",
      "version": "3.8.3"
    },
    "colab": {
      "name": "5. Logistic Regression .ipynb",
      "provenance": [],
      "include_colab_link": true
    }
  },
  "cells": [
    {
      "cell_type": "markdown",
      "metadata": {
        "id": "view-in-github",
        "colab_type": "text"
      },
      "source": [
        "<a href=\"https://colab.research.google.com/github/Hongyongmin/Edwith-Pytorch/blob/main/5_Logistic_Regression_.ipynb\" target=\"_parent\"><img src=\"https://colab.research.google.com/assets/colab-badge.svg\" alt=\"Open In Colab\"/></a>"
      ]
    },
    {
      "cell_type": "code",
      "metadata": {
        "id": "h1OyHsCaw0lZ"
      },
      "source": [
        "import torch\n",
        "import torch.nn as nn\n",
        "import torch.nn.functional as F\n",
        "import torch.optim as optim"
      ],
      "execution_count": null,
      "outputs": []
    },
    {
      "cell_type": "code",
      "metadata": {
        "id": "0hDqXwlTw0lj",
        "outputId": "6e7ebd7c-081a-4d93-8e27-e53573c055a0"
      },
      "source": [
        "torch.manual_seed(1)"
      ],
      "execution_count": null,
      "outputs": [
        {
          "output_type": "execute_result",
          "data": {
            "text/plain": [
              "<torch._C.Generator at 0x21dcecf4930>"
            ]
          },
          "metadata": {
            "tags": []
          },
          "execution_count": 3
        }
      ]
    },
    {
      "cell_type": "code",
      "metadata": {
        "id": "kHdVbcUkw0lp"
      },
      "source": [
        "x_data = [[1,2],[2,3],[3,1],[4,3],[5,3],[6,2]]\n",
        "y_data = [[0],[0],[0],[1],[1],[1]]"
      ],
      "execution_count": null,
      "outputs": []
    },
    {
      "cell_type": "code",
      "metadata": {
        "id": "l_hf52sLw0lq"
      },
      "source": [
        "x_train = torch.FloatTensor(x_data)\n",
        "y_train = torch.FloatTensor(y_data)"
      ],
      "execution_count": null,
      "outputs": []
    },
    {
      "cell_type": "code",
      "metadata": {
        "id": "b3uOKSQjw0lr",
        "outputId": "ca782dfa-9b98-4492-b7a3-93d319f90e8f"
      },
      "source": [
        "print(x_train.shape)\n",
        "print(y_train.shape)"
      ],
      "execution_count": null,
      "outputs": [
        {
          "output_type": "stream",
          "text": [
            "torch.Size([6, 2])\n",
            "torch.Size([6, 1])\n"
          ],
          "name": "stdout"
        }
      ]
    },
    {
      "cell_type": "code",
      "metadata": {
        "id": "upP8DC84w0ls",
        "outputId": "fdf05807-cfe6-436a-a941-026d91aad5f5"
      },
      "source": [
        "print('e^1 equals: ', torch.exp(torch.FloatTensor([1]))) ##exp 함수로 e를 계산할 수 있음"
      ],
      "execution_count": null,
      "outputs": [
        {
          "output_type": "stream",
          "text": [
            "e^1 equals:  tensor([2.7183])\n"
          ],
          "name": "stdout"
        }
      ]
    },
    {
      "cell_type": "code",
      "metadata": {
        "id": "f-YB-8_mw0lt"
      },
      "source": [
        "W = torch.zeros((2,1), requires_grad=True)\n",
        "b = torch.zeros(1,requires_grad=True)"
      ],
      "execution_count": null,
      "outputs": []
    },
    {
      "cell_type": "code",
      "metadata": {
        "id": "5jiLWijVw0lt"
      },
      "source": [
        "hypothesis = 1 / (1 + torch.exp(-(x_train.matmul(W) + b))) ##로지스틱회귀의 정의"
      ],
      "execution_count": null,
      "outputs": []
    },
    {
      "cell_type": "code",
      "metadata": {
        "id": "0pmpspEKw0lu",
        "outputId": "40b370ba-75cb-4fbb-c454-d3612a2672b1"
      },
      "source": [
        "print(hypothesis)              # 최초의 hypothesis를 0으로 둬서 기본값인 0.5로 나옴\n",
        "print(hypothesis.shape)  "
      ],
      "execution_count": null,
      "outputs": [
        {
          "output_type": "stream",
          "text": [
            "tensor([[0.5000],\n",
            "        [0.5000],\n",
            "        [0.5000],\n",
            "        [0.5000],\n",
            "        [0.5000],\n",
            "        [0.5000]], grad_fn=<MulBackward0>)\n",
            "torch.Size([6, 1])\n"
          ],
          "name": "stdout"
        }
      ]
    },
    {
      "cell_type": "code",
      "metadata": {
        "id": "nH4LI3PWw0lv",
        "outputId": "782b3833-13d2-415f-df22-4cc9c0c6c1eb"
      },
      "source": [
        "print('1/(1+e^{-1}) equals: ', torch.sigmoid(torch.FloatTensor([1])))"
      ],
      "execution_count": null,
      "outputs": [
        {
          "output_type": "stream",
          "text": [
            "1/(1+e^{-1}) equals:  tensor([0.7311])\n"
          ],
          "name": "stdout"
        }
      ]
    },
    {
      "cell_type": "code",
      "metadata": {
        "id": "Ry7h6hZJw0lw"
      },
      "source": [
        "hypothesis = torch.sigmoid(x_train.matmul(W) + b) ##sigmoid로 로지스틱회귀를 대체할 수 있음"
      ],
      "execution_count": null,
      "outputs": []
    },
    {
      "cell_type": "code",
      "metadata": {
        "scrolled": true,
        "id": "GPIlrj4Ww0lw",
        "outputId": "e0a718a5-b582-43ba-d3e8-fd08b9e34ffb"
      },
      "source": [
        "print(hypothesis)\n",
        "print(hypothesis.shape)"
      ],
      "execution_count": null,
      "outputs": [
        {
          "output_type": "stream",
          "text": [
            "tensor([[0.5000],\n",
            "        [0.5000],\n",
            "        [0.5000],\n",
            "        [0.5000],\n",
            "        [0.5000],\n",
            "        [0.5000]], grad_fn=<SigmoidBackward>)\n",
            "torch.Size([6, 1])\n"
          ],
          "name": "stdout"
        }
      ]
    },
    {
      "cell_type": "code",
      "metadata": {
        "id": "zw7ILFtDw0lx",
        "outputId": "a68edcc9-53f4-4d7c-9e10-1e89a688ca5b"
      },
      "source": [
        "print(hypothesis)\n",
        "print(y_train)"
      ],
      "execution_count": null,
      "outputs": [
        {
          "output_type": "stream",
          "text": [
            "tensor([[0.5000],\n",
            "        [0.5000],\n",
            "        [0.5000],\n",
            "        [0.5000],\n",
            "        [0.5000],\n",
            "        [0.5000]], grad_fn=<SigmoidBackward>)\n",
            "tensor([[0.],\n",
            "        [0.],\n",
            "        [0.],\n",
            "        [1.],\n",
            "        [1.],\n",
            "        [1.]])\n"
          ],
          "name": "stdout"
        }
      ]
    },
    {
      "cell_type": "code",
      "metadata": {
        "id": "QgHK97OTw0lx",
        "outputId": "eb29d6c4-2cd2-4e41-eb25-07e2425a5515"
      },
      "source": [
        "-(y_train[0] * torch.log(hypothesis[0]) +       \n",
        " (1 - y_train[0]) * torch.log(1 - hypothesis[0]))    #첫 Element를 가지고 계산한 손실값"
      ],
      "execution_count": null,
      "outputs": [
        {
          "output_type": "execute_result",
          "data": {
            "text/plain": [
              "tensor([0.6931], grad_fn=<NegBackward>)"
            ]
          },
          "metadata": {
            "tags": []
          },
          "execution_count": 15
        }
      ]
    },
    {
      "cell_type": "code",
      "metadata": {
        "id": "Eyfh9uG-w0ly",
        "outputId": "2cd2ed76-7e31-42a5-d9ee-382cf00445e1"
      },
      "source": [
        "losses = -(y_train * torch.log(hypothesis) +\n",
        "          (1 - y_train) * torch.log(1 - hypothesis))\n",
        "print(losses)                                      #손실값의 정의"
      ],
      "execution_count": null,
      "outputs": [
        {
          "output_type": "stream",
          "text": [
            "tensor([[0.6931],\n",
            "        [0.6931],\n",
            "        [0.6931],\n",
            "        [0.6931],\n",
            "        [0.6931],\n",
            "        [0.6931]], grad_fn=<NegBackward>)\n"
          ],
          "name": "stdout"
        }
      ]
    },
    {
      "cell_type": "code",
      "metadata": {
        "id": "mi7n8e23w0lz",
        "outputId": "92e5ffa5-19cf-4c01-c6b4-db41c2f69345"
      },
      "source": [
        "cost = losses.mean()\n",
        "print(cost)"
      ],
      "execution_count": null,
      "outputs": [
        {
          "output_type": "stream",
          "text": [
            "tensor(0.6931, grad_fn=<MeanBackward0>)\n"
          ],
          "name": "stdout"
        }
      ]
    },
    {
      "cell_type": "code",
      "metadata": {
        "id": "B6wDzK4Gw0lz",
        "outputId": "ef2c319e-6be1-4f84-b124-25ebdc3ce319"
      },
      "source": [
        "F.binary_cross_entropy(hypothesis, y_train)       # 이 함수를 이용하여 수식없이 계산가능함"
      ],
      "execution_count": null,
      "outputs": [
        {
          "output_type": "execute_result",
          "data": {
            "text/plain": [
              "tensor(0.6931, grad_fn=<BinaryCrossEntropyBackward>)"
            ]
          },
          "metadata": {
            "tags": []
          },
          "execution_count": 18
        }
      ]
    },
    {
      "cell_type": "code",
      "metadata": {
        "id": "wG7vTVbow0l0",
        "outputId": "9c447ee9-fa9a-4e29-8e29-7bdd6a42f1f5"
      },
      "source": [
        "W = torch.zeros((2,1), requires_grad=True)\n",
        "b = torch.zeros(1, requires_grad=True)\n",
        "\n",
        "optimizer = optim.SGD([W,b], lr=1)\n",
        "\n",
        "nb_epochs = 1000\n",
        "for epoch in range(nb_epochs + 1):\n",
        "    \n",
        "    hypothesis = torch.sigmoid(x_train.matmul(W) +b)\n",
        "    cost = F.binary_cross_entropy(hypothesis, y_train)\n",
        "    \n",
        "    optimizer.zero_grad()\n",
        "    cost.backward()\n",
        "    optimizer.step()\n",
        "    \n",
        "    if epoch % 100 == 0:\n",
        "        print('Epoch {:4d}/{} Cost: {:.6f}'.format(\n",
        "            epoch, nb_epochs, cost.item()\n",
        "        ), W)"
      ],
      "execution_count": null,
      "outputs": [
        {
          "output_type": "stream",
          "text": [
            "Epoch    0/1000 Cost: 0.693147 tensor([[0.7500],\n",
            "        [0.1667]], requires_grad=True)\n",
            "Epoch  100/1000 Cost: 0.134722 tensor([[1.5568],\n",
            "        [0.3875]], requires_grad=True)\n",
            "Epoch  200/1000 Cost: 0.080643 tensor([[1.9606],\n",
            "        [0.7348]], requires_grad=True)\n",
            "Epoch  300/1000 Cost: 0.057900 tensor([[2.2485],\n",
            "        [0.9331]], requires_grad=True)\n",
            "Epoch  400/1000 Cost: 0.045300 tensor([[2.4706],\n",
            "        [1.0731]], requires_grad=True)\n",
            "Epoch  500/1000 Cost: 0.037261 tensor([[2.6517],\n",
            "        [1.1815]], requires_grad=True)\n",
            "Epoch  600/1000 Cost: 0.031673 tensor([[2.8046],\n",
            "        [1.2699]], requires_grad=True)\n",
            "Epoch  700/1000 Cost: 0.027556 tensor([[2.9371],\n",
            "        [1.3447]], requires_grad=True)\n",
            "Epoch  800/1000 Cost: 0.024394 tensor([[3.0539],\n",
            "        [1.4095]], requires_grad=True)\n",
            "Epoch  900/1000 Cost: 0.021888 tensor([[3.1584],\n",
            "        [1.4667]], requires_grad=True)\n",
            "Epoch 1000/1000 Cost: 0.019852 tensor([[3.2530],\n",
            "        [1.5179]], requires_grad=True)\n"
          ],
          "name": "stdout"
        }
      ]
    },
    {
      "cell_type": "code",
      "metadata": {
        "id": "2UJIoua3w0l1",
        "outputId": "798aaf40-45a6-4075-d346-d568fbddaf03"
      },
      "source": [
        "print(x_train)\n",
        "print(W)\n",
        "print(b)\n",
        "print(cost)"
      ],
      "execution_count": null,
      "outputs": [
        {
          "output_type": "stream",
          "text": [
            "tensor([[1., 2.],\n",
            "        [2., 3.],\n",
            "        [3., 1.],\n",
            "        [4., 3.],\n",
            "        [5., 3.],\n",
            "        [6., 2.]])\n",
            "tensor([[3.2530],\n",
            "        [1.5179]], requires_grad=True)\n",
            "tensor([-14.4819], requires_grad=True)\n",
            "tensor(0.0199, grad_fn=<BinaryCrossEntropyBackward>)\n"
          ],
          "name": "stdout"
        }
      ]
    },
    {
      "cell_type": "code",
      "metadata": {
        "colab": {
          "base_uri": "https://localhost:8080/",
          "height": 136
        },
        "id": "zfS8Cn7aw0l2",
        "outputId": "8eda4775-7d88-4eff-c292-034d07dcd710"
      },
      "source": [
        "hypothesis = torch.sigmoid(x_train.matmul(W)+b)\n",
        "print(hypothesis[:5])"
      ],
      "execution_count": null,
      "outputs": [
        {
          "output_type": "error",
          "ename": "SyntaxError",
          "evalue": "ignored",
          "traceback": [
            "\u001b[0;36m  File \u001b[0;32m\"<ipython-input-1-2d3978a49a84>\"\u001b[0;36m, line \u001b[0;32m2\u001b[0m\n\u001b[0;31m    print(hypothesis[)\u001b[0m\n\u001b[0m                     ^\u001b[0m\n\u001b[0;31mSyntaxError\u001b[0m\u001b[0;31m:\u001b[0m invalid syntax\n"
          ]
        }
      ]
    },
    {
      "cell_type": "code",
      "metadata": {
        "id": "9hPtRmiew0l3",
        "outputId": "cf8c6449-7b5e-4b61-b4da-9b69e3df012b"
      },
      "source": [
        "prediction = hypothesis >= torch.FloatTensor([0.5])\n",
        "print(prediction[:5])"
      ],
      "execution_count": null,
      "outputs": [
        {
          "output_type": "stream",
          "text": [
            "tensor([[False],\n",
            "        [False],\n",
            "        [False],\n",
            "        [ True],\n",
            "        [ True]])\n"
          ],
          "name": "stdout"
        }
      ]
    },
    {
      "cell_type": "code",
      "metadata": {
        "id": "AV-mZNJbw0l3",
        "outputId": "db9880d2-f639-40d6-e7c2-7203f865560d"
      },
      "source": [
        "print(prediction[:5])\n",
        "print(y_train[:5])"
      ],
      "execution_count": null,
      "outputs": [
        {
          "output_type": "stream",
          "text": [
            "tensor([[False],\n",
            "        [False],\n",
            "        [False],\n",
            "        [ True],\n",
            "        [ True]])\n",
            "tensor([[0.],\n",
            "        [0.],\n",
            "        [0.],\n",
            "        [1.],\n",
            "        [1.]])\n"
          ],
          "name": "stdout"
        }
      ]
    },
    {
      "cell_type": "code",
      "metadata": {
        "id": "HT4gk55rw0l3",
        "outputId": "2958fdbc-0664-49ed-fc30-d2e0929552dd"
      },
      "source": [
        "correct_prediction = prediction.float() == y_train\n",
        "print(correct_prediction[:5])"
      ],
      "execution_count": null,
      "outputs": [
        {
          "output_type": "stream",
          "text": [
            "tensor([[True],\n",
            "        [True],\n",
            "        [True],\n",
            "        [True],\n",
            "        [True]])\n"
          ],
          "name": "stdout"
        }
      ]
    },
    {
      "cell_type": "code",
      "metadata": {
        "id": "m8k8qWiMw0l4"
      },
      "source": [
        "class BinaryClassifier(nn.Module):\n",
        "    def __init__(self):\n",
        "        super().__init__()\n",
        "        self.linear = nn.Linear(2,1)\n",
        "        self.sigmoid = nn.Sigmoid()\n",
        "        \n",
        "    def forward(self,x):\n",
        "        return self.sigmoid(self.linear(x))"
      ],
      "execution_count": null,
      "outputs": []
    },
    {
      "cell_type": "code",
      "metadata": {
        "id": "f_wQqPI-w0l4"
      },
      "source": [
        "model = BinaryClassifier()"
      ],
      "execution_count": null,
      "outputs": []
    },
    {
      "cell_type": "code",
      "metadata": {
        "id": "wyzKNNtOw0l4",
        "outputId": "206f3403-59a6-433d-f765-b8a0beb3cbf0"
      },
      "source": [
        "optimizer = optim.SGD(model.parameters(), lr=1)\n",
        "\n",
        "nb_epochs = 100\n",
        "for epoch in range(nb_epochs + 1):\n",
        "    \n",
        "    hypothesis = model(x_train)\n",
        "    \n",
        "    cost = F.binary_cross_entropy(hypothesis, y_train)\n",
        "    \n",
        "    optimizer.zero_grad()\n",
        "    cost.backward()\n",
        "    optimizer.step()\n",
        "    \n",
        "    if epoch % 10 ==0:\n",
        "        prediction = hypothesis >= torch.FloatTensor([0.5])\n",
        "        correct_prediction = prediction.float() == y_train\n",
        "        accuracy = correct_prediction.sum().item() / len(correct_prediction)\n",
        "        print('Epoch {:4d}/{} Cost: {:.6f} Accuracy {:2.2f}'.format(\n",
        "            epoch, nb_epochs, cost.item(), accuracy * 100\n",
        "        ))\n",
        "       \n",
        "        \n",
        "print(W)\n",
        "print(b)"
      ],
      "execution_count": null,
      "outputs": [
        {
          "output_type": "stream",
          "text": [
            "Epoch    0/100 Cost: 0.036081 Accuracy 100.00\n",
            "Epoch   10/100 Cost: 0.035474 Accuracy 100.00\n",
            "Epoch   20/100 Cost: 0.034888 Accuracy 100.00\n",
            "Epoch   30/100 Cost: 0.034321 Accuracy 100.00\n",
            "Epoch   40/100 Cost: 0.033772 Accuracy 100.00\n",
            "Epoch   50/100 Cost: 0.033241 Accuracy 100.00\n",
            "Epoch   60/100 Cost: 0.032726 Accuracy 100.00\n",
            "Epoch   70/100 Cost: 0.032228 Accuracy 100.00\n",
            "Epoch   80/100 Cost: 0.031744 Accuracy 100.00\n",
            "Epoch   90/100 Cost: 0.031275 Accuracy 100.00\n",
            "Epoch  100/100 Cost: 0.030820 Accuracy 100.00\n",
            "tensor([[3.2530],\n",
            "        [1.5179]], requires_grad=True)\n",
            "tensor([-14.4819], requires_grad=True)\n"
          ],
          "name": "stdout"
        }
      ]
    },
    {
      "cell_type": "markdown",
      "metadata": {
        "id": "gqzIRJSOw0l5"
      },
      "source": [
        "## "
      ]
    }
  ]
}