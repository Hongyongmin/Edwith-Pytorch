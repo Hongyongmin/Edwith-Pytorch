{
  "nbformat": 4,
  "nbformat_minor": 0,
  "metadata": {
    "kernelspec": {
      "display_name": "Python 3",
      "language": "python",
      "name": "python3"
    },
    "language_info": {
      "codemirror_mode": {
        "name": "ipython",
        "version": 3
      },
      "file_extension": ".py",
      "mimetype": "text/x-python",
      "name": "python",
      "nbconvert_exporter": "python",
      "pygments_lexer": "ipython3",
      "version": "3.8.3"
    },
    "colab": {
      "name": "3. Deeper Look at GD.ipynb",
      "provenance": [],
      "include_colab_link": true
    }
  },
  "cells": [
    {
      "cell_type": "markdown",
      "metadata": {
        "id": "view-in-github",
        "colab_type": "text"
      },
      "source": [
        "<a href=\"https://colab.research.google.com/github/Hongyongmin/Edwith-Pytorch/blob/main/3_Deeper_Look_at_GD.ipynb\" target=\"_parent\"><img src=\"https://colab.research.google.com/assets/colab-badge.svg\" alt=\"Open In Colab\"/></a>"
      ]
    },
    {
      "cell_type": "code",
      "metadata": {
        "id": "G2XSrsjEvEf7"
      },
      "source": [
        "import torch\n",
        "import torch.optim as optim"
      ],
      "execution_count": null,
      "outputs": []
    },
    {
      "cell_type": "code",
      "metadata": {
        "colab": {
          "base_uri": "https://localhost:8080/"
        },
        "id": "ssfx5a2hvEgE",
        "outputId": "3ac14737-255b-4718-8b19-b127c77897b0"
      },
      "source": [
        "x_train = torch.FloatTensor([[1],[2],[3]])\n",
        "y_train = torch.FloatTensor([[1],[2],[3]])\n",
        "\n",
        "W = torch.zeros(1)\n",
        "\n",
        "lr = 0.1\n",
        "\n",
        "nb_epochs = 10\n",
        "for epoch in range(nb_epochs + 1):\n",
        "    \n",
        "    hypothesis = x_train * W\n",
        "    \n",
        "    cost = torch.mean((hypothesis - y_train) ** 2)\n",
        "    gradient = torch. sum((W * x_train - y_train) * x_train)\n",
        "    \n",
        "    print('Epoch {:4d}/{} W: {:.3f}, Cost: {:.6f}'.format(\n",
        "        epoch, nb_epochs, W.item(), cost.item()\n",
        "    ))\n",
        "    \n",
        "    W -= lr * gradient"
      ],
      "execution_count": null,
      "outputs": [
        {
          "output_type": "stream",
          "text": [
            "Epoch    0/10 W: 0.000, Cost: 4.666667\n",
            "Epoch    1/10 W: 1.400, Cost: 0.746666\n",
            "Epoch    2/10 W: 0.840, Cost: 0.119467\n",
            "Epoch    3/10 W: 1.064, Cost: 0.019115\n",
            "Epoch    4/10 W: 0.974, Cost: 0.003058\n",
            "Epoch    5/10 W: 1.010, Cost: 0.000489\n",
            "Epoch    6/10 W: 0.996, Cost: 0.000078\n",
            "Epoch    7/10 W: 1.002, Cost: 0.000013\n",
            "Epoch    8/10 W: 0.999, Cost: 0.000002\n",
            "Epoch    9/10 W: 1.000, Cost: 0.000000\n",
            "Epoch   10/10 W: 1.000, Cost: 0.000000\n"
          ],
          "name": "stdout"
        }
      ]
    },
    {
      "cell_type": "markdown",
      "metadata": {
        "id": "LOpeigxmvEgG"
      },
      "source": [
        "위 는 Gradient를 직접 계산한 것이고, 아래는 Optim을 이용하여 간단히 수행한것"
      ]
    },
    {
      "cell_type": "code",
      "metadata": {
        "colab": {
          "base_uri": "https://localhost:8080/"
        },
        "id": "A4hxp3jsvEgG",
        "outputId": "e57b6ae8-3464-44e4-ab89-92eaae4358f3"
      },
      "source": [
        "x_train = torch.FloatTensor([[1],[2],[3]])\n",
        "y_train = torch.FloatTensor([[1],[2],[3]])\n",
        "\n",
        "W = torch.zeros(1, requires_grad=True)\n",
        "\n",
        "optimizer = optim.SGD([W], lr=0.15)\n",
        "\n",
        "nb_epochs = 10\n",
        "for epoch in range(nb_epochs + 1):\n",
        "    \n",
        "    hypothesis = x_train * W\n",
        "    \n",
        "    cost = torch.mean((hypothesis - y_train) ** 2)\n",
        "    \n",
        "    print('Epoch {:4d}/{} W: {:.3f}, Cost: {:.6f}'.format(\n",
        "        epoch, nb_epochs, W.item(), cost.item()\n",
        "    ))\n",
        "    \n",
        "    optimizer.zero_grad()\n",
        "    cost.backward()\n",
        "    optimizer.step()"
      ],
      "execution_count": null,
      "outputs": [
        {
          "output_type": "stream",
          "text": [
            "Epoch    0/10 W: 0.000, Cost: 4.666667\n",
            "Epoch    1/10 W: 1.400, Cost: 0.746667\n",
            "Epoch    2/10 W: 0.840, Cost: 0.119467\n",
            "Epoch    3/10 W: 1.064, Cost: 0.019115\n",
            "Epoch    4/10 W: 0.974, Cost: 0.003058\n",
            "Epoch    5/10 W: 1.010, Cost: 0.000489\n",
            "Epoch    6/10 W: 0.996, Cost: 0.000078\n",
            "Epoch    7/10 W: 1.002, Cost: 0.000013\n",
            "Epoch    8/10 W: 0.999, Cost: 0.000002\n",
            "Epoch    9/10 W: 1.000, Cost: 0.000000\n",
            "Epoch   10/10 W: 1.000, Cost: 0.000000\n"
          ],
          "name": "stdout"
        }
      ]
    },
    {
      "cell_type": "code",
      "metadata": {
        "colab": {
          "base_uri": "https://localhost:8080/"
        },
        "id": "kb3wqp3FvEgH",
        "outputId": "8a9e6891-6c26-406d-c4e5-2b60a603f83c"
      },
      "source": [
        "x_train = torch.FloatTensor([[1],[2],[3],[4],[5]])\n",
        "y_train = torch.FloatTensor([[1],[2],[3],[4],[5]])\n",
        "\n",
        "W = torch.zeros(1, requires_grad=True)\n",
        "\n",
        "optimizer = optim.SGD([W], lr=0.15)\n",
        "\n",
        "nb_epochs = 10\n",
        "for epoch in range(nb_epochs + 1):\n",
        "    \n",
        "    hypothesis = x_train * W\n",
        "    \n",
        "    cost = torch.mean((hypothesis - y_train) ** 2)\n",
        "    \n",
        "    print('Epoch {:4d}/{} W: {:.3f}, Cost: {:.6f}'.format(\n",
        "        epoch, nb_epochs, W.item(), cost.item()\n",
        "    ))\n",
        "    \n",
        "    optimizer.zero_grad()\n",
        "    cost.backward()\n",
        "    optimizer.step()"
      ],
      "execution_count": null,
      "outputs": [
        {
          "output_type": "stream",
          "text": [
            "Epoch    0/10 W: 0.000, Cost: 11.000000\n",
            "Epoch    1/10 W: 3.300, Cost: 58.190010\n",
            "Epoch    2/10 W: -4.290, Cost: 307.825134\n",
            "Epoch    3/10 W: 13.167, Cost: 1628.395264\n",
            "Epoch    4/10 W: -26.984, Cost: 8614.211914\n",
            "Epoch    5/10 W: 65.363, Cost: 45569.195312\n",
            "Epoch    6/10 W: -147.036, Cost: 241061.031250\n",
            "Epoch    7/10 W: 341.483, Cost: 1275212.875000\n",
            "Epoch    8/10 W: -782.110, Cost: 6745876.000000\n",
            "Epoch    9/10 W: 1802.153, Cost: 35685688.000000\n",
            "Epoch   10/10 W: -4141.653, Cost: 188777328.000000\n"
          ],
          "name": "stdout"
        }
      ]
    },
    {
      "cell_type": "code",
      "metadata": {
        "colab": {
          "base_uri": "https://localhost:8080/"
        },
        "id": "IAYw0imdvEgI",
        "outputId": "83ebb774-bffa-4aa7-8125-34c366809e9c"
      },
      "source": [
        "x_train = torch.FloatTensor([[1],[2],[3],[4],[5]])\n",
        "y_train = torch.FloatTensor([[1],[2],[3],[4],[5]])\n",
        "\n",
        "W = torch.zeros(1, requires_grad=True)\n",
        "\n",
        "optimizer = optim.SGD([W], lr=0.05)\n",
        "\n",
        "nb_epochs = 10\n",
        "for epoch in range(nb_epochs + 1):\n",
        "    \n",
        "    hypothesis = x_train * W\n",
        "    \n",
        "    cost = torch.mean((hypothesis - y_train) ** 2)\n",
        "    \n",
        "    print('Epoch {:4d}/{} W: {:.3f}, Cost: {:.6f}'.format(\n",
        "        epoch, nb_epochs, W.item(), cost.item()\n",
        "    ))\n",
        "    \n",
        "    optimizer.zero_grad()\n",
        "    cost.backward()\n",
        "    optimizer.step()"
      ],
      "execution_count": null,
      "outputs": [
        {
          "output_type": "stream",
          "text": [
            "Epoch    0/10 W: 0.000, Cost: 11.000000\n",
            "Epoch    1/10 W: 1.100, Cost: 0.110000\n",
            "Epoch    2/10 W: 0.990, Cost: 0.001100\n",
            "Epoch    3/10 W: 1.001, Cost: 0.000011\n",
            "Epoch    4/10 W: 1.000, Cost: 0.000000\n",
            "Epoch    5/10 W: 1.000, Cost: 0.000000\n",
            "Epoch    6/10 W: 1.000, Cost: 0.000000\n",
            "Epoch    7/10 W: 1.000, Cost: 0.000000\n",
            "Epoch    8/10 W: 1.000, Cost: 0.000000\n",
            "Epoch    9/10 W: 1.000, Cost: 0.000000\n",
            "Epoch   10/10 W: 1.000, Cost: 0.000000\n"
          ],
          "name": "stdout"
        }
      ]
    },
    {
      "cell_type": "markdown",
      "metadata": {
        "id": "V-ruXDX-vEgI"
      },
      "source": [
        "위 두 사례로 보아 Learning Rate에 따라서 발산할 수도 있음"
      ]
    },
    {
      "cell_type": "code",
      "metadata": {
        "id": "RuvE_f2xvEgJ"
      },
      "source": [
        ""
      ],
      "execution_count": null,
      "outputs": []
    }
  ]
}