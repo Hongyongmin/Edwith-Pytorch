{
  "nbformat": 4,
  "nbformat_minor": 0,
  "metadata": {
    "colab": {
      "name": "10-2 Mnist_cnn",
      "provenance": [],
      "authorship_tag": "ABX9TyPwOteVrA50RCwrgx+A/u9y",
      "include_colab_link": true
    },
    "kernelspec": {
      "name": "python3",
      "display_name": "Python 3"
    },
    "accelerator": "GPU",
    "widgets": {
      "application/vnd.jupyter.widget-state+json": {
        "5fa80d9a19034b13b928c363b809301e": {
          "model_module": "@jupyter-widgets/controls",
          "model_name": "HBoxModel",
          "state": {
            "_view_name": "HBoxView",
            "_dom_classes": [],
            "_model_name": "HBoxModel",
            "_view_module": "@jupyter-widgets/controls",
            "_model_module_version": "1.5.0",
            "_view_count": null,
            "_view_module_version": "1.5.0",
            "box_style": "",
            "layout": "IPY_MODEL_c26c30a8964542f3969c4166e7c6fbce",
            "_model_module": "@jupyter-widgets/controls",
            "children": [
              "IPY_MODEL_b8523551887649c5b97c711a809d795f",
              "IPY_MODEL_38f436270ee44663a7897a1d4258fc5f"
            ]
          }
        },
        "c26c30a8964542f3969c4166e7c6fbce": {
          "model_module": "@jupyter-widgets/base",
          "model_name": "LayoutModel",
          "state": {
            "_view_name": "LayoutView",
            "grid_template_rows": null,
            "right": null,
            "justify_content": null,
            "_view_module": "@jupyter-widgets/base",
            "overflow": null,
            "_model_module_version": "1.2.0",
            "_view_count": null,
            "flex_flow": null,
            "width": null,
            "min_width": null,
            "border": null,
            "align_items": null,
            "bottom": null,
            "_model_module": "@jupyter-widgets/base",
            "top": null,
            "grid_column": null,
            "overflow_y": null,
            "overflow_x": null,
            "grid_auto_flow": null,
            "grid_area": null,
            "grid_template_columns": null,
            "flex": null,
            "_model_name": "LayoutModel",
            "justify_items": null,
            "grid_row": null,
            "max_height": null,
            "align_content": null,
            "visibility": null,
            "align_self": null,
            "height": null,
            "min_height": null,
            "padding": null,
            "grid_auto_rows": null,
            "grid_gap": null,
            "max_width": null,
            "order": null,
            "_view_module_version": "1.2.0",
            "grid_template_areas": null,
            "object_position": null,
            "object_fit": null,
            "grid_auto_columns": null,
            "margin": null,
            "display": null,
            "left": null
          }
        },
        "b8523551887649c5b97c711a809d795f": {
          "model_module": "@jupyter-widgets/controls",
          "model_name": "FloatProgressModel",
          "state": {
            "_view_name": "ProgressView",
            "style": "IPY_MODEL_ebe71644a9ec48beac37b3a288244d8b",
            "_dom_classes": [],
            "description": "",
            "_model_name": "FloatProgressModel",
            "bar_style": "info",
            "max": 1,
            "_view_module": "@jupyter-widgets/controls",
            "_model_module_version": "1.5.0",
            "value": 1,
            "_view_count": null,
            "_view_module_version": "1.5.0",
            "orientation": "horizontal",
            "min": 0,
            "description_tooltip": null,
            "_model_module": "@jupyter-widgets/controls",
            "layout": "IPY_MODEL_313a85e9626d47ce936322a34a201313"
          }
        },
        "38f436270ee44663a7897a1d4258fc5f": {
          "model_module": "@jupyter-widgets/controls",
          "model_name": "HTMLModel",
          "state": {
            "_view_name": "HTMLView",
            "style": "IPY_MODEL_6bcbeb0cd77e491d8bbbd92f73f5c8bd",
            "_dom_classes": [],
            "description": "",
            "_model_name": "HTMLModel",
            "placeholder": "​",
            "_view_module": "@jupyter-widgets/controls",
            "_model_module_version": "1.5.0",
            "value": " 9920512/? [00:20&lt;00:00, 806109.35it/s]",
            "_view_count": null,
            "_view_module_version": "1.5.0",
            "description_tooltip": null,
            "_model_module": "@jupyter-widgets/controls",
            "layout": "IPY_MODEL_6dc36127ab79425a8a59c7fad95aca37"
          }
        },
        "ebe71644a9ec48beac37b3a288244d8b": {
          "model_module": "@jupyter-widgets/controls",
          "model_name": "ProgressStyleModel",
          "state": {
            "_view_name": "StyleView",
            "_model_name": "ProgressStyleModel",
            "description_width": "initial",
            "_view_module": "@jupyter-widgets/base",
            "_model_module_version": "1.5.0",
            "_view_count": null,
            "_view_module_version": "1.2.0",
            "bar_color": null,
            "_model_module": "@jupyter-widgets/controls"
          }
        },
        "313a85e9626d47ce936322a34a201313": {
          "model_module": "@jupyter-widgets/base",
          "model_name": "LayoutModel",
          "state": {
            "_view_name": "LayoutView",
            "grid_template_rows": null,
            "right": null,
            "justify_content": null,
            "_view_module": "@jupyter-widgets/base",
            "overflow": null,
            "_model_module_version": "1.2.0",
            "_view_count": null,
            "flex_flow": null,
            "width": null,
            "min_width": null,
            "border": null,
            "align_items": null,
            "bottom": null,
            "_model_module": "@jupyter-widgets/base",
            "top": null,
            "grid_column": null,
            "overflow_y": null,
            "overflow_x": null,
            "grid_auto_flow": null,
            "grid_area": null,
            "grid_template_columns": null,
            "flex": null,
            "_model_name": "LayoutModel",
            "justify_items": null,
            "grid_row": null,
            "max_height": null,
            "align_content": null,
            "visibility": null,
            "align_self": null,
            "height": null,
            "min_height": null,
            "padding": null,
            "grid_auto_rows": null,
            "grid_gap": null,
            "max_width": null,
            "order": null,
            "_view_module_version": "1.2.0",
            "grid_template_areas": null,
            "object_position": null,
            "object_fit": null,
            "grid_auto_columns": null,
            "margin": null,
            "display": null,
            "left": null
          }
        },
        "6bcbeb0cd77e491d8bbbd92f73f5c8bd": {
          "model_module": "@jupyter-widgets/controls",
          "model_name": "DescriptionStyleModel",
          "state": {
            "_view_name": "StyleView",
            "_model_name": "DescriptionStyleModel",
            "description_width": "",
            "_view_module": "@jupyter-widgets/base",
            "_model_module_version": "1.5.0",
            "_view_count": null,
            "_view_module_version": "1.2.0",
            "_model_module": "@jupyter-widgets/controls"
          }
        },
        "6dc36127ab79425a8a59c7fad95aca37": {
          "model_module": "@jupyter-widgets/base",
          "model_name": "LayoutModel",
          "state": {
            "_view_name": "LayoutView",
            "grid_template_rows": null,
            "right": null,
            "justify_content": null,
            "_view_module": "@jupyter-widgets/base",
            "overflow": null,
            "_model_module_version": "1.2.0",
            "_view_count": null,
            "flex_flow": null,
            "width": null,
            "min_width": null,
            "border": null,
            "align_items": null,
            "bottom": null,
            "_model_module": "@jupyter-widgets/base",
            "top": null,
            "grid_column": null,
            "overflow_y": null,
            "overflow_x": null,
            "grid_auto_flow": null,
            "grid_area": null,
            "grid_template_columns": null,
            "flex": null,
            "_model_name": "LayoutModel",
            "justify_items": null,
            "grid_row": null,
            "max_height": null,
            "align_content": null,
            "visibility": null,
            "align_self": null,
            "height": null,
            "min_height": null,
            "padding": null,
            "grid_auto_rows": null,
            "grid_gap": null,
            "max_width": null,
            "order": null,
            "_view_module_version": "1.2.0",
            "grid_template_areas": null,
            "object_position": null,
            "object_fit": null,
            "grid_auto_columns": null,
            "margin": null,
            "display": null,
            "left": null
          }
        },
        "7572a16b1fdc4c8d9f2bfc9e183e3929": {
          "model_module": "@jupyter-widgets/controls",
          "model_name": "HBoxModel",
          "state": {
            "_view_name": "HBoxView",
            "_dom_classes": [],
            "_model_name": "HBoxModel",
            "_view_module": "@jupyter-widgets/controls",
            "_model_module_version": "1.5.0",
            "_view_count": null,
            "_view_module_version": "1.5.0",
            "box_style": "",
            "layout": "IPY_MODEL_02fc037d014f49d7a952b850f97f483a",
            "_model_module": "@jupyter-widgets/controls",
            "children": [
              "IPY_MODEL_223f69a31bef49428947da1f4052f60b",
              "IPY_MODEL_63d3c51949ca486f8fafd06240af714b"
            ]
          }
        },
        "02fc037d014f49d7a952b850f97f483a": {
          "model_module": "@jupyter-widgets/base",
          "model_name": "LayoutModel",
          "state": {
            "_view_name": "LayoutView",
            "grid_template_rows": null,
            "right": null,
            "justify_content": null,
            "_view_module": "@jupyter-widgets/base",
            "overflow": null,
            "_model_module_version": "1.2.0",
            "_view_count": null,
            "flex_flow": null,
            "width": null,
            "min_width": null,
            "border": null,
            "align_items": null,
            "bottom": null,
            "_model_module": "@jupyter-widgets/base",
            "top": null,
            "grid_column": null,
            "overflow_y": null,
            "overflow_x": null,
            "grid_auto_flow": null,
            "grid_area": null,
            "grid_template_columns": null,
            "flex": null,
            "_model_name": "LayoutModel",
            "justify_items": null,
            "grid_row": null,
            "max_height": null,
            "align_content": null,
            "visibility": null,
            "align_self": null,
            "height": null,
            "min_height": null,
            "padding": null,
            "grid_auto_rows": null,
            "grid_gap": null,
            "max_width": null,
            "order": null,
            "_view_module_version": "1.2.0",
            "grid_template_areas": null,
            "object_position": null,
            "object_fit": null,
            "grid_auto_columns": null,
            "margin": null,
            "display": null,
            "left": null
          }
        },
        "223f69a31bef49428947da1f4052f60b": {
          "model_module": "@jupyter-widgets/controls",
          "model_name": "FloatProgressModel",
          "state": {
            "_view_name": "ProgressView",
            "style": "IPY_MODEL_b2103ff538e249edaecdc9c1182bb166",
            "_dom_classes": [],
            "description": "",
            "_model_name": "FloatProgressModel",
            "bar_style": "success",
            "max": 1,
            "_view_module": "@jupyter-widgets/controls",
            "_model_module_version": "1.5.0",
            "value": 1,
            "_view_count": null,
            "_view_module_version": "1.5.0",
            "orientation": "horizontal",
            "min": 0,
            "description_tooltip": null,
            "_model_module": "@jupyter-widgets/controls",
            "layout": "IPY_MODEL_45e055371e6b45b985516f5b47f49dd3"
          }
        },
        "63d3c51949ca486f8fafd06240af714b": {
          "model_module": "@jupyter-widgets/controls",
          "model_name": "HTMLModel",
          "state": {
            "_view_name": "HTMLView",
            "style": "IPY_MODEL_63f4d790432b4cc0b6f3b1fb161d7f2d",
            "_dom_classes": [],
            "description": "",
            "_model_name": "HTMLModel",
            "placeholder": "​",
            "_view_module": "@jupyter-widgets/controls",
            "_model_module_version": "1.5.0",
            "value": " 32768/? [00:00&lt;00:00, 250382.49it/s]",
            "_view_count": null,
            "_view_module_version": "1.5.0",
            "description_tooltip": null,
            "_model_module": "@jupyter-widgets/controls",
            "layout": "IPY_MODEL_c32b8c78501a4165aa82cddce49880d5"
          }
        },
        "b2103ff538e249edaecdc9c1182bb166": {
          "model_module": "@jupyter-widgets/controls",
          "model_name": "ProgressStyleModel",
          "state": {
            "_view_name": "StyleView",
            "_model_name": "ProgressStyleModel",
            "description_width": "initial",
            "_view_module": "@jupyter-widgets/base",
            "_model_module_version": "1.5.0",
            "_view_count": null,
            "_view_module_version": "1.2.0",
            "bar_color": null,
            "_model_module": "@jupyter-widgets/controls"
          }
        },
        "45e055371e6b45b985516f5b47f49dd3": {
          "model_module": "@jupyter-widgets/base",
          "model_name": "LayoutModel",
          "state": {
            "_view_name": "LayoutView",
            "grid_template_rows": null,
            "right": null,
            "justify_content": null,
            "_view_module": "@jupyter-widgets/base",
            "overflow": null,
            "_model_module_version": "1.2.0",
            "_view_count": null,
            "flex_flow": null,
            "width": null,
            "min_width": null,
            "border": null,
            "align_items": null,
            "bottom": null,
            "_model_module": "@jupyter-widgets/base",
            "top": null,
            "grid_column": null,
            "overflow_y": null,
            "overflow_x": null,
            "grid_auto_flow": null,
            "grid_area": null,
            "grid_template_columns": null,
            "flex": null,
            "_model_name": "LayoutModel",
            "justify_items": null,
            "grid_row": null,
            "max_height": null,
            "align_content": null,
            "visibility": null,
            "align_self": null,
            "height": null,
            "min_height": null,
            "padding": null,
            "grid_auto_rows": null,
            "grid_gap": null,
            "max_width": null,
            "order": null,
            "_view_module_version": "1.2.0",
            "grid_template_areas": null,
            "object_position": null,
            "object_fit": null,
            "grid_auto_columns": null,
            "margin": null,
            "display": null,
            "left": null
          }
        },
        "63f4d790432b4cc0b6f3b1fb161d7f2d": {
          "model_module": "@jupyter-widgets/controls",
          "model_name": "DescriptionStyleModel",
          "state": {
            "_view_name": "StyleView",
            "_model_name": "DescriptionStyleModel",
            "description_width": "",
            "_view_module": "@jupyter-widgets/base",
            "_model_module_version": "1.5.0",
            "_view_count": null,
            "_view_module_version": "1.2.0",
            "_model_module": "@jupyter-widgets/controls"
          }
        },
        "c32b8c78501a4165aa82cddce49880d5": {
          "model_module": "@jupyter-widgets/base",
          "model_name": "LayoutModel",
          "state": {
            "_view_name": "LayoutView",
            "grid_template_rows": null,
            "right": null,
            "justify_content": null,
            "_view_module": "@jupyter-widgets/base",
            "overflow": null,
            "_model_module_version": "1.2.0",
            "_view_count": null,
            "flex_flow": null,
            "width": null,
            "min_width": null,
            "border": null,
            "align_items": null,
            "bottom": null,
            "_model_module": "@jupyter-widgets/base",
            "top": null,
            "grid_column": null,
            "overflow_y": null,
            "overflow_x": null,
            "grid_auto_flow": null,
            "grid_area": null,
            "grid_template_columns": null,
            "flex": null,
            "_model_name": "LayoutModel",
            "justify_items": null,
            "grid_row": null,
            "max_height": null,
            "align_content": null,
            "visibility": null,
            "align_self": null,
            "height": null,
            "min_height": null,
            "padding": null,
            "grid_auto_rows": null,
            "grid_gap": null,
            "max_width": null,
            "order": null,
            "_view_module_version": "1.2.0",
            "grid_template_areas": null,
            "object_position": null,
            "object_fit": null,
            "grid_auto_columns": null,
            "margin": null,
            "display": null,
            "left": null
          }
        },
        "d548d4cb79c448b68d6eff6131e900ac": {
          "model_module": "@jupyter-widgets/controls",
          "model_name": "HBoxModel",
          "state": {
            "_view_name": "HBoxView",
            "_dom_classes": [],
            "_model_name": "HBoxModel",
            "_view_module": "@jupyter-widgets/controls",
            "_model_module_version": "1.5.0",
            "_view_count": null,
            "_view_module_version": "1.5.0",
            "box_style": "",
            "layout": "IPY_MODEL_84480c3bef824776acc58990d5bd51f8",
            "_model_module": "@jupyter-widgets/controls",
            "children": [
              "IPY_MODEL_734532341ab94b3ea6e04f93298f3c2e",
              "IPY_MODEL_93b3d1d07cbb40b9ae9a4ce87261c0bb"
            ]
          }
        },
        "84480c3bef824776acc58990d5bd51f8": {
          "model_module": "@jupyter-widgets/base",
          "model_name": "LayoutModel",
          "state": {
            "_view_name": "LayoutView",
            "grid_template_rows": null,
            "right": null,
            "justify_content": null,
            "_view_module": "@jupyter-widgets/base",
            "overflow": null,
            "_model_module_version": "1.2.0",
            "_view_count": null,
            "flex_flow": null,
            "width": null,
            "min_width": null,
            "border": null,
            "align_items": null,
            "bottom": null,
            "_model_module": "@jupyter-widgets/base",
            "top": null,
            "grid_column": null,
            "overflow_y": null,
            "overflow_x": null,
            "grid_auto_flow": null,
            "grid_area": null,
            "grid_template_columns": null,
            "flex": null,
            "_model_name": "LayoutModel",
            "justify_items": null,
            "grid_row": null,
            "max_height": null,
            "align_content": null,
            "visibility": null,
            "align_self": null,
            "height": null,
            "min_height": null,
            "padding": null,
            "grid_auto_rows": null,
            "grid_gap": null,
            "max_width": null,
            "order": null,
            "_view_module_version": "1.2.0",
            "grid_template_areas": null,
            "object_position": null,
            "object_fit": null,
            "grid_auto_columns": null,
            "margin": null,
            "display": null,
            "left": null
          }
        },
        "734532341ab94b3ea6e04f93298f3c2e": {
          "model_module": "@jupyter-widgets/controls",
          "model_name": "FloatProgressModel",
          "state": {
            "_view_name": "ProgressView",
            "style": "IPY_MODEL_735c703a5d1a403bb4ec175c657a82f4",
            "_dom_classes": [],
            "description": "",
            "_model_name": "FloatProgressModel",
            "bar_style": "info",
            "max": 1,
            "_view_module": "@jupyter-widgets/controls",
            "_model_module_version": "1.5.0",
            "value": 1,
            "_view_count": null,
            "_view_module_version": "1.5.0",
            "orientation": "horizontal",
            "min": 0,
            "description_tooltip": null,
            "_model_module": "@jupyter-widgets/controls",
            "layout": "IPY_MODEL_fda0ca8e00224328a5ca29aa707015fc"
          }
        },
        "93b3d1d07cbb40b9ae9a4ce87261c0bb": {
          "model_module": "@jupyter-widgets/controls",
          "model_name": "HTMLModel",
          "state": {
            "_view_name": "HTMLView",
            "style": "IPY_MODEL_06b9c9bb031040628d78787374ddf59a",
            "_dom_classes": [],
            "description": "",
            "_model_name": "HTMLModel",
            "placeholder": "​",
            "_view_module": "@jupyter-widgets/controls",
            "_model_module_version": "1.5.0",
            "value": " 1654784/? [00:18&lt;00:00, 536261.31it/s]",
            "_view_count": null,
            "_view_module_version": "1.5.0",
            "description_tooltip": null,
            "_model_module": "@jupyter-widgets/controls",
            "layout": "IPY_MODEL_cc4574a52ef44b1cb6a42a18c4d845e6"
          }
        },
        "735c703a5d1a403bb4ec175c657a82f4": {
          "model_module": "@jupyter-widgets/controls",
          "model_name": "ProgressStyleModel",
          "state": {
            "_view_name": "StyleView",
            "_model_name": "ProgressStyleModel",
            "description_width": "initial",
            "_view_module": "@jupyter-widgets/base",
            "_model_module_version": "1.5.0",
            "_view_count": null,
            "_view_module_version": "1.2.0",
            "bar_color": null,
            "_model_module": "@jupyter-widgets/controls"
          }
        },
        "fda0ca8e00224328a5ca29aa707015fc": {
          "model_module": "@jupyter-widgets/base",
          "model_name": "LayoutModel",
          "state": {
            "_view_name": "LayoutView",
            "grid_template_rows": null,
            "right": null,
            "justify_content": null,
            "_view_module": "@jupyter-widgets/base",
            "overflow": null,
            "_model_module_version": "1.2.0",
            "_view_count": null,
            "flex_flow": null,
            "width": null,
            "min_width": null,
            "border": null,
            "align_items": null,
            "bottom": null,
            "_model_module": "@jupyter-widgets/base",
            "top": null,
            "grid_column": null,
            "overflow_y": null,
            "overflow_x": null,
            "grid_auto_flow": null,
            "grid_area": null,
            "grid_template_columns": null,
            "flex": null,
            "_model_name": "LayoutModel",
            "justify_items": null,
            "grid_row": null,
            "max_height": null,
            "align_content": null,
            "visibility": null,
            "align_self": null,
            "height": null,
            "min_height": null,
            "padding": null,
            "grid_auto_rows": null,
            "grid_gap": null,
            "max_width": null,
            "order": null,
            "_view_module_version": "1.2.0",
            "grid_template_areas": null,
            "object_position": null,
            "object_fit": null,
            "grid_auto_columns": null,
            "margin": null,
            "display": null,
            "left": null
          }
        },
        "06b9c9bb031040628d78787374ddf59a": {
          "model_module": "@jupyter-widgets/controls",
          "model_name": "DescriptionStyleModel",
          "state": {
            "_view_name": "StyleView",
            "_model_name": "DescriptionStyleModel",
            "description_width": "",
            "_view_module": "@jupyter-widgets/base",
            "_model_module_version": "1.5.0",
            "_view_count": null,
            "_view_module_version": "1.2.0",
            "_model_module": "@jupyter-widgets/controls"
          }
        },
        "cc4574a52ef44b1cb6a42a18c4d845e6": {
          "model_module": "@jupyter-widgets/base",
          "model_name": "LayoutModel",
          "state": {
            "_view_name": "LayoutView",
            "grid_template_rows": null,
            "right": null,
            "justify_content": null,
            "_view_module": "@jupyter-widgets/base",
            "overflow": null,
            "_model_module_version": "1.2.0",
            "_view_count": null,
            "flex_flow": null,
            "width": null,
            "min_width": null,
            "border": null,
            "align_items": null,
            "bottom": null,
            "_model_module": "@jupyter-widgets/base",
            "top": null,
            "grid_column": null,
            "overflow_y": null,
            "overflow_x": null,
            "grid_auto_flow": null,
            "grid_area": null,
            "grid_template_columns": null,
            "flex": null,
            "_model_name": "LayoutModel",
            "justify_items": null,
            "grid_row": null,
            "max_height": null,
            "align_content": null,
            "visibility": null,
            "align_self": null,
            "height": null,
            "min_height": null,
            "padding": null,
            "grid_auto_rows": null,
            "grid_gap": null,
            "max_width": null,
            "order": null,
            "_view_module_version": "1.2.0",
            "grid_template_areas": null,
            "object_position": null,
            "object_fit": null,
            "grid_auto_columns": null,
            "margin": null,
            "display": null,
            "left": null
          }
        },
        "ea422366505c4795bd0d4d384803cf6e": {
          "model_module": "@jupyter-widgets/controls",
          "model_name": "HBoxModel",
          "state": {
            "_view_name": "HBoxView",
            "_dom_classes": [],
            "_model_name": "HBoxModel",
            "_view_module": "@jupyter-widgets/controls",
            "_model_module_version": "1.5.0",
            "_view_count": null,
            "_view_module_version": "1.5.0",
            "box_style": "",
            "layout": "IPY_MODEL_aca39d3dffc7443b8b61e5a8c4aa581b",
            "_model_module": "@jupyter-widgets/controls",
            "children": [
              "IPY_MODEL_30cdb6570907461b940bf072e4f21be5",
              "IPY_MODEL_58deeefc21c8496c95a5e60e2756434e"
            ]
          }
        },
        "aca39d3dffc7443b8b61e5a8c4aa581b": {
          "model_module": "@jupyter-widgets/base",
          "model_name": "LayoutModel",
          "state": {
            "_view_name": "LayoutView",
            "grid_template_rows": null,
            "right": null,
            "justify_content": null,
            "_view_module": "@jupyter-widgets/base",
            "overflow": null,
            "_model_module_version": "1.2.0",
            "_view_count": null,
            "flex_flow": null,
            "width": null,
            "min_width": null,
            "border": null,
            "align_items": null,
            "bottom": null,
            "_model_module": "@jupyter-widgets/base",
            "top": null,
            "grid_column": null,
            "overflow_y": null,
            "overflow_x": null,
            "grid_auto_flow": null,
            "grid_area": null,
            "grid_template_columns": null,
            "flex": null,
            "_model_name": "LayoutModel",
            "justify_items": null,
            "grid_row": null,
            "max_height": null,
            "align_content": null,
            "visibility": null,
            "align_self": null,
            "height": null,
            "min_height": null,
            "padding": null,
            "grid_auto_rows": null,
            "grid_gap": null,
            "max_width": null,
            "order": null,
            "_view_module_version": "1.2.0",
            "grid_template_areas": null,
            "object_position": null,
            "object_fit": null,
            "grid_auto_columns": null,
            "margin": null,
            "display": null,
            "left": null
          }
        },
        "30cdb6570907461b940bf072e4f21be5": {
          "model_module": "@jupyter-widgets/controls",
          "model_name": "FloatProgressModel",
          "state": {
            "_view_name": "ProgressView",
            "style": "IPY_MODEL_7ce808dab22a4fc9945ad33c37f0e21e",
            "_dom_classes": [],
            "description": "",
            "_model_name": "FloatProgressModel",
            "bar_style": "success",
            "max": 1,
            "_view_module": "@jupyter-widgets/controls",
            "_model_module_version": "1.5.0",
            "value": 1,
            "_view_count": null,
            "_view_module_version": "1.5.0",
            "orientation": "horizontal",
            "min": 0,
            "description_tooltip": null,
            "_model_module": "@jupyter-widgets/controls",
            "layout": "IPY_MODEL_dd53dcf781cf4d2abfabf685d4cd5943"
          }
        },
        "58deeefc21c8496c95a5e60e2756434e": {
          "model_module": "@jupyter-widgets/controls",
          "model_name": "HTMLModel",
          "state": {
            "_view_name": "HTMLView",
            "style": "IPY_MODEL_a0de13ae497f4776a105747ad919cda6",
            "_dom_classes": [],
            "description": "",
            "_model_name": "HTMLModel",
            "placeholder": "​",
            "_view_module": "@jupyter-widgets/controls",
            "_model_module_version": "1.5.0",
            "value": " 8192/? [00:00&lt;00:00, 17949.21it/s]",
            "_view_count": null,
            "_view_module_version": "1.5.0",
            "description_tooltip": null,
            "_model_module": "@jupyter-widgets/controls",
            "layout": "IPY_MODEL_62d3766be5bc4546aebb7a8e44cde6ff"
          }
        },
        "7ce808dab22a4fc9945ad33c37f0e21e": {
          "model_module": "@jupyter-widgets/controls",
          "model_name": "ProgressStyleModel",
          "state": {
            "_view_name": "StyleView",
            "_model_name": "ProgressStyleModel",
            "description_width": "initial",
            "_view_module": "@jupyter-widgets/base",
            "_model_module_version": "1.5.0",
            "_view_count": null,
            "_view_module_version": "1.2.0",
            "bar_color": null,
            "_model_module": "@jupyter-widgets/controls"
          }
        },
        "dd53dcf781cf4d2abfabf685d4cd5943": {
          "model_module": "@jupyter-widgets/base",
          "model_name": "LayoutModel",
          "state": {
            "_view_name": "LayoutView",
            "grid_template_rows": null,
            "right": null,
            "justify_content": null,
            "_view_module": "@jupyter-widgets/base",
            "overflow": null,
            "_model_module_version": "1.2.0",
            "_view_count": null,
            "flex_flow": null,
            "width": null,
            "min_width": null,
            "border": null,
            "align_items": null,
            "bottom": null,
            "_model_module": "@jupyter-widgets/base",
            "top": null,
            "grid_column": null,
            "overflow_y": null,
            "overflow_x": null,
            "grid_auto_flow": null,
            "grid_area": null,
            "grid_template_columns": null,
            "flex": null,
            "_model_name": "LayoutModel",
            "justify_items": null,
            "grid_row": null,
            "max_height": null,
            "align_content": null,
            "visibility": null,
            "align_self": null,
            "height": null,
            "min_height": null,
            "padding": null,
            "grid_auto_rows": null,
            "grid_gap": null,
            "max_width": null,
            "order": null,
            "_view_module_version": "1.2.0",
            "grid_template_areas": null,
            "object_position": null,
            "object_fit": null,
            "grid_auto_columns": null,
            "margin": null,
            "display": null,
            "left": null
          }
        },
        "a0de13ae497f4776a105747ad919cda6": {
          "model_module": "@jupyter-widgets/controls",
          "model_name": "DescriptionStyleModel",
          "state": {
            "_view_name": "StyleView",
            "_model_name": "DescriptionStyleModel",
            "description_width": "",
            "_view_module": "@jupyter-widgets/base",
            "_model_module_version": "1.5.0",
            "_view_count": null,
            "_view_module_version": "1.2.0",
            "_model_module": "@jupyter-widgets/controls"
          }
        },
        "62d3766be5bc4546aebb7a8e44cde6ff": {
          "model_module": "@jupyter-widgets/base",
          "model_name": "LayoutModel",
          "state": {
            "_view_name": "LayoutView",
            "grid_template_rows": null,
            "right": null,
            "justify_content": null,
            "_view_module": "@jupyter-widgets/base",
            "overflow": null,
            "_model_module_version": "1.2.0",
            "_view_count": null,
            "flex_flow": null,
            "width": null,
            "min_width": null,
            "border": null,
            "align_items": null,
            "bottom": null,
            "_model_module": "@jupyter-widgets/base",
            "top": null,
            "grid_column": null,
            "overflow_y": null,
            "overflow_x": null,
            "grid_auto_flow": null,
            "grid_area": null,
            "grid_template_columns": null,
            "flex": null,
            "_model_name": "LayoutModel",
            "justify_items": null,
            "grid_row": null,
            "max_height": null,
            "align_content": null,
            "visibility": null,
            "align_self": null,
            "height": null,
            "min_height": null,
            "padding": null,
            "grid_auto_rows": null,
            "grid_gap": null,
            "max_width": null,
            "order": null,
            "_view_module_version": "1.2.0",
            "grid_template_areas": null,
            "object_position": null,
            "object_fit": null,
            "grid_auto_columns": null,
            "margin": null,
            "display": null,
            "left": null
          }
        }
      }
    }
  },
  "cells": [
    {
      "cell_type": "markdown",
      "metadata": {
        "id": "view-in-github",
        "colab_type": "text"
      },
      "source": [
        "<a href=\"https://colab.research.google.com/github/Hongyongmin/Edwith-Pytorch/blob/main/10_2_Mnist_cnn.ipynb\" target=\"_parent\"><img src=\"https://colab.research.google.com/assets/colab-badge.svg\" alt=\"Open In Colab\"/></a>"
      ]
    },
    {
      "cell_type": "code",
      "metadata": {
        "id": "vqzzqfTV_Y3A"
      },
      "source": [
        "import torch\r\n",
        "import torchvision.datasets as dsets\r\n",
        "import torchvision.transforms as transforms\r\n",
        "import torch.nn.init"
      ],
      "execution_count": 1,
      "outputs": []
    },
    {
      "cell_type": "code",
      "metadata": {
        "id": "qWKZ6niSE-J4"
      },
      "source": [
        "learning_rate = 0.001\r\n",
        "training_epochs = 15\r\n",
        "batch_size = 100"
      ],
      "execution_count": 2,
      "outputs": []
    },
    {
      "cell_type": "code",
      "metadata": {
        "id": "VNtT5G8eE2ID"
      },
      "source": [
        "device = 'cuda' if torch.cuda.is_available() else 'cpu'\r\n",
        "\r\n",
        "torch.manual_seed(777)\r\n",
        "if device =='cuda':\r\n",
        "  torch.cuda.manual_seed_all(777)"
      ],
      "execution_count": 3,
      "outputs": []
    },
    {
      "cell_type": "code",
      "metadata": {
        "colab": {
          "base_uri": "https://localhost:8080/",
          "height": 35
        },
        "id": "rOKdPH6VNpFO",
        "outputId": "fc3398ed-70e7-4fc3-dcfb-52366c731e4c"
      },
      "source": [
        "device"
      ],
      "execution_count": 4,
      "outputs": [
        {
          "output_type": "execute_result",
          "data": {
            "application/vnd.google.colaboratory.intrinsic+json": {
              "type": "string"
            },
            "text/plain": [
              "'cuda'"
            ]
          },
          "metadata": {
            "tags": []
          },
          "execution_count": 4
        }
      ]
    },
    {
      "cell_type": "code",
      "metadata": {
        "colab": {
          "base_uri": "https://localhost:8080/",
          "height": 399,
          "referenced_widgets": [
            "5fa80d9a19034b13b928c363b809301e",
            "c26c30a8964542f3969c4166e7c6fbce",
            "b8523551887649c5b97c711a809d795f",
            "38f436270ee44663a7897a1d4258fc5f",
            "ebe71644a9ec48beac37b3a288244d8b",
            "313a85e9626d47ce936322a34a201313",
            "6bcbeb0cd77e491d8bbbd92f73f5c8bd",
            "6dc36127ab79425a8a59c7fad95aca37",
            "7572a16b1fdc4c8d9f2bfc9e183e3929",
            "02fc037d014f49d7a952b850f97f483a",
            "223f69a31bef49428947da1f4052f60b",
            "63d3c51949ca486f8fafd06240af714b",
            "b2103ff538e249edaecdc9c1182bb166",
            "45e055371e6b45b985516f5b47f49dd3",
            "63f4d790432b4cc0b6f3b1fb161d7f2d",
            "c32b8c78501a4165aa82cddce49880d5",
            "d548d4cb79c448b68d6eff6131e900ac",
            "84480c3bef824776acc58990d5bd51f8",
            "734532341ab94b3ea6e04f93298f3c2e",
            "93b3d1d07cbb40b9ae9a4ce87261c0bb",
            "735c703a5d1a403bb4ec175c657a82f4",
            "fda0ca8e00224328a5ca29aa707015fc",
            "06b9c9bb031040628d78787374ddf59a",
            "cc4574a52ef44b1cb6a42a18c4d845e6",
            "ea422366505c4795bd0d4d384803cf6e",
            "aca39d3dffc7443b8b61e5a8c4aa581b",
            "30cdb6570907461b940bf072e4f21be5",
            "58deeefc21c8496c95a5e60e2756434e",
            "7ce808dab22a4fc9945ad33c37f0e21e",
            "dd53dcf781cf4d2abfabf685d4cd5943",
            "a0de13ae497f4776a105747ad919cda6",
            "62d3766be5bc4546aebb7a8e44cde6ff"
          ]
        },
        "id": "AgfCy2hwFDcK",
        "outputId": "6f03c918-874b-490c-c66f-8403a1391e06"
      },
      "source": [
        "mnist_train = dsets.MNIST(root = 'MNIST_data/',\r\n",
        "                          train=True,\r\n",
        "                          transform = transforms.ToTensor(),\r\n",
        "                          download = True)\r\n",
        "mnist_test = dsets.MNIST(root='MNIST_data/',\r\n",
        "                        train = False,\r\n",
        "                        transform = transforms.ToTensor(),\r\n",
        "                        download = True)"
      ],
      "execution_count": 5,
      "outputs": [
        {
          "output_type": "stream",
          "text": [
            "Downloading http://yann.lecun.com/exdb/mnist/train-images-idx3-ubyte.gz to MNIST_data/MNIST/raw/train-images-idx3-ubyte.gz\n"
          ],
          "name": "stdout"
        },
        {
          "output_type": "display_data",
          "data": {
            "application/vnd.jupyter.widget-view+json": {
              "model_id": "5fa80d9a19034b13b928c363b809301e",
              "version_minor": 0,
              "version_major": 2
            },
            "text/plain": [
              "HBox(children=(FloatProgress(value=1.0, bar_style='info', max=1.0), HTML(value='')))"
            ]
          },
          "metadata": {
            "tags": []
          }
        },
        {
          "output_type": "stream",
          "text": [
            "Extracting MNIST_data/MNIST/raw/train-images-idx3-ubyte.gz to MNIST_data/MNIST/raw\n",
            "Downloading http://yann.lecun.com/exdb/mnist/train-labels-idx1-ubyte.gz to MNIST_data/MNIST/raw/train-labels-idx1-ubyte.gz\n"
          ],
          "name": "stdout"
        },
        {
          "output_type": "display_data",
          "data": {
            "application/vnd.jupyter.widget-view+json": {
              "model_id": "7572a16b1fdc4c8d9f2bfc9e183e3929",
              "version_minor": 0,
              "version_major": 2
            },
            "text/plain": [
              "HBox(children=(FloatProgress(value=1.0, bar_style='info', max=1.0), HTML(value='')))"
            ]
          },
          "metadata": {
            "tags": []
          }
        },
        {
          "output_type": "stream",
          "text": [
            "Extracting MNIST_data/MNIST/raw/train-labels-idx1-ubyte.gz to MNIST_data/MNIST/raw\n",
            "Downloading http://yann.lecun.com/exdb/mnist/t10k-images-idx3-ubyte.gz to MNIST_data/MNIST/raw/t10k-images-idx3-ubyte.gz\n",
            "\n"
          ],
          "name": "stdout"
        },
        {
          "output_type": "display_data",
          "data": {
            "application/vnd.jupyter.widget-view+json": {
              "model_id": "d548d4cb79c448b68d6eff6131e900ac",
              "version_minor": 0,
              "version_major": 2
            },
            "text/plain": [
              "HBox(children=(FloatProgress(value=1.0, bar_style='info', max=1.0), HTML(value='')))"
            ]
          },
          "metadata": {
            "tags": []
          }
        },
        {
          "output_type": "stream",
          "text": [
            "Extracting MNIST_data/MNIST/raw/t10k-images-idx3-ubyte.gz to MNIST_data/MNIST/raw\n",
            "Downloading http://yann.lecun.com/exdb/mnist/t10k-labels-idx1-ubyte.gz to MNIST_data/MNIST/raw/t10k-labels-idx1-ubyte.gz\n"
          ],
          "name": "stdout"
        },
        {
          "output_type": "display_data",
          "data": {
            "application/vnd.jupyter.widget-view+json": {
              "model_id": "ea422366505c4795bd0d4d384803cf6e",
              "version_minor": 0,
              "version_major": 2
            },
            "text/plain": [
              "HBox(children=(FloatProgress(value=1.0, bar_style='info', max=1.0), HTML(value='')))"
            ]
          },
          "metadata": {
            "tags": []
          }
        },
        {
          "output_type": "stream",
          "text": [
            "Extracting MNIST_data/MNIST/raw/t10k-labels-idx1-ubyte.gz to MNIST_data/MNIST/raw\n",
            "Processing...\n",
            "Done!\n"
          ],
          "name": "stdout"
        },
        {
          "output_type": "stream",
          "text": [
            "/usr/local/lib/python3.6/dist-packages/torchvision/datasets/mnist.py:480: UserWarning: The given NumPy array is not writeable, and PyTorch does not support non-writeable tensors. This means you can write to the underlying (supposedly non-writeable) NumPy array using the tensor. You may want to copy the array to protect its data or make it writeable before converting it to a tensor. This type of warning will be suppressed for the rest of this program. (Triggered internally at  /pytorch/torch/csrc/utils/tensor_numpy.cpp:141.)\n",
            "  return torch.from_numpy(parsed.astype(m[2], copy=False)).view(*s)\n"
          ],
          "name": "stderr"
        }
      ]
    },
    {
      "cell_type": "code",
      "metadata": {
        "id": "FnC2lxRsFXJ3"
      },
      "source": [
        "data_loader = torch.utils.data.DataLoader(dataset = mnist_train,\r\n",
        "                                          batch_size = batch_size,\r\n",
        "                                          shuffle = True,\r\n",
        "                                          drop_last = True)"
      ],
      "execution_count": 6,
      "outputs": []
    },
    {
      "cell_type": "code",
      "metadata": {
        "colab": {
          "base_uri": "https://localhost:8080/"
        },
        "id": "GGdgUzDqFj6f",
        "outputId": "96ff0352-3f52-49cb-f3e7-3d3894abd81e"
      },
      "source": [
        "class CNN(torch.nn.Module):\r\n",
        "\r\n",
        "  def __init__(self):\r\n",
        "    super(CNN, self).__init__()\r\n",
        "    self.layer1 = torch.nn.Sequential(\r\n",
        "        torch.nn.Conv2d(1, 32, kernel_size = 3, stride = 1, padding =1),\r\n",
        "        torch.nn.ReLU(),\r\n",
        "        torch.nn.MaxPool2d(kernel_size = 2, stride = 2))\r\n",
        "    self.layer2 = torch.nn.Sequential(\r\n",
        "        torch.nn.Conv2d(32, 64, kernel_size = 2, padding = 1),\r\n",
        "        torch.nn.ReLU(),\r\n",
        "        torch.nn.MaxPool2d(kernel_size = 2, stride = 2))\r\n",
        "    self.fc = torch.nn.Linear(7 * 7 * 64, 10, bias = True)\r\n",
        "    torch.nn.init.xavier_uniform_(self.fc.weight)\r\n",
        "\r\n",
        "    \r\n",
        "  def forward(self,x):\r\n",
        "    out = self.layer1(x)\r\n",
        "    out = self.layer2(out)\r\n",
        "    out = out.view(out.size(0),-1)\r\n",
        "    out = self.fc(out)\r\n",
        "    return out"
      ],
      "execution_count": 7,
      "outputs": [
        {
          "output_type": "stream",
          "text": [
            "\n"
          ],
          "name": "stdout"
        }
      ]
    },
    {
      "cell_type": "code",
      "metadata": {
        "id": "Ma95I-FQGc0h"
      },
      "source": [
        "model = CNN().to(device)"
      ],
      "execution_count": 8,
      "outputs": []
    },
    {
      "cell_type": "code",
      "metadata": {
        "id": "aU9RISU4Geoy"
      },
      "source": [
        "criterion = torch.nn.CrossEntropyLoss().to(device)\r\n",
        "optimizer = torch.optim.Adam(model.parameters(), lr = learning_rate)"
      ],
      "execution_count": 9,
      "outputs": []
    },
    {
      "cell_type": "code",
      "metadata": {
        "colab": {
          "base_uri": "https://localhost:8080/"
        },
        "id": "bDJ3mLqCGtXg",
        "outputId": "52456057-2759-4736-beb6-1298f328ed0a"
      },
      "source": [
        "total_batch = len(data_loader)\r\n",
        "print('Learning started. It takes sometime.')\r\n",
        "for epoch in range(training_epochs):\r\n",
        "  avg_cost =0\r\n",
        "\r\n",
        "  for X, Y in data_loader:\r\n",
        "    X = X.to(device)\r\n",
        "    Y = Y.to(device)\r\n",
        "\r\n",
        "    optimizer.zero_grad()\r\n",
        "    hypothesis = model(X)\r\n",
        "    cost = criterion(hypothesis, Y)\r\n",
        "    cost.backward()\r\n",
        "    optimizer.step()\r\n",
        "\r\n",
        "    avg_cost += cost / total_batch\r\n",
        "\r\n",
        "  print('[Epoch:: {:>4}] cost = {:>.9}'.format(epoch+1, avg_cost))\r\n",
        "\r\n",
        "print('Learning Finished!')"
      ],
      "execution_count": 10,
      "outputs": [
        {
          "output_type": "stream",
          "text": [
            "Learning started. It takes sometime.\n",
            "[Epoch::    1] cost = 0.273991019\n",
            "[Epoch::    2] cost = 0.0730143487\n",
            "[Epoch::    3] cost = 0.052894447\n",
            "[Epoch::    4] cost = 0.0435905233\n",
            "[Epoch::    5] cost = 0.0372963771\n",
            "[Epoch::    6] cost = 0.0329324678\n",
            "[Epoch::    7] cost = 0.0279795136\n",
            "[Epoch::    8] cost = 0.0250027552\n",
            "[Epoch::    9] cost = 0.021250179\n",
            "[Epoch::   10] cost = 0.0189303476\n",
            "[Epoch::   11] cost = 0.0172208697\n",
            "[Epoch::   12] cost = 0.0141859725\n",
            "[Epoch::   13] cost = 0.0116033768\n",
            "[Epoch::   14] cost = 0.0109210014\n",
            "[Epoch::   15] cost = 0.00967126153\n",
            "Learning Finished!\n"
          ],
          "name": "stdout"
        }
      ]
    },
    {
      "cell_type": "code",
      "metadata": {
        "colab": {
          "base_uri": "https://localhost:8080/"
        },
        "id": "nTqaHNbVHSS8",
        "outputId": "c6faacfb-831a-4d6f-e687-23cc5942b435"
      },
      "source": [
        "with torch.no_grad():\r\n",
        "\r\n",
        "  X_test = mnist_test.test_data.view(len(mnist_test),1,28,28).float().to(device)\r\n",
        "  Y_test = mnist_test.test_labels.to(device)\r\n",
        "\r\n",
        "  prediction = model(X_test)\r\n",
        "  correct_prediction = torch.argmax(prediction, 1 ) == Y_test\r\n",
        "  accuracy = correct_prediction.float().mean()\r\n",
        "  print('Accuracy:', accuracy.item())"
      ],
      "execution_count": 11,
      "outputs": [
        {
          "output_type": "stream",
          "text": [
            "Accuracy: 0.983299970626831\n"
          ],
          "name": "stdout"
        },
        {
          "output_type": "stream",
          "text": [
            "/usr/local/lib/python3.6/dist-packages/torchvision/datasets/mnist.py:63: UserWarning: test_data has been renamed data\n",
            "  warnings.warn(\"test_data has been renamed data\")\n",
            "/usr/local/lib/python3.6/dist-packages/torchvision/datasets/mnist.py:53: UserWarning: test_labels has been renamed targets\n",
            "  warnings.warn(\"test_labels has been renamed targets\")\n"
          ],
          "name": "stderr"
        }
      ]
    },
    {
      "cell_type": "markdown",
      "metadata": {
        "id": "erMjT1AiII6j"
      },
      "source": [
        "좀더 딥하게 만들어 보면 아래임"
      ]
    },
    {
      "cell_type": "code",
      "metadata": {
        "id": "9WhnWOnqHsiJ"
      },
      "source": [
        "class CNN(torch.nn.Module):\r\n",
        "\r\n",
        "  def __init__(self):\r\n",
        "    super(CNN, self).__init__()\r\n",
        "    self.keep_prob = 0.5\r\n",
        "    self.layer1 = torch.nn.Sequential(\r\n",
        "        torch.nn.Conv2d(1, 32, kernel_size = 3, stride = 1, padding =1),\r\n",
        "        torch.nn.ReLU(),\r\n",
        "        torch.nn.MaxPool2d(kernel_size = 2, stride = 2))\r\n",
        "    self.layer2 = torch.nn.Sequential(\r\n",
        "        torch.nn.Conv2d(32, 64, kernel_size = 2, padding = 1),\r\n",
        "        torch.nn.ReLU(),\r\n",
        "        torch.nn.MaxPool2d(kernel_size = 2, stride = 2))\r\n",
        "    self.layer3 = torch.nn.Sequential(\r\n",
        "        torch.nn.Conv2d(64, 128, kernel_size=3, stride = 1, padding = 1),\r\n",
        "        torch.nn.ReLU(),\r\n",
        "        torch.nn.MaxPool2d(kernel_size=2, stride = 2, padding = 1))\r\n",
        "    self.fc1 = torch.nn.Linear(4 * 4 * 128, 625, bias = True)\r\n",
        "    torch.nn.init.xavier_uniform_(self.fc1.weight)\r\n",
        "    self.layer4 = torch.nn.Sequential(\r\n",
        "        self.fc1,\r\n",
        "        torch.nn.ReLU(),\r\n",
        "        torch.nn.Dropout(p = 1 - self.keep_prob))\r\n",
        "    self.fc2 = torch.nn.Linear(625, 10, bias = True)\r\n",
        "    torch.nn.init.xavier_uniform_(self.fc2.weight)\r\n",
        "\r\n",
        "    \r\n",
        "  def forward(self,x):\r\n",
        "    out = self.layer1(x)\r\n",
        "    out = self.layer2(out)\r\n",
        "    out = self.layer3(out)\r\n",
        "    out = out.view(out.size(0),-1)\r\n",
        "    out = self.layer4(out)\r\n",
        "    out = self.fc2(out)\r\n",
        "    return out"
      ],
      "execution_count": 12,
      "outputs": []
    },
    {
      "cell_type": "code",
      "metadata": {
        "id": "Z-qyA5v1L66G"
      },
      "source": [
        "model = CNN().to(device)\r\n"
      ],
      "execution_count": 13,
      "outputs": []
    },
    {
      "cell_type": "code",
      "metadata": {
        "id": "b7aMfLN8L8tA"
      },
      "source": [
        "criterion = torch.nn.CrossEntropyLoss().to(device)    # Softmax is internally computed.\r\n",
        "optimizer = torch.optim.Adam(model.parameters(), lr=learning_rate)"
      ],
      "execution_count": 14,
      "outputs": []
    },
    {
      "cell_type": "code",
      "metadata": {
        "colab": {
          "base_uri": "https://localhost:8080/",
          "height": 35
        },
        "id": "Z7PEz0DHNX-W",
        "outputId": "016fca35-1abf-4d65-ae01-48c4712bb8a0"
      },
      "source": [
        "device"
      ],
      "execution_count": 15,
      "outputs": [
        {
          "output_type": "execute_result",
          "data": {
            "application/vnd.google.colaboratory.intrinsic+json": {
              "type": "string"
            },
            "text/plain": [
              "'cuda'"
            ]
          },
          "metadata": {
            "tags": []
          },
          "execution_count": 15
        }
      ]
    },
    {
      "cell_type": "code",
      "metadata": {
        "colab": {
          "base_uri": "https://localhost:8080/"
        },
        "id": "yrvgBetUMyCZ",
        "outputId": "6c242830-6d3f-4e38-9f5f-6842ce59d237"
      },
      "source": [
        "total_batch = len(data_loader)\r\n",
        "model.train()    # set the model to train mode (dropout=True)\r\n",
        "print('Learning started. It takes sometime.')\r\n",
        "for epoch in range(training_epochs):\r\n",
        "    avg_cost = 0\r\n",
        "\r\n",
        "    for X, Y in data_loader:\r\n",
        "        # image is already size of (28x28), no reshape\r\n",
        "        # label is not one-hot encoded\r\n",
        "        X = X.to(device)\r\n",
        "        Y = Y.to(device)\r\n",
        "\r\n",
        "        optimizer.zero_grad()\r\n",
        "        hypothesis = model(X)\r\n",
        "        cost = criterion(hypothesis, Y)\r\n",
        "        cost.backward()\r\n",
        "        optimizer.step()\r\n",
        "\r\n",
        "        avg_cost += cost / total_batch\r\n",
        "\r\n",
        "    print('[Epoch: {:>4}] cost = {:>.9}'.format(epoch + 1, avg_cost))\r\n",
        "\r\n",
        "print('Learning Finished!')"
      ],
      "execution_count": 16,
      "outputs": [
        {
          "output_type": "stream",
          "text": [
            "Learning started. It takes sometime.\n",
            "[Epoch:    1] cost = 0.219943002\n",
            "[Epoch:    2] cost = 0.0536558218\n",
            "[Epoch:    3] cost = 0.0375116989\n",
            "[Epoch:    4] cost = 0.0293143652\n",
            "[Epoch:    5] cost = 0.0239973031\n",
            "[Epoch:    6] cost = 0.0210262723\n",
            "[Epoch:    7] cost = 0.0180218685\n",
            "[Epoch:    8] cost = 0.0148797771\n",
            "[Epoch:    9] cost = 0.0139938882\n",
            "[Epoch:   10] cost = 0.0123479469\n",
            "[Epoch:   11] cost = 0.0108595826\n",
            "[Epoch:   12] cost = 0.0108660059\n",
            "[Epoch:   13] cost = 0.00815076567\n",
            "[Epoch:   14] cost = 0.00786682218\n",
            "[Epoch:   15] cost = 0.00894461852\n",
            "Learning Finished!\n"
          ],
          "name": "stdout"
        }
      ]
    },
    {
      "cell_type": "code",
      "metadata": {
        "colab": {
          "base_uri": "https://localhost:8080/"
        },
        "id": "bNotgGeuMz-H",
        "outputId": "4d7e1101-1870-4059-9b8c-b802b13fba25"
      },
      "source": [
        "with torch.no_grad():\r\n",
        "    model.eval()    # set the model to evaluation mode (dropout=False)\r\n",
        "\r\n",
        "    X_test = mnist_test.test_data.view(len(mnist_test), 1, 28, 28).float().to(device)\r\n",
        "    Y_test = mnist_test.test_labels.to(device)\r\n",
        "\r\n",
        "    prediction = model(X_test)\r\n",
        "    correct_prediction = torch.argmax(prediction, 1) == Y_test\r\n",
        "    accuracy = correct_prediction.float().mean()\r\n",
        "    print('Accuracy:', accuracy.item())"
      ],
      "execution_count": 17,
      "outputs": [
        {
          "output_type": "stream",
          "text": [
            "Accuracy: 0.989799976348877\n"
          ],
          "name": "stdout"
        },
        {
          "output_type": "stream",
          "text": [
            "/usr/local/lib/python3.6/dist-packages/torchvision/datasets/mnist.py:63: UserWarning: test_data has been renamed data\n",
            "  warnings.warn(\"test_data has been renamed data\")\n",
            "/usr/local/lib/python3.6/dist-packages/torchvision/datasets/mnist.py:53: UserWarning: test_labels has been renamed targets\n",
            "  warnings.warn(\"test_labels has been renamed targets\")\n"
          ],
          "name": "stderr"
        }
      ]
    },
    {
      "cell_type": "code",
      "metadata": {
        "id": "IULJoPABM2sR"
      },
      "source": [
        ""
      ],
      "execution_count": 17,
      "outputs": []
    }
  ]
}