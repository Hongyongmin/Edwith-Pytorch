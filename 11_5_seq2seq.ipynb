{
  "nbformat": 4,
  "nbformat_minor": 0,
  "metadata": {
    "colab": {
      "name": "11_5 seq2seq",
      "provenance": [],
      "authorship_tag": "ABX9TyPwKHgK+YQa0l2ad3dxOugt",
      "include_colab_link": true
    },
    "kernelspec": {
      "name": "python3",
      "display_name": "Python 3"
    }
  },
  "cells": [
    {
      "cell_type": "markdown",
      "metadata": {
        "id": "view-in-github",
        "colab_type": "text"
      },
      "source": [
        "<a href=\"https://colab.research.google.com/github/Hongyongmin/Edwith-Pytorch/blob/main/11_5_seq2seq.ipynb\" target=\"_parent\"><img src=\"https://colab.research.google.com/assets/colab-badge.svg\" alt=\"Open In Colab\"/></a>"
      ]
    },
    {
      "cell_type": "code",
      "metadata": {
        "id": "Pfw3uyjgVfOv"
      },
      "source": [
        "import random\r\n",
        "import torch\r\n",
        "import torch.nn as nn\r\n",
        "from torch import optim"
      ],
      "execution_count": 1,
      "outputs": []
    },
    {
      "cell_type": "code",
      "metadata": {
        "id": "uiKcexFsV72l"
      },
      "source": [
        "torch.manual_seed(0)\r\n",
        "device = torch.device(\"cuda\" if torch.cuda.is_available() else \"cpu\")"
      ],
      "execution_count": 3,
      "outputs": []
    },
    {
      "cell_type": "code",
      "metadata": {
        "id": "DQUI8SLTV_XN"
      },
      "source": [
        "raw = [\"I feel hungry.\t나는 배가 고프다.\",\r\n",
        "       \"Pytorch is very easy.\t파이토치는 매우 쉽다.\",\r\n",
        "       \"Pytorch is a framework for deep learning.\t파이토치는 딥러닝을 위한 프레임워크이다.\",\r\n",
        "       \"Pytorch is very clear to use.\t파이토치는 사용하기 매우 직관적이다.\"]"
      ],
      "execution_count": 5,
      "outputs": []
    },
    {
      "cell_type": "code",
      "metadata": {
        "id": "2Wqxa_IIWFWu"
      },
      "source": [
        "SOS_token = 0\r\n",
        "EOS_token = 1"
      ],
      "execution_count": 6,
      "outputs": []
    },
    {
      "cell_type": "code",
      "metadata": {
        "id": "TUp92UCPWK8y"
      },
      "source": [
        "class Vocab:\r\n",
        "  def __init__(self):\r\n",
        "    self.vocab2index = {\"<SOS>\": SOS_token, \"<EOS>\":EOS_token}\r\n",
        "    self.index2vocab = {SOS_token: \"<SOS>\", EOS_token: \"<EOS>\"}\r\n",
        "    self.vocab_count = {}\r\n",
        "    self.n_vocab = len(self.vocab2index)\r\n",
        "\r\n",
        "  def add_vocab(self, sentence):\r\n",
        "    for word in sentence.split(\" \"):\r\n",
        "      if word not in self.vocab2index:\r\n",
        "        self.vocab2index[word] = self.n_vocab\r\n",
        "        self.vocab_count[word] = 1\r\n",
        "        self.index2vocab[self.n_vocab] = word\r\n",
        "        self.n_vocab += 1\r\n",
        "      else:\r\n",
        "        self.vocab_count[word] +=1"
      ],
      "execution_count": 8,
      "outputs": []
    },
    {
      "cell_type": "code",
      "metadata": {
        "id": "tebTXT1sWXyV"
      },
      "source": [
        "def filter_pair(pair, source_max_length, target_max_length):\r\n",
        "  return len(pair[0].split(\" \")) < source_max_length and len(pair[1].split(\" \")) < target_max_length"
      ],
      "execution_count": 9,
      "outputs": []
    },
    {
      "cell_type": "code",
      "metadata": {
        "id": "4Mjw0UIiYeA3"
      },
      "source": [
        "def preprocess(corpus, source_max_length, target_max_length):\r\n",
        "  print(\"reading corpus...\")\r\n",
        "  pairs = []\r\n",
        "  for line in corpus:\r\n",
        "    pairs.append([s for s in line.strip().lower().split(\"\\t\")])\r\n",
        "  print(\"Read {} sentence pairs\".format(len(pairs)))\r\n",
        "\r\n",
        "  pairs = [pair for pair in pairs if filter_pair(pair, source_max_length, target_max_length)]\r\n",
        "  print(\"Trimmed to {} sentence pairs\".format(len(pairs)))\r\n",
        "\r\n",
        "  source_vocab = Vocab()\r\n",
        "  target_vocab = Vocab()\r\n",
        "\r\n",
        "  print(\"Counting words...\")\r\n",
        "  for pair in pairs:\r\n",
        "    source_vocab.add_vocab(pair[0])\r\n",
        "    target_vocab.add_vocab(pair[1])\r\n",
        "  print(\"source vocab size =\", source_vocab.n_vocab)\r\n",
        "  print(\"target vocab size =\", target_vocab.n_vocab)\r\n",
        "\r\n",
        "  return pairs, source_vocab, target_vocab"
      ],
      "execution_count": 12,
      "outputs": []
    },
    {
      "cell_type": "code",
      "metadata": {
        "id": "VbbkbbkhZTAC"
      },
      "source": [
        "class Encoder(nn.Module):\r\n",
        "  def __init__(self, input_size, hidden_size):\r\n",
        "    super(Encoder, self).__init__()\r\n",
        "    self.hidden_size = hidden_size\r\n",
        "    self.embedding = nn.Embedding(input_size, hidden_size)\r\n",
        "    self.gru = nn.GRU(hidden_size, hidden_size)\r\n",
        "\r\n",
        "  def forward(self, x, hidden):\r\n",
        "    x = self.embedding(x).view(1,1,-1)\r\n",
        "    x, hidden = self.gru(x, hidden)\r\n",
        "    return x, hidden"
      ],
      "execution_count": 13,
      "outputs": []
    },
    {
      "cell_type": "code",
      "metadata": {
        "id": "SNNl-iIEZ6oZ"
      },
      "source": [
        "class Decoder(nn.Module):\r\n",
        "    def __init__(self, hidden_size, output_size):\r\n",
        "        super(Decoder, self).__init__()\r\n",
        "        self.hidden_size = hidden_size\r\n",
        "        self.embedding = nn.Embedding(output_size, hidden_size)\r\n",
        "        self.gru = nn.GRU(hidden_size, hidden_size)\r\n",
        "        self.out = nn.Linear(hidden_size, output_size)\r\n",
        "        self.softmax = nn.LogSoftmax(dim=1)\r\n",
        "\r\n",
        "    def forward(self, x, hidden):\r\n",
        "        x = self.embedding(x).view(1, 1, -1)\r\n",
        "        x, hidden = self.gru(x, hidden)\r\n",
        "        x = self.softmax(self.out(x[0]))\r\n",
        "        return x, hidden"
      ],
      "execution_count": 14,
      "outputs": []
    },
    {
      "cell_type": "code",
      "metadata": {
        "id": "paROAA8FZ-1t"
      },
      "source": [
        "def tensorize(vocab, sentence):\r\n",
        "    indexes = [vocab.vocab2index[word] for word in sentence.split(\" \")]\r\n",
        "    indexes.append(vocab.vocab2index[\"<EOS>\"])\r\n",
        "    return torch.Tensor(indexes).long().to(device).view(-1, 1)"
      ],
      "execution_count": 15,
      "outputs": []
    },
    {
      "cell_type": "code",
      "metadata": {
        "id": "NCFlHlpoaAVQ"
      },
      "source": [
        "def train(pairs, source_vocab, target_vocab, encoder, decoder, n_iter, print_every=1000, learning_rate=0.01):\r\n",
        "    loss_total = 0\r\n",
        "\r\n",
        "    encoder_optimizer = optim.SGD(encoder.parameters(), lr=learning_rate)\r\n",
        "    decoder_optimizer = optim.SGD(decoder.parameters(), lr=learning_rate)\r\n",
        "\r\n",
        "    training_batch = [random.choice(pairs) for _ in range(n_iter)]\r\n",
        "    training_source = [tensorize(source_vocab, pair[0]) for pair in training_batch]\r\n",
        "    training_target = [tensorize(target_vocab, pair[1]) for pair in training_batch]\r\n",
        "\r\n",
        "    criterion = nn.NLLLoss()\r\n",
        "\r\n",
        "    for i in range(1, n_iter + 1):\r\n",
        "        source_tensor = training_source[i - 1]\r\n",
        "        target_tensor = training_target[i - 1]\r\n",
        "\r\n",
        "        encoder_hidden = torch.zeros([1, 1, encoder.hidden_size]).to(device)\r\n",
        "\r\n",
        "        encoder_optimizer.zero_grad()\r\n",
        "        decoder_optimizer.zero_grad()\r\n",
        "\r\n",
        "        source_length = source_tensor.size(0)\r\n",
        "        target_length = target_tensor.size(0)\r\n",
        "\r\n",
        "        loss = 0\r\n",
        "\r\n",
        "        for enc_input in range(source_length):\r\n",
        "            _, encoder_hidden = encoder(source_tensor[enc_input], encoder_hidden)\r\n",
        "\r\n",
        "        decoder_input = torch.Tensor([[SOS_token]]).long().to(device)\r\n",
        "        decoder_hidden = encoder_hidden \r\n",
        "\r\n",
        "        for di in range(target_length):\r\n",
        "            decoder_output, decoder_hidden = decoder(decoder_input, decoder_hidden)\r\n",
        "            loss += criterion(decoder_output, target_tensor[di])\r\n",
        "            decoder_input = target_tensor[di]  \r\n",
        "\r\n",
        "        loss.backward()\r\n",
        "\r\n",
        "        encoder_optimizer.step()\r\n",
        "        decoder_optimizer.step()\r\n",
        "\r\n",
        "        loss_iter = loss.item() / target_length\r\n",
        "        loss_total += loss_iter\r\n",
        "\r\n",
        "        if i % print_every == 0:\r\n",
        "            loss_avg = loss_total / print_every\r\n",
        "            loss_total = 0\r\n",
        "            print(\"[{} - {}%] loss = {:05.4f}\".format(i, i / n_iter * 100, loss_avg))"
      ],
      "execution_count": 16,
      "outputs": []
    },
    {
      "cell_type": "code",
      "metadata": {
        "id": "S2jwNVChaD8g"
      },
      "source": [
        "def evaluate(pairs, source_vocab, target_vocab, encoder, decoder, target_max_length):\r\n",
        "    for pair in pairs:\r\n",
        "        print(\">\", pair[0])\r\n",
        "        print(\"=\", pair[1])\r\n",
        "        source_tensor = tensorize(source_vocab, pair[0])\r\n",
        "        source_length = source_tensor.size()[0]\r\n",
        "        encoder_hidden = torch.zeros([1, 1, encoder.hidden_size]).to(device)\r\n",
        "\r\n",
        "        for ei in range(source_length):\r\n",
        "            _, encoder_hidden = encoder(source_tensor[ei], encoder_hidden)\r\n",
        "\r\n",
        "        decoder_input = torch.Tensor([[SOS_token]], device=device).long()\r\n",
        "        decoder_hidden = encoder_hidden\r\n",
        "        decoded_words = []\r\n",
        "\r\n",
        "        for di in range(target_max_length):\r\n",
        "            decoder_output, decoder_hidden = decoder(decoder_input, decoder_hidden)\r\n",
        "            _, top_index = decoder_output.data.topk(1)\r\n",
        "            if top_index.item() == EOS_token:\r\n",
        "                decoded_words.append(\"<EOS>\")\r\n",
        "                break\r\n",
        "            else:\r\n",
        "                decoded_words.append(target_vocab.index2vocab[top_index.item()])\r\n",
        "\r\n",
        "            decoder_input = top_index.squeeze().detach()\r\n",
        "\r\n",
        "        predict_words = decoded_words\r\n",
        "        predict_sentence = \" \".join(predict_words)\r\n",
        "        print(\"<\", predict_sentence)\r\n",
        "        print(\"\")"
      ],
      "execution_count": 17,
      "outputs": []
    },
    {
      "cell_type": "code",
      "metadata": {
        "id": "3XVWmBMDaFfu"
      },
      "source": [
        "SOURCE_MAX_LENGTH = 10\r\n",
        "TARGET_MAX_LENGTH = 12"
      ],
      "execution_count": 18,
      "outputs": []
    },
    {
      "cell_type": "code",
      "metadata": {
        "colab": {
          "base_uri": "https://localhost:8080/"
        },
        "id": "qzqZgSh8aHB5",
        "outputId": "d22de97a-1f25-4005-836b-09d8c018a39d"
      },
      "source": [
        "load_pairs, load_source_vocab, load_target_vocab = preprocess(raw, SOURCE_MAX_LENGTH, TARGET_MAX_LENGTH)\r\n",
        "print(random.choice(load_pairs))"
      ],
      "execution_count": 19,
      "outputs": [
        {
          "output_type": "stream",
          "text": [
            "reading corpus...\n",
            "Read 4 sentence pairs\n",
            "Trimmed to 4 sentence pairs\n",
            "Counting words...\n",
            "source vocab size = 17\n",
            "target vocab size = 13\n",
            "['pytorch is a framework for deep learning.', '파이토치는 딥러닝을 위한 프레임워크이다.']\n"
          ],
          "name": "stdout"
        }
      ]
    },
    {
      "cell_type": "code",
      "metadata": {
        "id": "zXu3SUu5aJHe"
      },
      "source": [
        "enc_hidden_size = 16\r\n",
        "dec_hidden_size = enc_hidden_size\r\n",
        "enc = Encoder(load_source_vocab.n_vocab, enc_hidden_size).to(device)\r\n",
        "dec = Decoder(dec_hidden_size, load_target_vocab.n_vocab).to(device)"
      ],
      "execution_count": 20,
      "outputs": []
    },
    {
      "cell_type": "code",
      "metadata": {
        "colab": {
          "base_uri": "https://localhost:8080/"
        },
        "id": "r16Pu_AgaLZU",
        "outputId": "fbe0d913-0f0b-4740-862b-9f817b6c8858"
      },
      "source": [
        "train(load_pairs, load_source_vocab, load_target_vocab, enc, dec, 5000, print_every=1000)"
      ],
      "execution_count": 21,
      "outputs": [
        {
          "output_type": "stream",
          "text": [
            "[1000 - 20.0%] loss = 0.7368\n",
            "[2000 - 40.0%] loss = 0.1089\n",
            "[3000 - 60.0%] loss = 0.0343\n",
            "[4000 - 80.0%] loss = 0.0183\n",
            "[5000 - 100.0%] loss = 0.0126\n"
          ],
          "name": "stdout"
        }
      ]
    },
    {
      "cell_type": "code",
      "metadata": {
        "colab": {
          "base_uri": "https://localhost:8080/"
        },
        "id": "b5YZ31PDaOAt",
        "outputId": "dd029c27-c7e6-4413-bbbe-1b5012d475e0"
      },
      "source": [
        "evaluate(load_pairs, load_source_vocab, load_target_vocab, enc, dec, TARGET_MAX_LENGTH)"
      ],
      "execution_count": 22,
      "outputs": [
        {
          "output_type": "stream",
          "text": [
            "> i feel hungry.\n",
            "= 나는 배가 고프다.\n",
            "< 나는 배가 고프다. <EOS>\n",
            "\n",
            "> pytorch is very easy.\n",
            "= 파이토치는 매우 쉽다.\n",
            "< 파이토치는 매우 쉽다. <EOS>\n",
            "\n",
            "> pytorch is a framework for deep learning.\n",
            "= 파이토치는 딥러닝을 위한 프레임워크이다.\n",
            "< 파이토치는 딥러닝을 위한 프레임워크이다. <EOS>\n",
            "\n",
            "> pytorch is very clear to use.\n",
            "= 파이토치는 사용하기 매우 직관적이다.\n",
            "< 파이토치는 사용하기 매우 직관적이다. <EOS>\n",
            "\n"
          ],
          "name": "stdout"
        }
      ]
    },
    {
      "cell_type": "code",
      "metadata": {
        "id": "2LodVJElaR6o"
      },
      "source": [
        ""
      ],
      "execution_count": null,
      "outputs": []
    }
  ]
}