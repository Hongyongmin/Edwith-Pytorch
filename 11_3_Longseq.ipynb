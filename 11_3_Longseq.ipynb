{
  "nbformat": 4,
  "nbformat_minor": 0,
  "metadata": {
    "colab": {
      "name": "11_3 Longseq",
      "provenance": [],
      "authorship_tag": "ABX9TyNg/q5EfKs0nf0/kN6sRS/i",
      "include_colab_link": true
    },
    "kernelspec": {
      "name": "python3",
      "display_name": "Python 3"
    }
  },
  "cells": [
    {
      "cell_type": "markdown",
      "metadata": {
        "id": "view-in-github",
        "colab_type": "text"
      },
      "source": [
        "<a href=\"https://colab.research.google.com/github/Hongyongmin/Edwith-Pytorch/blob/main/11_3_Longseq.ipynb\" target=\"_parent\"><img src=\"https://colab.research.google.com/assets/colab-badge.svg\" alt=\"Open In Colab\"/></a>"
      ]
    },
    {
      "cell_type": "code",
      "metadata": {
        "id": "dlov5NxuLo3C"
      },
      "source": [
        "import torch\r\n",
        "import torch.optim as optim\r\n",
        "import numpy as np"
      ],
      "execution_count": 1,
      "outputs": []
    },
    {
      "cell_type": "code",
      "metadata": {
        "colab": {
          "base_uri": "https://localhost:8080/"
        },
        "id": "5xJybc__L6wc",
        "outputId": "afa956d3-aa91-43b9-ae68-385de3d79993"
      },
      "source": [
        "torch.manual_seed(0)"
      ],
      "execution_count": 2,
      "outputs": [
        {
          "output_type": "execute_result",
          "data": {
            "text/plain": [
              "<torch._C.Generator at 0x7ff48a693b70>"
            ]
          },
          "metadata": {
            "tags": []
          },
          "execution_count": 2
        }
      ]
    },
    {
      "cell_type": "code",
      "metadata": {
        "id": "1Wu_lYx0L8VO"
      },
      "source": [
        "sentence = (\"if you want to build a ship, don't drum up people together to \"\r\n",
        "            \"collect wood and don't assign them tasks and work, but rather \"\r\n",
        "            \"teach them to long for the endloess immensity of the sea.\")"
      ],
      "execution_count": 3,
      "outputs": []
    },
    {
      "cell_type": "code",
      "metadata": {
        "id": "_yNv6rwiMLGY"
      },
      "source": [
        "char_set = list(set(sentence))\r\n",
        "char_dic = {c: i for i, c in enumerate(char_set)}"
      ],
      "execution_count": 4,
      "outputs": []
    },
    {
      "cell_type": "code",
      "metadata": {
        "id": "KoH-5SKiMTAD"
      },
      "source": [
        "dic_size = len(char_dic)\r\n",
        "hidden_size = len(char_dic)\r\n",
        "sequence_length = 10\r\n",
        "learning_rate = 0.1"
      ],
      "execution_count": 5,
      "outputs": []
    },
    {
      "cell_type": "code",
      "metadata": {
        "colab": {
          "base_uri": "https://localhost:8080/"
        },
        "id": "x9oTwOKUMcAf",
        "outputId": "1e18dc6f-6c28-48f2-95a9-69199a5848c3"
      },
      "source": [
        "x_data = []\r\n",
        "y_data = []\r\n",
        "\r\n",
        "for i in range(0, len(sentence) - sequence_length):\r\n",
        "  x_str = sentence[i:i+sequence_length]\r\n",
        "  y_str = sentence[i + 1: i + sequence_length + 1]\r\n",
        "  print(i, x_str, ' -> ', y_str)\r\n",
        "\r\n",
        "  x_data.append([char_dic[c] for c in x_str])\r\n",
        "  y_data.append([char_dic[c] for c in y_str])\r\n",
        "\r\n",
        "x_one_hot = [np.eye(dic_size)[x] for x in]"
      ],
      "execution_count": 6,
      "outputs": [
        {
          "output_type": "stream",
          "text": [
            "0 if you wan  ->  f you want\n",
            "1 f you want  ->   you want \n",
            "2  you want   ->  you want t\n",
            "3 you want t  ->  ou want to\n",
            "4 ou want to  ->  u want to \n",
            "5 u want to   ->   want to b\n",
            "6  want to b  ->  want to bu\n",
            "7 want to bu  ->  ant to bui\n",
            "8 ant to bui  ->  nt to buil\n",
            "9 nt to buil  ->  t to build\n",
            "10 t to build  ->   to build \n",
            "11  to build   ->  to build a\n",
            "12 to build a  ->  o build a \n",
            "13 o build a   ->   build a s\n",
            "14  build a s  ->  build a sh\n",
            "15 build a sh  ->  uild a shi\n",
            "16 uild a shi  ->  ild a ship\n",
            "17 ild a ship  ->  ld a ship,\n",
            "18 ld a ship,  ->  d a ship, \n",
            "19 d a ship,   ->   a ship, d\n",
            "20  a ship, d  ->  a ship, do\n",
            "21 a ship, do  ->   ship, don\n",
            "22  ship, don  ->  ship, don'\n",
            "23 ship, don'  ->  hip, don't\n",
            "24 hip, don't  ->  ip, don't \n",
            "25 ip, don't   ->  p, don't d\n",
            "26 p, don't d  ->  , don't dr\n",
            "27 , don't dr  ->   don't dru\n",
            "28  don't dru  ->  don't drum\n",
            "29 don't drum  ->  on't drum \n",
            "30 on't drum   ->  n't drum u\n",
            "31 n't drum u  ->  't drum up\n",
            "32 't drum up  ->  t drum up \n",
            "33 t drum up   ->   drum up p\n",
            "34  drum up p  ->  drum up pe\n",
            "35 drum up pe  ->  rum up peo\n",
            "36 rum up peo  ->  um up peop\n",
            "37 um up peop  ->  m up peopl\n",
            "38 m up peopl  ->   up people\n",
            "39  up people  ->  up people \n",
            "40 up people   ->  p people t\n",
            "41 p people t  ->   people to\n",
            "42  people to  ->  people tog\n",
            "43 people tog  ->  eople toge\n",
            "44 eople toge  ->  ople toget\n",
            "45 ople toget  ->  ple togeth\n",
            "46 ple togeth  ->  le togethe\n",
            "47 le togethe  ->  e together\n",
            "48 e together  ->   together \n",
            "49  together   ->  together t\n",
            "50 together t  ->  ogether to\n",
            "51 ogether to  ->  gether to \n",
            "52 gether to   ->  ether to c\n",
            "53 ether to c  ->  ther to co\n",
            "54 ther to co  ->  her to col\n",
            "55 her to col  ->  er to coll\n",
            "56 er to coll  ->  r to colle\n",
            "57 r to colle  ->   to collec\n",
            "58  to collec  ->  to collect\n",
            "59 to collect  ->  o collect \n",
            "60 o collect   ->   collect w\n",
            "61  collect w  ->  collect wo\n",
            "62 collect wo  ->  ollect woo\n",
            "63 ollect woo  ->  llect wood\n",
            "64 llect wood  ->  lect wood \n",
            "65 lect wood   ->  ect wood a\n",
            "66 ect wood a  ->  ct wood an\n",
            "67 ct wood an  ->  t wood and\n",
            "68 t wood and  ->   wood and \n",
            "69  wood and   ->  wood and d\n",
            "70 wood and d  ->  ood and do\n",
            "71 ood and do  ->  od and don\n",
            "72 od and don  ->  d and don'\n",
            "73 d and don'  ->   and don't\n",
            "74  and don't  ->  and don't \n",
            "75 and don't   ->  nd don't a\n",
            "76 nd don't a  ->  d don't as\n",
            "77 d don't as  ->   don't ass\n",
            "78  don't ass  ->  don't assi\n",
            "79 don't assi  ->  on't assig\n",
            "80 on't assig  ->  n't assign\n",
            "81 n't assign  ->  't assign \n",
            "82 't assign   ->  t assign t\n",
            "83 t assign t  ->   assign th\n",
            "84  assign th  ->  assign the\n",
            "85 assign the  ->  ssign them\n",
            "86 ssign them  ->  sign them \n",
            "87 sign them   ->  ign them t\n",
            "88 ign them t  ->  gn them ta\n",
            "89 gn them ta  ->  n them tas\n",
            "90 n them tas  ->   them task\n",
            "91  them task  ->  them tasks\n",
            "92 them tasks  ->  hem tasks \n",
            "93 hem tasks   ->  em tasks a\n",
            "94 em tasks a  ->  m tasks an\n",
            "95 m tasks an  ->   tasks and\n",
            "96  tasks and  ->  tasks and \n",
            "97 tasks and   ->  asks and w\n",
            "98 asks and w  ->  sks and wo\n",
            "99 sks and wo  ->  ks and wor\n",
            "100 ks and wor  ->  s and work\n",
            "101 s and work  ->   and work,\n",
            "102  and work,  ->  and work, \n",
            "103 and work,   ->  nd work, b\n",
            "104 nd work, b  ->  d work, bu\n",
            "105 d work, bu  ->   work, but\n",
            "106  work, but  ->  work, but \n",
            "107 work, but   ->  ork, but r\n",
            "108 ork, but r  ->  rk, but ra\n",
            "109 rk, but ra  ->  k, but rat\n",
            "110 k, but rat  ->  , but rath\n",
            "111 , but rath  ->   but rathe\n",
            "112  but rathe  ->  but rather\n",
            "113 but rather  ->  ut rather \n",
            "114 ut rather   ->  t rather t\n",
            "115 t rather t  ->   rather te\n",
            "116  rather te  ->  rather tea\n",
            "117 rather tea  ->  ather teac\n",
            "118 ather teac  ->  ther teach\n",
            "119 ther teach  ->  her teach \n",
            "120 her teach   ->  er teach t\n",
            "121 er teach t  ->  r teach th\n",
            "122 r teach th  ->   teach the\n",
            "123  teach the  ->  teach them\n",
            "124 teach them  ->  each them \n",
            "125 each them   ->  ach them t\n",
            "126 ach them t  ->  ch them to\n",
            "127 ch them to  ->  h them to \n",
            "128 h them to   ->   them to l\n",
            "129  them to l  ->  them to lo\n",
            "130 them to lo  ->  hem to lon\n",
            "131 hem to lon  ->  em to long\n",
            "132 em to long  ->  m to long \n",
            "133 m to long   ->   to long f\n",
            "134  to long f  ->  to long fo\n",
            "135 to long fo  ->  o long for\n",
            "136 o long for  ->   long for \n",
            "137  long for   ->  long for t\n",
            "138 long for t  ->  ong for th\n",
            "139 ong for th  ->  ng for the\n",
            "140 ng for the  ->  g for the \n",
            "141 g for the   ->   for the e\n",
            "142  for the e  ->  for the en\n",
            "143 for the en  ->  or the end\n",
            "144 or the end  ->  r the endl\n",
            "145 r the endl  ->   the endlo\n",
            "146  the endlo  ->  the endloe\n",
            "147 the endloe  ->  he endloes\n",
            "148 he endloes  ->  e endloess\n",
            "149 e endloess  ->   endloess \n",
            "150  endloess   ->  endloess i\n",
            "151 endloess i  ->  ndloess im\n",
            "152 ndloess im  ->  dloess imm\n",
            "153 dloess imm  ->  loess imme\n",
            "154 loess imme  ->  oess immen\n",
            "155 oess immen  ->  ess immens\n",
            "156 ess immens  ->  ss immensi\n",
            "157 ss immensi  ->  s immensit\n",
            "158 s immensit  ->   immensity\n",
            "159  immensity  ->  immensity \n",
            "160 immensity   ->  mmensity o\n",
            "161 mmensity o  ->  mensity of\n",
            "162 mensity of  ->  ensity of \n",
            "163 ensity of   ->  nsity of t\n",
            "164 nsity of t  ->  sity of th\n",
            "165 sity of th  ->  ity of the\n",
            "166 ity of the  ->  ty of the \n",
            "167 ty of the   ->  y of the s\n",
            "168 y of the s  ->   of the se\n",
            "169  of the se  ->  of the sea\n",
            "170 of the sea  ->  f the sea.\n"
          ],
          "name": "stdout"
        }
      ]
    },
    {
      "cell_type": "code",
      "metadata": {
        "id": "6LY7VtpCNBWy"
      },
      "source": [
        "X = torch.FloatTensor(x_one_hot)\r\n",
        "Y = torch.LongTensor(y_data)"
      ],
      "execution_count": 7,
      "outputs": []
    },
    {
      "cell_type": "code",
      "metadata": {
        "id": "0IlLwqxwPhPy"
      },
      "source": [
        "class Net(torch.nn.Module):\r\n",
        "    def __init__(self, input_dim, hidden_dim, layers):\r\n",
        "        super(Net, self).__init__()\r\n",
        "        self.rnn = torch.nn.RNN(input_dim, hidden_dim, num_layers=layers, batch_first=True)\r\n",
        "        self.fc = torch.nn.Linear(hidden_dim, hidden_dim, bias=True)\r\n",
        "\r\n",
        "    def forward(self, x):\r\n",
        "        x, _status = self.rnn(x)\r\n",
        "        x = self.fc(x)\r\n",
        "        return x"
      ],
      "execution_count": 13,
      "outputs": []
    },
    {
      "cell_type": "code",
      "metadata": {
        "id": "AISgQK4NNK4X"
      },
      "source": [
        "class Net(torch.nn.Module):\r\n",
        "    def __init__(self, input_dim, hidden_dim, layers):\r\n",
        "        super(Net, self).__init__()\r\n",
        "        self.rnn = torch.nn.RNN(input_dim, hidden_dim, num_layers=layers, batch_first=True)\r\n",
        "        self.fc = torch.nn.Linear(hidden_dim, hidden_dim, bias=True)\r\n",
        "\r\n",
        "    def forward(self, x):\r\n",
        "        x, _status = self.rnn(x)\r\n",
        "        x = self.fc(x)\r\n",
        "        return x\r\n",
        "\r\n",
        "\r\n",
        "net = Net(dic_size, hidden_size, 2)"
      ],
      "execution_count": 14,
      "outputs": []
    },
    {
      "cell_type": "code",
      "metadata": {
        "id": "Ce1G-3ykNq9w"
      },
      "source": [
        "criterion = torch.nn.CrossEntropyLoss()\r\n",
        "optimizer = optim.Adam(net.parameters(), learning_rate)"
      ],
      "execution_count": 15,
      "outputs": []
    },
    {
      "cell_type": "code",
      "metadata": {
        "colab": {
          "base_uri": "https://localhost:8080/"
        },
        "id": "jpgOy7wZN1Zw",
        "outputId": "861d132f-8154-4fb9-fbf7-f1c1c7489b51"
      },
      "source": [
        "for i in range(100):\r\n",
        "  optimizer.zero_grad()\r\n",
        "  outputs = net(X)\r\n",
        "  loss = criterion(outputs.view(-1, dic_size), Y.view(-1))\r\n",
        "  loss.backward()\r\n",
        "  optimizer.step()\r\n",
        "\r\n",
        "  results = outputs.argmax(dim=2)\r\n",
        "  predict_str = \"\"\r\n",
        "  for j, result in enumerate(results):\r\n",
        "    if j == 0:\r\n",
        "      predict_str += ''.join([char_set[t] for t in result])\r\n",
        "    else:\r\n",
        "      predict_str += char_set[result[-1]]\r\n",
        "\r\n",
        "  print(predict_str)"
      ],
      "execution_count": 17,
      "outputs": [
        {
          "output_type": "stream",
          "text": [
            "                                                                                                                                                                                    \n",
            "oooooooooooooooooooooooooooooooooooooooooooooooooooooooooooooooooooooooooooooooooooooooooooooooooooooooooooooooooooooooooooooooooooooooooooooooooooooooooooooooooooooooooooooooooooo\n",
            "..sti..ttfttttfttttttttttiitttttttiittttitttttittitttttttttttttttttttttttttttttttttttttttttttttttitttttttttttttttttttttttttttttttttttttttttttttttttttittttttttttittttttttitttttitttt\n",
            ".stdnstd.o....o.........ooo.........o...o.....oo.o...o...o....s..oo..o.....o.........o....o......o.o...oo....o...s.....o..o...o...oo..o..o...oo..o....o...o...o.oo...o...o..o..o....\n",
            "nowneu neuuueuuuuuuwuuuuuuuuuuuuu uuwuhuweuuouuwuuwuuuwuuuutuuwuuuwuuuuuuuuwouphuuu uuuuouuruuuuuuuuuuuuwuuuuuuwuuuwmuuuuuwuuuuuuuwwuuwtuuwuuuuuuuutuuuwouwuuuwuuwhuuuuuuuuuuwuuutuu\n",
            " tk tw l ww tkk wwwk wk kk wwkkww kwk tk tw wk,  kk tk wtkkwww ktw  wk wwtk ww twkw wwk uk m  tkkww  wwk kww,ww ww, uk wwk kwk wkwk wwkwww  ww  wkkwktk ww  wk w, twk wkkk,kk  wwwkw\n",
            "  s    t   t  m  s  t       s  ts t  t s         s t    s t        t  t    ts t   s    ts tt ts m        t    s s  ts m    m     s tt m       mt  t     s  ts      s    m       s t \n",
            "  su  u  u t  tt u ut u ptu  tuts t    ut ut tpptt tuuuu tt pt  t p  u        t ut uuu    t  t  tu tt t t   pumtuu  suuu ttt tt  t pt tu tt t u  ut tumt  p   ttut  ptutttppt pts t \n",
            "  st  t  p t  t  pp   p ppp   p  o     t  p   pp t   ppp pt p p   p  t          p   p           tp    tpp   put p    ppp  pt p   t    tp      t  pt p   u t  pp pp  p pp tpptop     \n",
            "  t     r                   t   t      t  t                          t            to    t  r  t            t  s t   t                                tt            t      o     t  t\n",
            "  to  t  t    t  tt   t o o to  t      t  t          t  tt   tt      t   tt t    ttot   t  t  t to     tt tt tt t   t            t o  t  t           tt t   t  tt  tt t     t   t  t\n",
            "  t e      t  t     d t     t  dt d    t  t      d    o t t          t    t t d   t     t dt    t     d t     t t   t      t     t    t  do d t   d  tt t      d         d  d     d \n",
            "e t   te t th t  t  d t  d  t  dt d t  t  t      d   to t t  t    e  t    t t d ottet e t d     tht e d t t ett t t t t    t t e d e  th d  d t   d ttt t o ti d  e t t td  d   t to\n",
            "e t e t  tot  t t o tot tte t t t tot  te oe  o  t t t  ttto ti  ot  t    t t t ott the tht    otht t tot thett t t tot o  tht t tot eth    tot t tht t t t to toe od tot   th  thto\n",
            "e t   t ototonm h o tot t   t tmt tos  th o   nn toe t  t ton o  nt  t n  t totottt t n totto  oths t tot thent t t toton  tht t tot  thnmo tot s toe t t d to toeoon sot nnto  toto\n",
            "  t  rt  t ton  h   t t t   t nmo ton  t  t   on to  t  tntonmo   n nt n  t t tontt ton tnttn  ot s   tod th  t tms toto   tod n tot  t nmo tot s t  rt t n tn to   t ood n to  to  \n",
            "  t  rt  t to tts   t t t   t  mt t  m th rs     t   t e  to mo   tl t    t t t  tt t   t tt    tos s t t t   t tms t to   tos   t t  t  mo t t s t   t d      to     s t   t   t   \n",
            "  t  ot et to to    tot  '  t  't t  ' th t      t   t er tod'o   t' to   t d to  t t   t tt    tos   d t t  et trs t to   tot   t  o to 'o d t s t   t d      to   t t st  t   t   \n",
            "  t   s  t to 'u    ' t  t  t  't t  ' th ts     th  s er to 'o    ' to   t t to tt t   t tth   to 's t t t   t tus thto i toa's d  p th '  ' to 'th rt d      do         o th  s   \n",
            "  t e s  thto 'u    ' th    th 't tr ' th ts     the s er to 'h    c to   tototo it t s t  thec to '  tht t   t tus thto ' toa's dh m to 'o ' to ithert d      th  s      s th  t   \n",
            "  t  ptoed to 'ut   b th us d  't d  'hto '      the the  to co p tc to   todoto 't t   t ttoe  toa s d toth  t tuthdoto ' toacs dh m to bs p toa t   thp      th   t rhte  th rt   \n",
            "e theptoet to bo e  d th 's do ct do bhto b  i   the the  to co d t  to   t doto ct d   d ttoe  toa s d toto cs dmthd to ' toacs d em to bs d toa t e todo    etoe  tothta  the thg \n",
            "e themto t to but   d tn to to ct dr bhthr'  i   the ther to bo d et to p t todo 't trs t dthem toa s d tmto  t dut t to p toa's dhem to bo d to ct ert d     etoem t ,  a  themt p \n",
            "r themto t to but , d tn po to 't tr m thdt  e   the t et to bo d et to l t thto mt tro t lthem tos s dotmto  , dut t eo p tos'o to m to bo d to lt ert d    seto   a t  e  toemt mr\n",
            "r themto t to bot s dotnemo to at do m to m  l o toe th m to bo de s to l t t do at t s t dthem tos s t t to  , dut t to m toscs to m to bo d t s t ert d    seto  su to to to mt d \n",
            "r th  to t to cot s dotnelt doemt tosm toec    s toe th   to co d  s do   t d doeat t s t dthem tosks d toto  t tut d to l tosas t  m to co d tos t e t d o  s to  tuod  ao th mt d \n",
            "r th  to t to but s a tnept don't tosp th to i s the th   to co le s do   t d do at t s ts th m tosko t t to  t dut d to ' todcs th m to bo p tos t e t dosi s to  tsodh to th mt d \n",
            "r the to t to bui s a t e's don't t  p to to p s the the  to bo de s donp u d do 't t s t  them tosmo t t soe s dut dhto ' tod'o th m to bo d tos t e t doo  s to  tsodh ps th mt dl\n",
            "' the to t to cui s a toe', don't to p to po pls the the  to co de t do p t d doe't t s t  them tosmo t t soe , aud dnth l todcs them to co ' toa t e t d oi s the sa dhia  the thdm\n",
            "' thelco t do pui s a toep, do 't to p to p, pls the the  toeco de p to l t d a e't t s t  them toamo t t so k, aut dhto ' todko them to 'o ' tos t e tndlsi s the  aoth p  the thdp\n",
            "' the to t do pui s a aoep, do 't do p to po p s the the  to co dect to l a dndo 't d sit  them toamo t t to  i aud d to ' tos'o them to 'o ' to  t e t d oe s the  a th po themthdu\n",
            "' the to t do bui s a uhei, do 't do p to po l s the the  to co l  t to l a d do ct d sit  them tosko t e to  , aud d to   to 's them to co ' to  t e tndlo  s the  a th ps the thdu\n",
            "' the to t do bui s a uhec, ao 't do m to po l   the the  to cs le t to d u d do 't d sit  them tosko t a do  s aut d do   to  s them to co g to  t e tndlo ss the  a th to the thd \n",
            "'hthe tont to but s a thec, do 't do m to ts dlo the the  to cs l  t to d u d do ct d sitn thgm tosk  t t do ks aut duto   to cs them to co g toskthe tndlo ss the  e thepo themthdu\n",
            "'athe tont to butld a thec, do 't do m to p, dlo the the  to cs le t to d tnd do ct d sitn thgm tosks t t to ks aut dutoec tosch thgm to co g toskthe tndlo ss tme  e thebo themthdu\n",
            "s theitont to cutld a t ec, do 't do m tp po dlo theethe  to cs ee t ao d t d do 't d sign thgm tosks t t tork, aut dutoec todch them to co g to kthe t dlo ss tme ee thepo themt d \n",
            "s thnitont to butld a t ec, do 't do m tm po dlo the the  to cs le t ao d und do ct d s gn them tosks t s dork, aut duthec to ch them to co g to  the t dlo ss tme e  thepo themt d \n",
            "p thn'wa t to butld a shgc, do 't wo m tm po dle theethe  to co lect ao d snd do 't wssign them tosks t d dork, aut duthec to ch them to co g to kthe s dloess tme se th po the s d \n",
            "p thnlwant to build a shek, do 't woum tp po dle theethe  to conle t aond snd don't wrsign them tosks aod tork, aut duthec to ch them to bo g to kthe sndloems tme snith pe thems d \n",
            "p tonlwant to build a shek, do 't woum tp p,sdle theethe  to conlect wond snd doe't w sign them tosks aod tork, aui duthep tonch them to lo g to kthe sndloems tme saith be thems d \n",
            "p ton want to luild a shic, don't drum tp p,sdle theethe  to co lect aond snd don't d sitn them tosks a d tork, aut dnthec tonch th m to lo g to ktoe sndlo ss tme ss to pe thems d \n",
            "p ton want to luild a shic, don't drum tpel,sple the the  to conlect aond snd don't d sitn them tosks a d tork, aui dnthe  touch them to lo g to  the sndlo ss tme ssith be thems d \n",
            "p ton want to luild a sh p, do 't drum tp posdle thgethe  to lonlect aond and don't d sign them tosks and work, aut dnthe  touch them to lo g to  the sndloess tme ss th beethe s d \n",
            "p ton want to luild a ship, do 't drum tp poodle thgethe  to conlect aond and don't d sign them toaks aod work, aut dnthec touco them to lo g to  the sndloess tme ssith teethe s dn\n",
            "p ton want to luild a ship, don't drum tp peodle togethe  to conlect aond and don't dssign them toaks and work, aut rnthec touco them to lo g to  the sndloess tmeensith teethe s g \n",
            "p ton want to luild a ship, don't drum tp people together to conlect aond and don't dssign them toaks and wark, aut rnthec tosco toem to long to  the sndloess tmeensith te the s dn\n",
            "p ton want to cuild a ship, don't arum tp pesdle together to conlect aood and don't assign thim toaks and wark, aut rnthec toach toem to cong tor the sndloess tmeensith ae the shdn\n",
            "p too rant to luild a ship, don't drum um leodle together to conlect tood and don't dssign them toaks and work, aut rnthec tosch them to long tod the sndloess imeensit  a  the s d \n",
            "p too want to luild a shap, don't arum tp poodle together to conlect aood andldon't dssign them toaks and wo k, aut rnthec toach them to cong to  the sndloess immensity ae themsndn\n",
            "p to  want to build a ship, don't drum tp peodle together to conlect aood and don't dssign them toaks and wo k, but rnther toach them to long tod the sndloess immensith a  the shdn\n",
            "p to  want to build a ship, don't drum tp people tog ther to conlect wood and don't dssign them tosks and work, but rnther toach them to cong tor the sndloess immensith a  the snd \n",
            "p to  want to build a ship, don't arum tp people tog ther to conlect wood and don't assign them tosks and work, aut rather toach them to cong tor the tndloess immensith a  toe snp \n",
            "p to  want to build a ship, don't arum up people tog ther to conlech tood and do 't assign them tosks and work, aut rathec tosch them to bong tor the sndloess tmmensity d  toe snp \n",
            "p ton want to build a ship, don't arum up people tog the  to conlect tood and don't assign them tosks and work, but rather toach them to bong tor the tndloess immensity a  the tnp \n",
            "t ton want to build a shit, don't arum tp poople together to collect tood and don't assign them tosks and work, aut rather teach them to bong tor the tndloess immensity o  the tndn\n",
            "t ton want to build a ship, don't drum up people together to collect wood and doo't dssign the  tosks and work, aut rather toach them to cong tor the sndloess immenssthedl the sndn\n",
            "t ton want to cuild a ship, don't drum up people together to collect wood and doo't dssign them tosks and work, aut rather toach them to cong tor the endloess immensiuh d  the endn\n",
            "t ton want to build a ship, don't arum tp people together to collect wood and doo't assign them toaks and dork, aut rather toach them to cong tor the endloess immensity d  the eepn\n",
            "t ton want to build a ship, don't doum up people together to collect wood and doo't dssign them toaks and work, but rather toach them to cong for the endloess immensity d  the eesc\n",
            "p to  want to build a ship, don't drum up people together to collect wood and don't dssign them toaks and work, but rather toach them to cong tor the endloess immensity o  the eesc\n",
            "t to  want to build a ship, don't arum up people together te collect wood and don't assign them toaks and work, aut rather teach them to cong tor the endloess immensity o  the eepc\n",
            "t too want to build a ship, don't drum up people together to collect wood and don't dssign them tosks and work, but rather toach them to cong for thersndloess immensity of the sepc\n",
            "t too want to build a ship, don't arum up people together te collect wood and dou't assign them tosks and work, but rathe  teach them to cong tor the endloess immensity df the ehsn\n",
            "t too want to build a ship, don't arum up people together to bollect wood and don't assign the  tosks and work, but rather tosch the  to bong for the sndloess immensity of the sepc\n",
            "t to  want to build a ship, don't arum up people together to collect wood and dou't assign them tosks and work, but rather toach them to long tor therendloess immensityeof the eean\n",
            "t to  want to build a ship, don't drum up people together te collect wood and don't assign them tosks and work, but rather teach them to cong tor the endloess immensity of themehan\n",
            "t too want to build a ship, don't drum up people together te lollect wood and don't dssign them toskh and work, tut rather teach them to long for the endloess immensity af the sepn\n",
            "t ton want to build a ship, don't drum up people tog ther to lollect wood and don't dssign them toskh ind work, but rather tosch the  to long for the endlo ns immensityeof the eeac\n",
            "t ton want to build a ship, don't arum up people together to collect wood and aon't assign them toaks and work, but rather teach them to cong tor the endloess immensityeo  the eesc\n",
            "t to  want to build a ship, don't arum up peodle toeether to collect wood and don't dssign them toaks and work, but rhther toach them to cong tor the end oess immensityoof uhe eeac\n",
            "g to  want to build anship, don't drum up people together to collect wood and drn't dssign them tosks and work, but rather toach them to long tor the end oess tmmensityoof themeesc\n",
            "lnto  want to luild a ship, don't drum up people together te collect tood and don't dssign them tosks and work, but rather tesch them to long for the endloens immensityeof the eesl\n",
            "lnto  want to luild a ship, don't drum up people together te collect wood and doo't assign the  tosks and work, but rather teach them to long for the sndloess immensity of the eesc\n",
            "tnto  want to build a ship, don't drum up people togesher te collect woop and doo't assign them tosks and work, but rather teach them to long for the sndloess immensity of the sean\n",
            "gnton want to build a ship, don't drum up people together to bollect wood and don't dssign them tosks and work, but rather teach them to bong for the sndloess immensity of the sean\n",
            "lnton want to build a ship, don't drum up people together te collect wood and don't assign them toaks and work, but rather teach them to cong for thersndloess immensigyoof the seac\n",
            "gnton want to build a ship, don't arum up people together te collect wood and don't assign them tosks and work, but rather teach toem to cong for therendloess immensity of the eeac\n",
            "gnton want to build a ship, don't arum up people together te collect wood and don't assign them tosks and work, but rather teach them to bong for the endloess immensityeof the eea \n",
            "gntou want to build a ship, don't arum up people together to lollect wood and don't assign them tosks and work, but rather toach them to long for the sndloess immensity of the seac\n",
            "gntou want to build a ship, don't drum up people together to collect wood and don't assign them tosks and work, but rather toach them to long for the sndloess immensith of the seac\n",
            "lntou want to build a ship, don't drum up people together to collect wood and don't assign thim tosks and work, but rather teach them to long for the endloess immensity of the sean\n",
            "lntou want to build a ship, don't drum up people together to collect wood and don't dssign them tosks and work, but rather toach them to long for the endloess immensity of the eeac\n",
            "l tou want to build a ship, don't drum up people together to collect wood and don't assign them tosks and work, but rather toach them to long for the endloess immensityoof the eeac\n",
            "t to  want to build a ship, don't drum up people together to collect wood and don't assign them tosks and work, but rather toach them to long for the endloess immensigy of the eeau\n",
            "t to  want to build a ship, don't drum up people together to collect wood and don't assign them tosks and work, but rather toach them to long for the endloess immensity of the eeau\n",
            "t to  want to build a ship, don't drum up people together to collect wood and don't dssign them tosks and work, but rather teach them to long for the endloess immensity of the eeaa\n",
            "t to  want to build a ship, don't drum up people together te collect wood and don't assign them tosks and work, but rather teach them to long for the endloess immensity of the eeau\n",
            "l to  want to build a ship, don't arum up people together to collect wood and don't assign them tosks and work, but rather toach them ta long for the endloess immensity of the eeau\n",
            "t to  want to build a ship, don't drum up people together to collect wood and don't assign them tasks and work, but rather teach them ta long for the endloess immensity of the seau\n",
            "t to  want to build a ship, don't drum up people together to collect wood and don't assign them tosks and work, but rather teach them ta long for the endloess immensity of the seac\n",
            "t to  want to build a ship, don't drum up people together to collect wood and don't assign them tosks and work, but rather teach them to long for the endloess immensity of the seau\n",
            "p to  want to build a ship, don't drum up people together to collect wood and don't assign them tosks and work, but rather teach them to long for the endloess immensity of the seau\n",
            "p to  want to build a ship, don't drum up people together to collect wood and don't assign them tosks and work, but rather teach them to long for the endloess immensity of the seau\n",
            "p yo  want to build a ship, don't drum up people together to collect wood and don't assign them tosks and work, but rather teach them to long for the endloess immensity of the sea.\n",
            "p yo  want to build a ship, don't drum up people together to collect wood and don't assign them tosks and work, but rather toach them to long for the endloess immensity of the sea.\n",
            "p you want to build a ship, don't drum up people together to collect wood and don't assign them tosks and work, but rather teach them to long for the endloess immensity of the sea.\n",
            "p you want to build a ship, don't drum up people together to collect wood and don't assign them tosks and work, but rather teach them to long for the endloess immensity of the sea.\n",
            "p you want to build a ship, don't arum up people together to collect wood and don't assign them tosks and work, but rather teach them to long for the endloess immensity of the sea.\n",
            "l you want to build a ship, don't drum up people together to collect wood and don't assign them tosks and work, but rather toach them to long for the endloess immensity of the sea.\n",
            "t you want to build a ship, don't drum up people together to collect wood and don't assign them tosks and work, but rather teach them to long for the endloess immensity of the sea.\n"
          ],
          "name": "stdout"
        }
      ]
    },
    {
      "cell_type": "code",
      "metadata": {
        "id": "pAUsjcXvOQ3A"
      },
      "source": [
        ""
      ],
      "execution_count": null,
      "outputs": []
    }
  ]
}