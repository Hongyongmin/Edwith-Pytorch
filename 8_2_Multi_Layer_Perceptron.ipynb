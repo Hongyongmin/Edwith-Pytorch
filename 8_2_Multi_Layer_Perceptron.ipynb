{
  "nbformat": 4,
  "nbformat_minor": 0,
  "metadata": {
    "colab": {
      "name": "8-2 Multi Layer Perceptron",
      "provenance": [],
      "collapsed_sections": [],
      "authorship_tag": "ABX9TyMPaZ+BP9/MrVDsCA9na6do",
      "include_colab_link": true
    },
    "kernelspec": {
      "name": "python3",
      "display_name": "Python 3"
    }
  },
  "cells": [
    {
      "cell_type": "markdown",
      "metadata": {
        "id": "view-in-github",
        "colab_type": "text"
      },
      "source": [
        "<a href=\"https://colab.research.google.com/github/Hongyongmin/Edwith-Pytorch/blob/main/8_2_Multi_Layer_Perceptron.ipynb\" target=\"_parent\"><img src=\"https://colab.research.google.com/assets/colab-badge.svg\" alt=\"Open In Colab\"/></a>"
      ]
    },
    {
      "cell_type": "code",
      "metadata": {
        "id": "x_Y-e5MKCREu"
      },
      "source": [
        "import torch"
      ],
      "execution_count": null,
      "outputs": []
    },
    {
      "cell_type": "code",
      "metadata": {
        "id": "7_r9OohyEBPP"
      },
      "source": [
        "device = 'cuda' if torch.cuda.is_available() else 'cpu'\r\n",
        "\r\n",
        "torch.manual_seed(777)\r\n",
        "if device == 'cuda':\r\n",
        "  torch.cuda.manual_seed_all(777)"
      ],
      "execution_count": null,
      "outputs": []
    },
    {
      "cell_type": "code",
      "metadata": {
        "id": "5lQaqmDLEMsA"
      },
      "source": [
        "X = torch.FloatTensor([[0,0],[0,1],[1,0],[1,1]]).to(device)\r\n",
        "Y = torch.FloatTensor([[0],[1],[1],[0]]).to(device)"
      ],
      "execution_count": null,
      "outputs": []
    },
    {
      "cell_type": "code",
      "metadata": {
        "id": "vfNpDOXiEbn-"
      },
      "source": [
        "linear1 = torch.nn.Linear(2,2, bias = True)\r\n",
        "linear2 = torch.nn.Linear(2,1, bias = True)\r\n",
        "sigmoid = torch.nn.Sigmoid()"
      ],
      "execution_count": null,
      "outputs": []
    },
    {
      "cell_type": "code",
      "metadata": {
        "id": "OZPsm-iyEjlB"
      },
      "source": [
        "model = torch.nn.Sequential(linear1, sigmoid, linear2, sigmoid).to(device)"
      ],
      "execution_count": null,
      "outputs": []
    },
    {
      "cell_type": "code",
      "metadata": {
        "id": "e6C3OMSMEorH"
      },
      "source": [
        "criterion = torch.nn.BCELoss().to(device)\r\n",
        "optimizer = torch.optim.SGD(model.parameters(), lr = 1)"
      ],
      "execution_count": null,
      "outputs": []
    },
    {
      "cell_type": "code",
      "metadata": {
        "colab": {
          "base_uri": "https://localhost:8080/"
        },
        "id": "An5B_miyEuxD",
        "outputId": "0a8b917d-dfcf-4301-89a6-1c91b57e41bc"
      },
      "source": [
        "for step in range(10001):\r\n",
        "  optimizer.zero_grad()\r\n",
        "  hypothesis = model(X)\r\n",
        "\r\n",
        "  cost = criterion(hypothesis, Y)\r\n",
        "  cost.backward()\r\n",
        "  optimizer.step()\r\n",
        "\r\n",
        "  if step%100 ==0 :\r\n",
        "    print(step, cost.item())"
      ],
      "execution_count": null,
      "outputs": [
        {
          "output_type": "stream",
          "text": [
            "0 0.7434073090553284\n",
            "100 0.693165123462677\n",
            "200 0.6931577920913696\n",
            "300 0.6931517124176025\n",
            "400 0.6931463479995728\n",
            "500 0.6931411027908325\n",
            "600 0.6931357383728027\n",
            "700 0.6931294798851013\n",
            "800 0.6931220889091492\n",
            "900 0.6931126117706299\n",
            "1000 0.6930999755859375\n",
            "1100 0.6930823922157288\n",
            "1200 0.6930569410324097\n",
            "1300 0.6930190324783325\n",
            "1400 0.6929605603218079\n",
            "1500 0.6928660273551941\n",
            "1600 0.6927032470703125\n",
            "1700 0.6923960447311401\n",
            "1800 0.6917302012443542\n",
            "1900 0.6899654269218445\n",
            "2000 0.6838315725326538\n",
            "2100 0.656166672706604\n",
            "2200 0.4311005175113678\n",
            "2300 0.13489311933517456\n",
            "2400 0.0663042888045311\n",
            "2500 0.04216815158724785\n",
            "2600 0.03045385330915451\n",
            "2700 0.023665912449359894\n",
            "2800 0.01927773468196392\n",
            "2900 0.016224022954702377\n",
            "3000 0.013983809389173985\n",
            "3100 0.012273931875824928\n",
            "3200 0.010928118601441383\n",
            "3300 0.009842473082244396\n",
            "3400 0.008949032984673977\n",
            "3500 0.008201321586966515\n",
            "3600 0.0075667379423975945\n",
            "3700 0.007021686062216759\n",
            "3800 0.006548580713570118\n",
            "3900 0.006134253926575184\n",
            "4000 0.005768375005573034\n",
            "4100 0.0054430365562438965\n",
            "4200 0.005151890218257904\n",
            "4300 0.004889902658760548\n",
            "4400 0.0046528722159564495\n",
            "4500 0.004437457304447889\n",
            "4600 0.004240859299898148\n",
            "4700 0.004060701932758093\n",
            "4800 0.003895031288266182\n",
            "4900 0.0037421947345137596\n",
            "5000 0.0036007347516715527\n",
            "5100 0.003469479735940695\n",
            "5200 0.0033473046496510506\n",
            "5300 0.0032333978451788425\n",
            "5400 0.0031268750317394733\n",
            "5500 0.0030270610004663467\n",
            "5600 0.0029333550482988358\n",
            "5700 0.0028452035039663315\n",
            "5800 0.002762140706181526\n",
            "5900 0.002683777129277587\n",
            "6000 0.0026096487417817116\n",
            "6100 0.0025394847616553307\n",
            "6200 0.0024729417636990547\n",
            "6300 0.0024097643326967955\n",
            "6400 0.002349698217585683\n",
            "6500 0.0022925634402781725\n",
            "6600 0.002238075714558363\n",
            "6700 0.002186085097491741\n",
            "6800 0.0021364721469581127\n",
            "6900 0.002089011948555708\n",
            "7000 0.00204361486248672\n",
            "7100 0.0020001311786472797\n",
            "7200 0.001958396751433611\n",
            "7300 0.0019184107659384608\n",
            "7400 0.0018799942918121815\n",
            "7500 0.0018430722411721945\n",
            "7600 0.0018075549742206931\n",
            "7700 0.0017733527347445488\n",
            "7800 0.0017404207028448582\n",
            "7900 0.0017087137093767524\n",
            "8000 0.001678097527474165\n",
            "8100 0.0016485571395605803\n",
            "8200 0.001620002556592226\n",
            "8300 0.0015924491453915834\n",
            "8400 0.0015657918993383646\n",
            "8500 0.0015400308184325695\n",
            "8600 0.0015150614781305194\n",
            "8700 0.0014909137971699238\n",
            "8800 0.0014674977865070105\n",
            "8900 0.001444813678972423\n",
            "9000 0.0014228165382519364\n",
            "9100 0.0014014765620231628\n",
            "9200 0.0013806892093271017\n",
            "9300 0.0013606036081910133\n",
            "9400 0.0013410557294264436\n",
            "9500 0.001322030322626233\n",
            "9600 0.001303557539358735\n",
            "9700 0.001285637030377984\n",
            "9800 0.0012681199004873633\n",
            "9900 0.0012511102249845862\n",
            "10000 0.0012345188297331333\n"
          ],
          "name": "stdout"
        }
      ]
    },
    {
      "cell_type": "code",
      "metadata": {
        "colab": {
          "base_uri": "https://localhost:8080/"
        },
        "id": "qQaGJQa4E5ST",
        "outputId": "1a3e84c2-7520-419d-9a71-0914ba4617a6"
      },
      "source": [
        "with torch.no_grad():\r\n",
        "  hypothesis - model(X)\r\n",
        "  predicted = (hypothesis > 0.5).float()\r\n",
        "  accuracy = (predicted == Y).float().mean()\r\n",
        "  print('\\nHypothesis: ', hypothesis.detach().cpu().numpy(), '\\nCorrect: ', predicted.detach().cpu().numpy(), '\\nAccuracy: ', accuracy.item())"
      ],
      "execution_count": null,
      "outputs": [
        {
          "output_type": "stream",
          "text": [
            "\n",
            "Hypothesis:  [[0.00106378]\n",
            " [0.9988938 ]\n",
            " [0.9988939 ]\n",
            " [0.00165883]] \n",
            "Correct:  [[0.]\n",
            " [1.]\n",
            " [1.]\n",
            " [0.]] \n",
            "Accuracy:  1.0\n"
          ],
          "name": "stdout"
        }
      ]
    },
    {
      "cell_type": "markdown",
      "metadata": {
        "id": "EmJWnDDYFLRs"
      },
      "source": [
        "여기까지가 xor-nn"
      ]
    },
    {
      "cell_type": "code",
      "metadata": {
        "id": "tcrIvhgJFImG"
      },
      "source": [
        "\r\n",
        "X = torch.FloatTensor([[0, 0], [0, 1], [1, 0], [1, 1]]).to(device)\r\n",
        "Y = torch.FloatTensor([[0], [1], [1], [0]]).to(device)"
      ],
      "execution_count": null,
      "outputs": []
    },
    {
      "cell_type": "code",
      "metadata": {
        "id": "9cLE1WD5FTF0"
      },
      "source": [
        "linear1 = torch.nn.Linear(2,10,bias=True)\r\n",
        "linear2 = torch.nn.Linear(10,10,bias=True)\r\n",
        "linear3 = torch.nn.Linear(10, 10, bias = True)\r\n",
        "linear4 = torch.nn.Linear(10,1, bias = True)\r\n",
        "sigmoid = torch.nn.Sigmoid()"
      ],
      "execution_count": null,
      "outputs": []
    },
    {
      "cell_type": "code",
      "metadata": {
        "id": "nnh_t_PEFidD"
      },
      "source": [
        "model = torch.nn.Sequential(linear1, sigmoid, linear2, sigmoid, linear3, sigmoid, linear4, sigmoid).to(device)"
      ],
      "execution_count": null,
      "outputs": []
    },
    {
      "cell_type": "code",
      "metadata": {
        "id": "wyomuzTyFodj"
      },
      "source": [
        "criterion = torch.nn.BCELoss().to(device)\r\n",
        "optimizer = torch.optim.SGD(model.parameters(), lr=  1) "
      ],
      "execution_count": null,
      "outputs": []
    },
    {
      "cell_type": "code",
      "metadata": {
        "colab": {
          "base_uri": "https://localhost:8080/"
        },
        "id": "35IXJZjRFx-3",
        "outputId": "4d89ba65-7881-4a76-81e2-7bccb54daccc"
      },
      "source": [
        "for step in range(10001):\r\n",
        "  optimizer.zero_grad()\r\n",
        "  hypothesis = model(X)\r\n",
        "\r\n",
        "  cost = criterion(hypothesis, Y)\r\n",
        "  cost.backward()\r\n",
        "  optimizer.step()\r\n",
        "\r\n",
        "  if step % 100 == 0:\r\n",
        "    print(step, cost.item())"
      ],
      "execution_count": null,
      "outputs": [
        {
          "output_type": "stream",
          "text": [
            "0 0.6978083848953247\n",
            "100 0.6931105852127075\n",
            "200 0.6931019425392151\n",
            "300 0.6930922269821167\n",
            "400 0.6930808424949646\n",
            "500 0.6930676698684692\n",
            "600 0.6930519938468933\n",
            "700 0.69303297996521\n",
            "800 0.6930099129676819\n",
            "900 0.6929808855056763\n",
            "1000 0.6929439902305603\n",
            "1100 0.6928958296775818\n",
            "1200 0.6928311586380005\n",
            "1300 0.6927415132522583\n",
            "1400 0.6926121711730957\n",
            "1500 0.6924156546592712\n",
            "1600 0.6920979022979736\n",
            "1700 0.6915386319160461\n",
            "1800 0.6904336214065552\n",
            "1900 0.687838077545166\n",
            "2000 0.6797102093696594\n",
            "2100 0.640831708908081\n",
            "2200 0.5488755702972412\n",
            "2300 0.5083183646202087\n",
            "2400 0.487520694732666\n",
            "2500 0.2654830813407898\n",
            "2600 0.01980598270893097\n",
            "2700 0.0076642935164272785\n",
            "2800 0.004495769739151001\n",
            "2900 0.0031050737015902996\n",
            "3000 0.0023405496031045914\n",
            "3100 0.0018628910183906555\n",
            "3200 0.001538701937533915\n",
            "3300 0.00130547140724957\n",
            "3400 0.0011303576175123453\n",
            "3500 0.0009943852201104164\n",
            "3600 0.0008860535454005003\n",
            "3700 0.0007978220237419009\n",
            "3800 0.0007247194298543036\n",
            "3900 0.0006632232689298689\n",
            "4000 0.0006108561065047979\n",
            "4100 0.0005657230503857136\n",
            "4200 0.0005264811916276813\n",
            "4300 0.0004920564242638648\n",
            "4400 0.0004615984216798097\n",
            "4500 0.0004345403576735407\n",
            "4600 0.00041033036541193724\n",
            "4700 0.00038853593287058175\n",
            "4800 0.00036879914114251733\n",
            "4900 0.0003509260423015803\n",
            "5000 0.0003345587756484747\n",
            "5100 0.0003196228062734008\n",
            "5200 0.00030586463981308043\n",
            "5300 0.00029320965404622257\n",
            "5400 0.0002815087791532278\n",
            "5500 0.0002706576487980783\n",
            "5600 0.00026053699548356235\n",
            "5700 0.0002511617203708738\n",
            "5800 0.00024236779427155852\n",
            "5900 0.00023415524628944695\n",
            "6000 0.00022649421589449048\n",
            "6100 0.00021923570602666587\n",
            "6200 0.00021242436196189374\n",
            "6300 0.00020600059360731393\n",
            "6400 0.000199919639271684\n",
            "6500 0.00019418151350691915\n",
            "6600 0.000188771344255656\n",
            "6700 0.00018362945411354303\n",
            "6800 0.00017877077334560454\n",
            "6900 0.00017410586588084698\n",
            "7000 0.00016969433636404574\n",
            "7100 0.0001654616789892316\n",
            "7200 0.0001614674984011799\n",
            "7300 0.00015763725969009101\n",
            "7400 0.0001539560907986015\n",
            "7500 0.00015043886378407478\n",
            "7600 0.00014711539552081376\n",
            "7700 0.00014388136332854629\n",
            "7800 0.0001408112730132416\n",
            "7900 0.00013786042109131813\n",
            "8000 0.00013499900524038821\n",
            "8100 0.00013227169984020293\n",
            "8200 0.00012961894390173256\n",
            "8300 0.0001270854118047282\n",
            "8400 0.0001246711181011051\n",
            "8500 0.00012230152788106352\n",
            "8600 0.00012003626761725172\n",
            "8700 0.00011784553498728201\n",
            "8800 0.00011574421660043299\n",
            "8900 0.00011367270781192929\n",
            "9000 0.00011170552897965536\n",
            "9100 0.00010978305363096297\n",
            "9200 0.00010793510591611266\n",
            "9300 0.00010616167855914682\n",
            "9400 0.00010441805352456868\n",
            "9500 0.00010273404041072354\n",
            "9600 0.00010110964649356902\n",
            "9700 9.952995605999604e-05\n",
            "9800 9.800988482311368e-05\n",
            "9900 9.648980631027371e-05\n",
            "10000 9.504425543127581e-05\n"
          ],
          "name": "stdout"
        }
      ]
    },
    {
      "cell_type": "code",
      "metadata": {
        "colab": {
          "base_uri": "https://localhost:8080/"
        },
        "id": "B0JNFWyQF_Ko",
        "outputId": "ac75ccad-99f5-4fe0-fbfe-725a35208af5"
      },
      "source": [
        "with torch.no_grad():\r\n",
        "    hypothesis = model(X)\r\n",
        "    predicted = (hypothesis > 0.5).float()\r\n",
        "    accuracy = (predicted == Y).float().mean()\r\n",
        "    print('\\nHypothesis: ', hypothesis.detach().cpu().numpy(), '\\nCorrect: ', predicted.detach().cpu().numpy(), '\\nAccuracy: ', accuracy.item())"
      ],
      "execution_count": null,
      "outputs": [
        {
          "output_type": "stream",
          "text": [
            "\n",
            "Hypothesis:  [[7.5023585e-05]\n",
            " [9.9987984e-01]\n",
            " [9.9990344e-01]\n",
            " [8.8358938e-05]] \n",
            "Correct:  [[0.]\n",
            " [1.]\n",
            " [1.]\n",
            " [0.]] \n",
            "Accuracy:  1.0\n"
          ],
          "name": "stdout"
        }
      ]
    },
    {
      "cell_type": "markdown",
      "metadata": {
        "id": "xYC8O6_HGCpY"
      },
      "source": [
        "여기까지가 xor-nn-wide-deep"
      ]
    },
    {
      "cell_type": "code",
      "metadata": {
        "id": "Eio_mJkYGBst"
      },
      "source": [
        ""
      ],
      "execution_count": null,
      "outputs": []
    }
  ]
}