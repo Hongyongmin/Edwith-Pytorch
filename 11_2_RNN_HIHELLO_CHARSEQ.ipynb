{
  "nbformat": 4,
  "nbformat_minor": 0,
  "metadata": {
    "colab": {
      "name": "11_2 RNN_HIHELLO_CHARSEQ",
      "provenance": [],
      "authorship_tag": "ABX9TyNASNjmNhwmFtsViVnS0+ar",
      "include_colab_link": true
    },
    "kernelspec": {
      "name": "python3",
      "display_name": "Python 3"
    }
  },
  "cells": [
    {
      "cell_type": "markdown",
      "metadata": {
        "id": "view-in-github",
        "colab_type": "text"
      },
      "source": [
        "<a href=\"https://colab.research.google.com/github/Hongyongmin/Edwith-Pytorch/blob/main/11_2_RNN_HIHELLO_CHARSEQ.ipynb\" target=\"_parent\"><img src=\"https://colab.research.google.com/assets/colab-badge.svg\" alt=\"Open In Colab\"/></a>"
      ]
    },
    {
      "cell_type": "markdown",
      "metadata": {
        "id": "zHUKglTXGAHC"
      },
      "source": [
        "1. charseq"
      ]
    },
    {
      "cell_type": "code",
      "metadata": {
        "id": "FK7M5gA8F2K5"
      },
      "source": [
        "import torch\r\n",
        "import torch.optim as optim\r\n",
        "import numpy as np"
      ],
      "execution_count": 1,
      "outputs": []
    },
    {
      "cell_type": "code",
      "metadata": {
        "colab": {
          "base_uri": "https://localhost:8080/"
        },
        "id": "36FlY2R7GFPz",
        "outputId": "00e9e7e2-3620-4544-f5ba-cf150b946013"
      },
      "source": [
        "torch.manual_seed(0)"
      ],
      "execution_count": 2,
      "outputs": [
        {
          "output_type": "execute_result",
          "data": {
            "text/plain": [
              "<torch._C.Generator at 0x7fb911f14b70>"
            ]
          },
          "metadata": {
            "tags": []
          },
          "execution_count": 2
        }
      ]
    },
    {
      "cell_type": "code",
      "metadata": {
        "id": "IdoD4JGYGHPA"
      },
      "source": [
        "sample = \" if you want you\""
      ],
      "execution_count": 3,
      "outputs": []
    },
    {
      "cell_type": "code",
      "metadata": {
        "colab": {
          "base_uri": "https://localhost:8080/"
        },
        "id": "W0u2iK6NGKzE",
        "outputId": "e91b40cc-6d96-47a5-b0d4-47a4dd2de385"
      },
      "source": [
        "char_set = list(set(sample))\r\n",
        "char_dic = {c: i for i, c in enumerate(char_set)}\r\n",
        "print(char_dic)"
      ],
      "execution_count": 4,
      "outputs": [
        {
          "output_type": "stream",
          "text": [
            "{'f': 0, 'n': 1, 'o': 2, 'y': 3, ' ': 4, 'u': 5, 'i': 6, 'a': 7, 't': 8, 'w': 9}\n"
          ],
          "name": "stdout"
        }
      ]
    },
    {
      "cell_type": "code",
      "metadata": {
        "id": "hLb7ZAHXGSzx"
      },
      "source": [
        "dic_size = len(char_dic)\r\n",
        "hidden_size = len(char_dic)\r\n",
        "learatrning_e = 0.1"
      ],
      "execution_count": 5,
      "outputs": []
    },
    {
      "cell_type": "code",
      "metadata": {
        "id": "YDjgb1UEGaG8"
      },
      "source": [
        "sample_idx = [char_dic[c] for c in sample]\r\n",
        "x_data =[sample_idx[:-1]]\r\n",
        "x_one_hot = [np.eye(dic_size)[x] for x in x_data]\r\n",
        "y_data = [sample_idx[1:]]"
      ],
      "execution_count": 6,
      "outputs": []
    },
    {
      "cell_type": "code",
      "metadata": {
        "id": "8gX3OdDYGw9q"
      },
      "source": [
        "X = torch.FloatTensor(x_one_hot)\r\n",
        "Y = torch.LongTensor(y_data)"
      ],
      "execution_count": 7,
      "outputs": []
    },
    {
      "cell_type": "code",
      "metadata": {
        "id": "eCxjvaQZG0rF"
      },
      "source": [
        "rnn = torch.nn.RNN(dic_size, hidden_size, batch_first = True)"
      ],
      "execution_count": 8,
      "outputs": []
    },
    {
      "cell_type": "code",
      "metadata": {
        "id": "CJor-kcMG46R"
      },
      "source": [
        "criterion = torch.nn.CrossEntropyLoss()\r\n",
        "optimizer = optim.Adam(rnn.parameters(), learning_rate)"
      ],
      "execution_count": 9,
      "outputs": []
    },
    {
      "cell_type": "code",
      "metadata": {
        "colab": {
          "base_uri": "https://localhost:8080/"
        },
        "id": "4ZWlrz1EG_dR",
        "outputId": "ed347ae8-e3c7-4d51-96f3-8d0a8b2d5de6"
      },
      "source": [
        "for i in range(50):\r\n",
        "  optimizer.zero_grad()\r\n",
        "  outputs, _status = rnn(X)\r\n",
        "  loss = criterion(outputs.view(-1, dic_size), Y.view(-1))\r\n",
        "  loss.backward()\r\n",
        "  optimizer.step()\r\n",
        "\r\n",
        "  result = outputs.data.numpy().argmax(axis=2)\r\n",
        "  result_str = ''.join([char_set[c] for c in np.squeeze(result)])\r\n",
        "  print( i, \"loss: \", loss.item(), \"prediction: \", result, \"true Y: \", y_data, \"prediction str: \", result_str)"
      ],
      "execution_count": 10,
      "outputs": [
        {
          "output_type": "stream",
          "text": [
            "0 loss:  2.334223747253418 prediction:  [[5 7 5 7 7 8 7 7 6 1 8 7 7 7 8]] true Y:  [[6, 0, 4, 3, 2, 5, 4, 9, 7, 1, 8, 4, 3, 2, 5]] prediction str:  uauaataaintaaat\n",
            "1 loss:  2.013388156890869 prediction:  [[5 2 4 5 2 5 2 5 4 1 2 4 5 2 5]] true Y:  [[6, 0, 4, 3, 2, 5, 4, 9, 7, 1, 8, 4, 3, 2, 5]] prediction str:  uo uouou no uou\n",
            "2 loss:  1.783613920211792 prediction:  [[3 2 4 3 2 8 3 2 4 1 2 4 3 2 8]] true Y:  [[6, 0, 4, 3, 2, 5, 4, 9, 7, 1, 8, 4, 3, 2, 5]] prediction str:  yo yotyo no yot\n",
            "3 loss:  1.6623181104660034 prediction:  [[3 2 4 3 2 5 0 9 4 1 8 4 3 2 5]] true Y:  [[6, 0, 4, 3, 2, 5, 4, 9, 7, 1, 8, 4, 3, 2, 5]] prediction str:  yo youfw nt you\n",
            "4 loss:  1.5300287008285522 prediction:  [[3 2 4 3 2 5 0 9 4 3 8 4 3 2 5]] true Y:  [[6, 0, 4, 3, 2, 5, 4, 9, 7, 1, 8, 4, 3, 2, 5]] prediction str:  yo youfw yt you\n",
            "5 loss:  1.449404239654541 prediction:  [[3 2 4 3 2 5 4 3 7 3 8 4 3 2 5]] true Y:  [[6, 0, 4, 3, 2, 5, 4, 9, 7, 1, 8, 4, 3, 2, 5]] prediction str:  yo you yayt you\n",
            "6 loss:  1.3626515865325928 prediction:  [[3 2 4 3 2 5 4 3 7 3 8 4 3 2 5]] true Y:  [[6, 0, 4, 3, 2, 5, 4, 9, 7, 1, 8, 4, 3, 2, 5]] prediction str:  yo you yayt you\n",
            "7 loss:  1.310803771018982 prediction:  [[6 2 4 3 2 5 4 9 7 3 8 4 3 2 5]] true Y:  [[6, 0, 4, 3, 2, 5, 4, 9, 7, 1, 8, 4, 3, 2, 5]] prediction str:  io you wayt you\n",
            "8 loss:  1.2524605989456177 prediction:  [[6 2 4 3 2 5 4 9 7 3 8 4 3 2 5]] true Y:  [[6, 0, 4, 3, 2, 5, 4, 9, 7, 1, 8, 4, 3, 2, 5]] prediction str:  io you wayt you\n",
            "9 loss:  1.1927834749221802 prediction:  [[6 2 4 3 2 5 4 3 7 3 8 4 3 2 5]] true Y:  [[6, 0, 4, 3, 2, 5, 4, 9, 7, 1, 8, 4, 3, 2, 5]] prediction str:  io you yayt you\n",
            "10 loss:  1.1486343145370483 prediction:  [[6 2 4 3 2 5 4 3 7 3 8 4 3 2 5]] true Y:  [[6, 0, 4, 3, 2, 5, 4, 9, 7, 1, 8, 4, 3, 2, 5]] prediction str:  io you yayt you\n",
            "11 loss:  1.105998158454895 prediction:  [[6 2 4 3 2 5 4 3 7 3 2 4 3 2 5]] true Y:  [[6, 0, 4, 3, 2, 5, 4, 9, 7, 1, 8, 4, 3, 2, 5]] prediction str:  io you yayo you\n",
            "12 loss:  1.0690099000930786 prediction:  [[6 2 4 3 2 5 4 3 7 3 2 4 3 2 5]] true Y:  [[6, 0, 4, 3, 2, 5, 4, 9, 7, 1, 8, 4, 3, 2, 5]] prediction str:  io you yayo you\n",
            "13 loss:  1.0389825105667114 prediction:  [[6 2 4 3 2 5 4 3 7 3 2 4 3 2 5]] true Y:  [[6, 0, 4, 3, 2, 5, 4, 9, 7, 1, 8, 4, 3, 2, 5]] prediction str:  io you yayo you\n",
            "14 loss:  1.0132161378860474 prediction:  [[6 2 4 3 2 5 4 9 7 3 2 4 3 2 5]] true Y:  [[6, 0, 4, 3, 2, 5, 4, 9, 7, 1, 8, 4, 3, 2, 5]] prediction str:  io you wayo you\n",
            "15 loss:  0.9930994510650635 prediction:  [[6 0 4 3 2 5 4 9 7 3 2 4 3 2 5]] true Y:  [[6, 0, 4, 3, 2, 5, 4, 9, 7, 1, 8, 4, 3, 2, 5]] prediction str:  if you wayo you\n",
            "16 loss:  0.9736159443855286 prediction:  [[6 0 4 3 2 5 4 9 7 3 2 4 3 2 5]] true Y:  [[6, 0, 4, 3, 2, 5, 4, 9, 7, 1, 8, 4, 3, 2, 5]] prediction str:  if you wayo you\n",
            "17 loss:  0.958060622215271 prediction:  [[6 0 4 3 2 5 4 9 7 3 2 4 3 2 5]] true Y:  [[6, 0, 4, 3, 2, 5, 4, 9, 7, 1, 8, 4, 3, 2, 5]] prediction str:  if you wayo you\n",
            "18 loss:  0.9432380795478821 prediction:  [[6 0 4 3 2 5 4 9 7 1 2 4 3 2 5]] true Y:  [[6, 0, 4, 3, 2, 5, 4, 9, 7, 1, 8, 4, 3, 2, 5]] prediction str:  if you wano you\n",
            "19 loss:  0.935174286365509 prediction:  [[6 0 4 3 2 5 4 9 7 1 2 4 3 2 5]] true Y:  [[6, 0, 4, 3, 2, 5, 4, 9, 7, 1, 8, 4, 3, 2, 5]] prediction str:  if you wano you\n",
            "20 loss:  0.9282640218734741 prediction:  [[6 0 4 3 2 5 4 9 7 1 2 4 3 2 5]] true Y:  [[6, 0, 4, 3, 2, 5, 4, 9, 7, 1, 8, 4, 3, 2, 5]] prediction str:  if you wano you\n",
            "21 loss:  0.9191059470176697 prediction:  [[6 0 4 3 2 5 4 9 7 1 2 4 3 2 5]] true Y:  [[6, 0, 4, 3, 2, 5, 4, 9, 7, 1, 8, 4, 3, 2, 5]] prediction str:  if you wano you\n",
            "22 loss:  0.9113966822624207 prediction:  [[6 0 4 3 2 5 4 9 7 1 2 4 3 2 5]] true Y:  [[6, 0, 4, 3, 2, 5, 4, 9, 7, 1, 8, 4, 3, 2, 5]] prediction str:  if you wano you\n",
            "23 loss:  0.9049991965293884 prediction:  [[6 0 4 3 2 5 4 9 7 1 2 4 3 2 5]] true Y:  [[6, 0, 4, 3, 2, 5, 4, 9, 7, 1, 8, 4, 3, 2, 5]] prediction str:  if you wano you\n",
            "24 loss:  0.8985987901687622 prediction:  [[6 0 4 3 2 5 4 9 7 1 2 4 3 2 5]] true Y:  [[6, 0, 4, 3, 2, 5, 4, 9, 7, 1, 8, 4, 3, 2, 5]] prediction str:  if you wano you\n",
            "25 loss:  0.892954409122467 prediction:  [[6 0 4 3 2 5 4 9 7 1 2 4 3 2 5]] true Y:  [[6, 0, 4, 3, 2, 5, 4, 9, 7, 1, 8, 4, 3, 2, 5]] prediction str:  if you wano you\n",
            "26 loss:  0.8878755569458008 prediction:  [[6 0 4 3 2 5 4 9 7 1 2 4 3 2 5]] true Y:  [[6, 0, 4, 3, 2, 5, 4, 9, 7, 1, 8, 4, 3, 2, 5]] prediction str:  if you wano you\n",
            "27 loss:  0.8824697732925415 prediction:  [[6 0 4 3 2 5 4 9 7 1 2 4 3 2 5]] true Y:  [[6, 0, 4, 3, 2, 5, 4, 9, 7, 1, 8, 4, 3, 2, 5]] prediction str:  if you wano you\n",
            "28 loss:  0.876658022403717 prediction:  [[6 0 4 3 2 5 4 9 7 1 2 4 3 2 5]] true Y:  [[6, 0, 4, 3, 2, 5, 4, 9, 7, 1, 8, 4, 3, 2, 5]] prediction str:  if you wano you\n",
            "29 loss:  0.8716993927955627 prediction:  [[6 0 4 3 2 5 4 9 7 1 2 4 3 2 5]] true Y:  [[6, 0, 4, 3, 2, 5, 4, 9, 7, 1, 8, 4, 3, 2, 5]] prediction str:  if you wano you\n",
            "30 loss:  0.8675475716590881 prediction:  [[6 0 4 3 2 5 4 9 7 1 2 4 3 2 5]] true Y:  [[6, 0, 4, 3, 2, 5, 4, 9, 7, 1, 8, 4, 3, 2, 5]] prediction str:  if you wano you\n",
            "31 loss:  0.8630988001823425 prediction:  [[6 0 4 3 2 5 4 9 7 1 2 4 3 2 5]] true Y:  [[6, 0, 4, 3, 2, 5, 4, 9, 7, 1, 8, 4, 3, 2, 5]] prediction str:  if you wano you\n",
            "32 loss:  0.85908043384552 prediction:  [[6 0 4 3 2 5 4 9 7 1 2 4 3 2 5]] true Y:  [[6, 0, 4, 3, 2, 5, 4, 9, 7, 1, 8, 4, 3, 2, 5]] prediction str:  if you wano you\n",
            "33 loss:  0.8556289672851562 prediction:  [[6 0 4 3 2 5 4 9 7 1 2 4 3 2 5]] true Y:  [[6, 0, 4, 3, 2, 5, 4, 9, 7, 1, 8, 4, 3, 2, 5]] prediction str:  if you wano you\n",
            "34 loss:  0.8528255224227905 prediction:  [[6 0 4 3 2 5 4 9 7 1 8 4 3 2 5]] true Y:  [[6, 0, 4, 3, 2, 5, 4, 9, 7, 1, 8, 4, 3, 2, 5]] prediction str:  if you want you\n",
            "35 loss:  0.850802481174469 prediction:  [[6 0 4 3 2 5 4 9 7 1 8 4 3 2 5]] true Y:  [[6, 0, 4, 3, 2, 5, 4, 9, 7, 1, 8, 4, 3, 2, 5]] prediction str:  if you want you\n",
            "36 loss:  0.8491315245628357 prediction:  [[6 0 4 3 2 5 4 9 7 1 8 4 3 2 5]] true Y:  [[6, 0, 4, 3, 2, 5, 4, 9, 7, 1, 8, 4, 3, 2, 5]] prediction str:  if you want you\n",
            "37 loss:  0.8472856283187866 prediction:  [[6 0 4 3 2 5 4 9 7 1 8 4 3 2 5]] true Y:  [[6, 0, 4, 3, 2, 5, 4, 9, 7, 1, 8, 4, 3, 2, 5]] prediction str:  if you want you\n",
            "38 loss:  0.8452011942863464 prediction:  [[6 0 4 3 2 5 4 9 7 1 8 4 3 2 5]] true Y:  [[6, 0, 4, 3, 2, 5, 4, 9, 7, 1, 8, 4, 3, 2, 5]] prediction str:  if you want you\n",
            "39 loss:  0.8431459069252014 prediction:  [[6 0 4 3 2 5 4 9 7 1 8 4 3 2 5]] true Y:  [[6, 0, 4, 3, 2, 5, 4, 9, 7, 1, 8, 4, 3, 2, 5]] prediction str:  if you want you\n",
            "40 loss:  0.8409205675125122 prediction:  [[6 0 4 3 2 5 4 9 7 1 8 4 3 2 5]] true Y:  [[6, 0, 4, 3, 2, 5, 4, 9, 7, 1, 8, 4, 3, 2, 5]] prediction str:  if you want you\n",
            "41 loss:  0.8376874327659607 prediction:  [[6 0 4 3 2 5 4 9 7 1 8 4 3 2 5]] true Y:  [[6, 0, 4, 3, 2, 5, 4, 9, 7, 1, 8, 4, 3, 2, 5]] prediction str:  if you want you\n",
            "42 loss:  0.8333455324172974 prediction:  [[6 0 4 3 2 5 4 9 7 1 8 4 3 2 5]] true Y:  [[6, 0, 4, 3, 2, 5, 4, 9, 7, 1, 8, 4, 3, 2, 5]] prediction str:  if you want you\n",
            "43 loss:  0.8286548256874084 prediction:  [[6 0 4 3 2 5 4 9 7 1 8 4 3 2 5]] true Y:  [[6, 0, 4, 3, 2, 5, 4, 9, 7, 1, 8, 4, 3, 2, 5]] prediction str:  if you want you\n",
            "44 loss:  0.8250692486763 prediction:  [[6 0 4 3 2 5 4 9 7 1 8 4 3 2 5]] true Y:  [[6, 0, 4, 3, 2, 5, 4, 9, 7, 1, 8, 4, 3, 2, 5]] prediction str:  if you want you\n",
            "45 loss:  0.8231088519096375 prediction:  [[6 0 4 3 2 5 4 9 7 1 8 4 3 2 5]] true Y:  [[6, 0, 4, 3, 2, 5, 4, 9, 7, 1, 8, 4, 3, 2, 5]] prediction str:  if you want you\n",
            "46 loss:  0.8221089839935303 prediction:  [[6 0 4 3 2 5 4 9 7 1 8 4 3 2 5]] true Y:  [[6, 0, 4, 3, 2, 5, 4, 9, 7, 1, 8, 4, 3, 2, 5]] prediction str:  if you want you\n",
            "47 loss:  0.8215035200119019 prediction:  [[6 0 4 3 2 5 4 9 7 1 8 4 3 2 5]] true Y:  [[6, 0, 4, 3, 2, 5, 4, 9, 7, 1, 8, 4, 3, 2, 5]] prediction str:  if you want you\n",
            "48 loss:  0.8207876086235046 prediction:  [[6 0 4 3 2 5 4 9 7 1 8 4 3 2 5]] true Y:  [[6, 0, 4, 3, 2, 5, 4, 9, 7, 1, 8, 4, 3, 2, 5]] prediction str:  if you want you\n",
            "49 loss:  0.8198952078819275 prediction:  [[6 0 4 3 2 5 4 9 7 1 8 4 3 2 5]] true Y:  [[6, 0, 4, 3, 2, 5, 4, 9, 7, 1, 8, 4, 3, 2, 5]] prediction str:  if you want you\n"
          ],
          "name": "stdout"
        }
      ]
    },
    {
      "cell_type": "markdown",
      "metadata": {
        "id": "je9UTNHfICF7"
      },
      "source": [
        "2. hihello"
      ]
    },
    {
      "cell_type": "code",
      "metadata": {
        "id": "UL9WeJCKHi2H"
      },
      "source": [
        "import torch\r\n",
        "import torch.optim as optim\r\n",
        "import numpy as np"
      ],
      "execution_count": 11,
      "outputs": []
    },
    {
      "cell_type": "code",
      "metadata": {
        "colab": {
          "base_uri": "https://localhost:8080/"
        },
        "id": "TK1wtur4IIeD",
        "outputId": "0e4376f4-d847-4a7d-8a45-7307bac5ae24"
      },
      "source": [
        "torch.manual_seed(0)"
      ],
      "execution_count": 12,
      "outputs": [
        {
          "output_type": "execute_result",
          "data": {
            "text/plain": [
              "<torch._C.Generator at 0x7fb911f14b70>"
            ]
          },
          "metadata": {
            "tags": []
          },
          "execution_count": 12
        }
      ]
    },
    {
      "cell_type": "code",
      "metadata": {
        "id": "cpIgc0UTIKQ_"
      },
      "source": [
        "char_set = ['h','i','e','l','o']"
      ],
      "execution_count": 13,
      "outputs": []
    },
    {
      "cell_type": "code",
      "metadata": {
        "id": "3qYCB5OUIOrT"
      },
      "source": [
        "input_size = len(char_set)\r\n",
        "hidden_size = len(char_set)\r\n",
        "learning_rate = 0.1"
      ],
      "execution_count": 14,
      "outputs": []
    },
    {
      "cell_type": "code",
      "metadata": {
        "id": "igV17CN8IUht"
      },
      "source": [
        "x_data = [[0,1,0,2,3,3]]\r\n",
        "x_one_hot = [[[1,0,0,0,0],\r\n",
        "             [0,1,0,0,0],\r\n",
        "             [1,0,0,0,0],\r\n",
        "             [0,0,1,0,0],\r\n",
        "             [0,0,0,1,0],\r\n",
        "             [0,0,0,0,1]]]\r\n",
        "y_data = [[1,0,2,3,3,4]]"
      ],
      "execution_count": 29,
      "outputs": []
    },
    {
      "cell_type": "code",
      "metadata": {
        "id": "rCCS7p1FIlJn"
      },
      "source": [
        "X = torch.FloatTensor(x_one_hot)\r\n",
        "Y = torch.LongTensor(y_data)"
      ],
      "execution_count": 30,
      "outputs": []
    },
    {
      "cell_type": "code",
      "metadata": {
        "id": "2ODqBJYLIsTC"
      },
      "source": [
        "rnn = torch.nn.RNN(input_size, hidden_size, batch_first=True)"
      ],
      "execution_count": 31,
      "outputs": []
    },
    {
      "cell_type": "code",
      "metadata": {
        "id": "Rxtsz94uIx_y"
      },
      "source": [
        "criterion = torch.nn.CrossEntropyLoss()\r\n",
        "optimizer = optim.Adam(rnn.parameters(), learning_rate)"
      ],
      "execution_count": 32,
      "outputs": []
    },
    {
      "cell_type": "code",
      "metadata": {
        "colab": {
          "base_uri": "https://localhost:8080/"
        },
        "id": "tS8r1UyLI3uE",
        "outputId": "5d7310b5-6778-46eb-e8ab-d44553561e25"
      },
      "source": [
        "for i in range(100):\r\n",
        "  optimizer.zero_grad()\r\n",
        "  outputs, _status = rnn(X)\r\n",
        "  loss = criterion(outputs.view(-1, input_size), Y.view(-1))\r\n",
        "  loss.backward()\r\n",
        "  optimizer.step()\r\n",
        "\r\n",
        "  result = outputs.data.numpy().argmax(axis=2)\r\n",
        "  result_str = ''.join([char_set[c]for c in np.squeeze(result)])\r\n",
        "  print(i, \"loss: \", loss.item(), \"prediction: \", result, \"true Y: \", y_data, \"prediction str: \", result_str)"
      ],
      "execution_count": 33,
      "outputs": [
        {
          "output_type": "stream",
          "text": [
            "0 loss:  1.685320258140564 prediction:  [[0 0 0 3 0 3]] true Y:  [[1, 0, 2, 3, 3, 4]] prediction str:  hhhlhl\n",
            "1 loss:  1.5179929733276367 prediction:  [[3 3 3 3 3 3]] true Y:  [[1, 0, 2, 3, 3, 4]] prediction str:  llllll\n",
            "2 loss:  1.3531675338745117 prediction:  [[3 0 3 3 3 3]] true Y:  [[1, 0, 2, 3, 3, 4]] prediction str:  lhllll\n",
            "3 loss:  1.218550205230713 prediction:  [[1 0 2 3 3 2]] true Y:  [[1, 0, 2, 3, 3, 4]] prediction str:  ihelle\n",
            "4 loss:  1.121437907218933 prediction:  [[1 0 2 3 3 1]] true Y:  [[1, 0, 2, 3, 3, 4]] prediction str:  ihelli\n",
            "5 loss:  1.0360779762268066 prediction:  [[1 0 2 3 3 1]] true Y:  [[1, 0, 2, 3, 3, 4]] prediction str:  ihelli\n",
            "6 loss:  0.9573176503181458 prediction:  [[1 0 2 3 3 3]] true Y:  [[1, 0, 2, 3, 3, 4]] prediction str:  ihelll\n",
            "7 loss:  0.9040170311927795 prediction:  [[1 0 2 3 3 3]] true Y:  [[1, 0, 2, 3, 3, 4]] prediction str:  ihelll\n",
            "8 loss:  0.8612894415855408 prediction:  [[1 0 2 3 3 3]] true Y:  [[1, 0, 2, 3, 3, 4]] prediction str:  ihelll\n",
            "9 loss:  0.8219487071037292 prediction:  [[1 0 2 3 3 3]] true Y:  [[1, 0, 2, 3, 3, 4]] prediction str:  ihelll\n",
            "10 loss:  0.7747695446014404 prediction:  [[1 0 2 3 3 4]] true Y:  [[1, 0, 2, 3, 3, 4]] prediction str:  ihello\n",
            "11 loss:  0.6972870230674744 prediction:  [[1 0 2 3 3 4]] true Y:  [[1, 0, 2, 3, 3, 4]] prediction str:  ihello\n",
            "12 loss:  0.6353719830513 prediction:  [[1 0 2 3 3 4]] true Y:  [[1, 0, 2, 3, 3, 4]] prediction str:  ihello\n",
            "13 loss:  0.611042320728302 prediction:  [[1 0 2 3 3 4]] true Y:  [[1, 0, 2, 3, 3, 4]] prediction str:  ihello\n",
            "14 loss:  0.5950679183006287 prediction:  [[1 0 2 3 3 4]] true Y:  [[1, 0, 2, 3, 3, 4]] prediction str:  ihello\n",
            "15 loss:  0.5803261399269104 prediction:  [[1 0 2 3 3 4]] true Y:  [[1, 0, 2, 3, 3, 4]] prediction str:  ihello\n",
            "16 loss:  0.5655441880226135 prediction:  [[1 0 2 3 3 4]] true Y:  [[1, 0, 2, 3, 3, 4]] prediction str:  ihello\n",
            "17 loss:  0.5505551695823669 prediction:  [[1 0 2 3 3 4]] true Y:  [[1, 0, 2, 3, 3, 4]] prediction str:  ihello\n",
            "18 loss:  0.534929633140564 prediction:  [[1 0 2 3 3 4]] true Y:  [[1, 0, 2, 3, 3, 4]] prediction str:  ihello\n",
            "19 loss:  0.5183687806129456 prediction:  [[1 0 2 3 3 4]] true Y:  [[1, 0, 2, 3, 3, 4]] prediction str:  ihello\n",
            "20 loss:  0.5024189352989197 prediction:  [[1 0 2 3 3 4]] true Y:  [[1, 0, 2, 3, 3, 4]] prediction str:  ihello\n",
            "21 loss:  0.4904538094997406 prediction:  [[1 0 2 3 3 4]] true Y:  [[1, 0, 2, 3, 3, 4]] prediction str:  ihello\n",
            "22 loss:  0.4824150502681732 prediction:  [[1 0 2 3 3 4]] true Y:  [[1, 0, 2, 3, 3, 4]] prediction str:  ihello\n",
            "23 loss:  0.4754760265350342 prediction:  [[1 0 2 3 3 4]] true Y:  [[1, 0, 2, 3, 3, 4]] prediction str:  ihello\n",
            "24 loss:  0.4691251814365387 prediction:  [[1 0 2 3 3 4]] true Y:  [[1, 0, 2, 3, 3, 4]] prediction str:  ihello\n",
            "25 loss:  0.46403345465660095 prediction:  [[1 0 2 3 3 4]] true Y:  [[1, 0, 2, 3, 3, 4]] prediction str:  ihello\n",
            "26 loss:  0.4603993594646454 prediction:  [[1 0 2 3 3 4]] true Y:  [[1, 0, 2, 3, 3, 4]] prediction str:  ihello\n",
            "27 loss:  0.45791295170783997 prediction:  [[1 0 2 3 3 4]] true Y:  [[1, 0, 2, 3, 3, 4]] prediction str:  ihello\n",
            "28 loss:  0.45609164237976074 prediction:  [[1 0 2 3 3 4]] true Y:  [[1, 0, 2, 3, 3, 4]] prediction str:  ihello\n",
            "29 loss:  0.4545036852359772 prediction:  [[1 0 2 3 3 4]] true Y:  [[1, 0, 2, 3, 3, 4]] prediction str:  ihello\n",
            "30 loss:  0.45288148522377014 prediction:  [[1 0 2 3 3 4]] true Y:  [[1, 0, 2, 3, 3, 4]] prediction str:  ihello\n",
            "31 loss:  0.45114755630493164 prediction:  [[1 0 2 3 3 4]] true Y:  [[1, 0, 2, 3, 3, 4]] prediction str:  ihello\n",
            "32 loss:  0.44936347007751465 prediction:  [[1 0 2 3 3 4]] true Y:  [[1, 0, 2, 3, 3, 4]] prediction str:  ihello\n",
            "33 loss:  0.44764217734336853 prediction:  [[1 0 2 3 3 4]] true Y:  [[1, 0, 2, 3, 3, 4]] prediction str:  ihello\n",
            "34 loss:  0.4460792541503906 prediction:  [[1 0 2 3 3 4]] true Y:  [[1, 0, 2, 3, 3, 4]] prediction str:  ihello\n",
            "35 loss:  0.44472536444664 prediction:  [[1 0 2 3 3 4]] true Y:  [[1, 0, 2, 3, 3, 4]] prediction str:  ihello\n",
            "36 loss:  0.44358882308006287 prediction:  [[1 0 2 3 3 4]] true Y:  [[1, 0, 2, 3, 3, 4]] prediction str:  ihello\n",
            "37 loss:  0.4426506459712982 prediction:  [[1 0 2 3 3 4]] true Y:  [[1, 0, 2, 3, 3, 4]] prediction str:  ihello\n",
            "38 loss:  0.4418788254261017 prediction:  [[1 0 2 3 3 4]] true Y:  [[1, 0, 2, 3, 3, 4]] prediction str:  ihello\n",
            "39 loss:  0.44123777747154236 prediction:  [[1 0 2 3 3 4]] true Y:  [[1, 0, 2, 3, 3, 4]] prediction str:  ihello\n",
            "40 loss:  0.440693736076355 prediction:  [[1 0 2 3 3 4]] true Y:  [[1, 0, 2, 3, 3, 4]] prediction str:  ihello\n",
            "41 loss:  0.4402190148830414 prediction:  [[1 0 2 3 3 4]] true Y:  [[1, 0, 2, 3, 3, 4]] prediction str:  ihello\n",
            "42 loss:  0.43979230523109436 prediction:  [[1 0 2 3 3 4]] true Y:  [[1, 0, 2, 3, 3, 4]] prediction str:  ihello\n",
            "43 loss:  0.43939992785453796 prediction:  [[1 0 2 3 3 4]] true Y:  [[1, 0, 2, 3, 3, 4]] prediction str:  ihello\n",
            "44 loss:  0.43903419375419617 prediction:  [[1 0 2 3 3 4]] true Y:  [[1, 0, 2, 3, 3, 4]] prediction str:  ihello\n",
            "45 loss:  0.4386920928955078 prediction:  [[1 0 2 3 3 4]] true Y:  [[1, 0, 2, 3, 3, 4]] prediction str:  ihello\n",
            "46 loss:  0.4383736848831177 prediction:  [[1 0 2 3 3 4]] true Y:  [[1, 0, 2, 3, 3, 4]] prediction str:  ihello\n",
            "47 loss:  0.43807995319366455 prediction:  [[1 0 2 3 3 4]] true Y:  [[1, 0, 2, 3, 3, 4]] prediction str:  ihello\n",
            "48 loss:  0.43781206011772156 prediction:  [[1 0 2 3 3 4]] true Y:  [[1, 0, 2, 3, 3, 4]] prediction str:  ihello\n",
            "49 loss:  0.43757012486457825 prediction:  [[1 0 2 3 3 4]] true Y:  [[1, 0, 2, 3, 3, 4]] prediction str:  ihello\n",
            "50 loss:  0.4373537003993988 prediction:  [[1 0 2 3 3 4]] true Y:  [[1, 0, 2, 3, 3, 4]] prediction str:  ihello\n",
            "51 loss:  0.4371611177921295 prediction:  [[1 0 2 3 3 4]] true Y:  [[1, 0, 2, 3, 3, 4]] prediction str:  ihello\n",
            "52 loss:  0.43699023127555847 prediction:  [[1 0 2 3 3 4]] true Y:  [[1, 0, 2, 3, 3, 4]] prediction str:  ihello\n",
            "53 loss:  0.43683841824531555 prediction:  [[1 0 2 3 3 4]] true Y:  [[1, 0, 2, 3, 3, 4]] prediction str:  ihello\n",
            "54 loss:  0.4367029666900635 prediction:  [[1 0 2 3 3 4]] true Y:  [[1, 0, 2, 3, 3, 4]] prediction str:  ihello\n",
            "55 loss:  0.4365811347961426 prediction:  [[1 0 2 3 3 4]] true Y:  [[1, 0, 2, 3, 3, 4]] prediction str:  ihello\n",
            "56 loss:  0.43647050857543945 prediction:  [[1 0 2 3 3 4]] true Y:  [[1, 0, 2, 3, 3, 4]] prediction str:  ihello\n",
            "57 loss:  0.4363689124584198 prediction:  [[1 0 2 3 3 4]] true Y:  [[1, 0, 2, 3, 3, 4]] prediction str:  ihello\n",
            "58 loss:  0.4362744390964508 prediction:  [[1 0 2 3 3 4]] true Y:  [[1, 0, 2, 3, 3, 4]] prediction str:  ihello\n",
            "59 loss:  0.4361858367919922 prediction:  [[1 0 2 3 3 4]] true Y:  [[1, 0, 2, 3, 3, 4]] prediction str:  ihello\n",
            "60 loss:  0.43610188364982605 prediction:  [[1 0 2 3 3 4]] true Y:  [[1, 0, 2, 3, 3, 4]] prediction str:  ihello\n",
            "61 loss:  0.43602192401885986 prediction:  [[1 0 2 3 3 4]] true Y:  [[1, 0, 2, 3, 3, 4]] prediction str:  ihello\n",
            "62 loss:  0.4359454810619354 prediction:  [[1 0 2 3 3 4]] true Y:  [[1, 0, 2, 3, 3, 4]] prediction str:  ihello\n",
            "63 loss:  0.43587228655815125 prediction:  [[1 0 2 3 3 4]] true Y:  [[1, 0, 2, 3, 3, 4]] prediction str:  ihello\n",
            "64 loss:  0.4358021020889282 prediction:  [[1 0 2 3 3 4]] true Y:  [[1, 0, 2, 3, 3, 4]] prediction str:  ihello\n",
            "65 loss:  0.43573498725891113 prediction:  [[1 0 2 3 3 4]] true Y:  [[1, 0, 2, 3, 3, 4]] prediction str:  ihello\n",
            "66 loss:  0.4356708824634552 prediction:  [[1 0 2 3 3 4]] true Y:  [[1, 0, 2, 3, 3, 4]] prediction str:  ihello\n",
            "67 loss:  0.43560990691185 prediction:  [[1 0 2 3 3 4]] true Y:  [[1, 0, 2, 3, 3, 4]] prediction str:  ihello\n",
            "68 loss:  0.43555188179016113 prediction:  [[1 0 2 3 3 4]] true Y:  [[1, 0, 2, 3, 3, 4]] prediction str:  ihello\n",
            "69 loss:  0.43549680709838867 prediction:  [[1 0 2 3 3 4]] true Y:  [[1, 0, 2, 3, 3, 4]] prediction str:  ihello\n",
            "70 loss:  0.4354446828365326 prediction:  [[1 0 2 3 3 4]] true Y:  [[1, 0, 2, 3, 3, 4]] prediction str:  ihello\n",
            "71 loss:  0.435395210981369 prediction:  [[1 0 2 3 3 4]] true Y:  [[1, 0, 2, 3, 3, 4]] prediction str:  ihello\n",
            "72 loss:  0.43534836173057556 prediction:  [[1 0 2 3 3 4]] true Y:  [[1, 0, 2, 3, 3, 4]] prediction str:  ihello\n",
            "73 loss:  0.43530380725860596 prediction:  [[1 0 2 3 3 4]] true Y:  [[1, 0, 2, 3, 3, 4]] prediction str:  ihello\n",
            "74 loss:  0.43526148796081543 prediction:  [[1 0 2 3 3 4]] true Y:  [[1, 0, 2, 3, 3, 4]] prediction str:  ihello\n",
            "75 loss:  0.4352211058139801 prediction:  [[1 0 2 3 3 4]] true Y:  [[1, 0, 2, 3, 3, 4]] prediction str:  ihello\n",
            "76 loss:  0.43518248200416565 prediction:  [[1 0 2 3 3 4]] true Y:  [[1, 0, 2, 3, 3, 4]] prediction str:  ihello\n",
            "77 loss:  0.4351454973220825 prediction:  [[1 0 2 3 3 4]] true Y:  [[1, 0, 2, 3, 3, 4]] prediction str:  ihello\n",
            "78 loss:  0.435109943151474 prediction:  [[1 0 2 3 3 4]] true Y:  [[1, 0, 2, 3, 3, 4]] prediction str:  ihello\n",
            "79 loss:  0.4350755512714386 prediction:  [[1 0 2 3 3 4]] true Y:  [[1, 0, 2, 3, 3, 4]] prediction str:  ihello\n",
            "80 loss:  0.4350423812866211 prediction:  [[1 0 2 3 3 4]] true Y:  [[1, 0, 2, 3, 3, 4]] prediction str:  ihello\n",
            "81 loss:  0.4350101947784424 prediction:  [[1 0 2 3 3 4]] true Y:  [[1, 0, 2, 3, 3, 4]] prediction str:  ihello\n",
            "82 loss:  0.43497899174690247 prediction:  [[1 0 2 3 3 4]] true Y:  [[1, 0, 2, 3, 3, 4]] prediction str:  ihello\n",
            "83 loss:  0.434948593378067 prediction:  [[1 0 2 3 3 4]] true Y:  [[1, 0, 2, 3, 3, 4]] prediction str:  ihello\n",
            "84 loss:  0.4349190294742584 prediction:  [[1 0 2 3 3 4]] true Y:  [[1, 0, 2, 3, 3, 4]] prediction str:  ihello\n",
            "85 loss:  0.4348902702331543 prediction:  [[1 0 2 3 3 4]] true Y:  [[1, 0, 2, 3, 3, 4]] prediction str:  ihello\n",
            "86 loss:  0.43486228585243225 prediction:  [[1 0 2 3 3 4]] true Y:  [[1, 0, 2, 3, 3, 4]] prediction str:  ihello\n",
            "87 loss:  0.43483495712280273 prediction:  [[1 0 2 3 3 4]] true Y:  [[1, 0, 2, 3, 3, 4]] prediction str:  ihello\n",
            "88 loss:  0.43480828404426575 prediction:  [[1 0 2 3 3 4]] true Y:  [[1, 0, 2, 3, 3, 4]] prediction str:  ihello\n",
            "89 loss:  0.4347822964191437 prediction:  [[1 0 2 3 3 4]] true Y:  [[1, 0, 2, 3, 3, 4]] prediction str:  ihello\n",
            "90 loss:  0.4347570240497589 prediction:  [[1 0 2 3 3 4]] true Y:  [[1, 0, 2, 3, 3, 4]] prediction str:  ihello\n",
            "91 loss:  0.4347324073314667 prediction:  [[1 0 2 3 3 4]] true Y:  [[1, 0, 2, 3, 3, 4]] prediction str:  ihello\n",
            "92 loss:  0.4347083270549774 prediction:  [[1 0 2 3 3 4]] true Y:  [[1, 0, 2, 3, 3, 4]] prediction str:  ihello\n",
            "93 loss:  0.43468475341796875 prediction:  [[1 0 2 3 3 4]] true Y:  [[1, 0, 2, 3, 3, 4]] prediction str:  ihello\n",
            "94 loss:  0.4346618950366974 prediction:  [[1 0 2 3 3 4]] true Y:  [[1, 0, 2, 3, 3, 4]] prediction str:  ihello\n",
            "95 loss:  0.4346395432949066 prediction:  [[1 0 2 3 3 4]] true Y:  [[1, 0, 2, 3, 3, 4]] prediction str:  ihello\n",
            "96 loss:  0.4346176087856293 prediction:  [[1 0 2 3 3 4]] true Y:  [[1, 0, 2, 3, 3, 4]] prediction str:  ihello\n",
            "97 loss:  0.4345962703227997 prediction:  [[1 0 2 3 3 4]] true Y:  [[1, 0, 2, 3, 3, 4]] prediction str:  ihello\n",
            "98 loss:  0.4345754384994507 prediction:  [[1 0 2 3 3 4]] true Y:  [[1, 0, 2, 3, 3, 4]] prediction str:  ihello\n",
            "99 loss:  0.43455496430397034 prediction:  [[1 0 2 3 3 4]] true Y:  [[1, 0, 2, 3, 3, 4]] prediction str:  ihello\n"
          ],
          "name": "stdout"
        }
      ]
    },
    {
      "cell_type": "code",
      "metadata": {
        "id": "DeAmgOJ3JXwb"
      },
      "source": [
        ""
      ],
      "execution_count": null,
      "outputs": []
    }
  ]
}